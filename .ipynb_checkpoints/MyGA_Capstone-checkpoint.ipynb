{
 "cells": [
  {
   "cell_type": "code",
   "execution_count": 3,
   "metadata": {
    "collapsed": true
   },
   "outputs": [],
   "source": [
    "#STEP: IMPORTS\n",
    "\n",
    "#import json\n",
    "import pandas as pd\n",
    "import numpy as np\n",
    "import sqlite3\n",
    "from pandas.io import sql\n",
    "import cPickle as pickle\n",
    "import scipy.sparse\n",
    "from operator import itemgetter\n",
    "from pprint import pprint\n",
    "from time import time\n",
    "\n",
    "import matplotlib.pyplot as plt\n",
    "import seaborn as sns\n",
    "sns.set(style=\"darkgrid\")\n",
    "import pprint \n",
    "pp = pprint.PrettyPrinter(depth=6)\n",
    "from wordcloud import WordCloud\n",
    "from PIL import Image\n",
    "import cv2\n",
    "\n",
    "from textblob import TextBlob, Word\n",
    "from langdetect import detect\n",
    "\n",
    "from sklearn.model_selection import train_test_split\n",
    "from sklearn.feature_extraction.text import CountVectorizer, TfidfVectorizer\n",
    "from sklearn.pipeline import Pipeline\n",
    "from sklearn.pipeline import make_pipeline\n",
    "from sklearn.naive_bayes import MultinomialNB\n",
    "from sklearn.linear_model import LogisticRegression\n",
    "from sklearn.neighbors import KNeighborsClassifier\n",
    "from sklearn.tree import DecisionTreeClassifier\n",
    "from sklearn.svm import SVC\n",
    "from sklearn.ensemble import RandomForestClassifier, ExtraTreesClassifier\n",
    "from sklearn.metrics import confusion_matrix, accuracy_score, classification_report\n",
    "from sklearn.model_selection import GridSearchCV\n",
    "from sklearn.feature_extraction.text import ENGLISH_STOP_WORDS\n",
    "from sklearn.metrics import roc_curve, auc\n",
    "\n",
    "\n"
   ]
  },
  {
   "cell_type": "markdown",
   "metadata": {},
   "source": [
    "### DATA PREP / EXPLORATION AND CLEANING"
   ]
  },
  {
   "cell_type": "markdown",
   "metadata": {},
   "source": [
    "i'll be using two files from the yelp datasets that are available; business & review"
   ]
  },
  {
   "cell_type": "markdown",
   "metadata": {},
   "source": [
    "##### Data Dictionary"
   ]
  },
  {
   "cell_type": "code",
   "execution_count": 1,
   "metadata": {},
   "outputs": [],
   "source": [
    "#reviews file\n",
    "\"Contains full review text data including the user_id that wrote the review and the business_id the review is written for.\"\n",
    "data_dict_reviews = {'review_id': '22 character unique review id',\n",
    "            'user_id': '22 character unique user id, maps to other yelp file; user(may not yet be used)', \n",
    "            'business_id': '22 character unique user id, maps to other yelp file; business(may not yet be used)',\n",
    "            'stars': 'star rating',\n",
    "            'date': 'date formatted YYYY-MM-DD',\n",
    "            'text': 'the review itself, user input freetext',\n",
    "            'useful': 'number of useful votes received',\n",
    "            'funny': 'number of funny votes received',\n",
    "            'cool': 'number of cool votes received'}\n",
    "\n",
    "#business file\n",
    "\"Contains business data including location data, attributes, and categories.\"\n",
    "data_dict_business = {'business_id': '22 character unique string business id',\n",
    "            'name': 'the business name', \n",
    "            'neighborhood': 'the neighborhood name where the business is located',\n",
    "            'address': 'the full address of the business',\n",
    "            'city': 'the city name where the business is located',\n",
    "            'state': '2 character state code,',\n",
    "            'postal code': 'the postal code',\n",
    "            'latitude': 'latitude of business location',\n",
    "            'longitude': 'longitude of business location',\n",
    "            'stars': 'star rating, rounded to half-stars',\n",
    "            'review_count': 'number of reviews',\n",
    "            'is_open': '0 or 1 for closed or open, respectively',\n",
    "            'attributes': 'dictionary of business attributes to values. e.g. {\"garage\": false}',\n",
    "            'categories': 'an array of strings of business categories',\n",
    "            'hours': 'an object of key day to value hours, hours are using a 24hr clock'}"
   ]
  },
  {
   "cell_type": "code",
   "execution_count": null,
   "metadata": {
    "collapsed": true
   },
   "outputs": [],
   "source": [
    "#READ in JSONL IN AS PD.. (TAKES A WHILE)\n",
    "    #the files are actually JSONL, separated by line\n",
    "if 0 == 1:\n",
    "    reviews = pd.read_json(\"./review.json\", lines=True)\n",
    "    businesses = pd.read_json(\"./business.json\", lines=True)"
   ]
  },
  {
   "cell_type": "code",
   "execution_count": null,
   "metadata": {
    "collapsed": true
   },
   "outputs": [],
   "source": [
    "#CONVERTING PD TO CSV.. (SO NO NEED TO RE RUN EACH TIME)\n",
    "#NEEDS TO BE CONVERTED TO CSV PRIOR TO SQL work. \n",
    "if 1 == 0: \n",
    "    reviews.to_csv(\"reviews.csv\", encoding='utf-8', index = False)\n",
    "    businesses.to_csv(\"businesses.csv\", encoding='utf-8', index = False)#checkins.to_csv(\"checkins.csv\", encoding='utf-8')"
   ]
  },
  {
   "cell_type": "code",
   "execution_count": 9,
   "metadata": {},
   "outputs": [
    {
     "name": "stdout",
     "output_type": "stream",
     "text": [
      "\u001b[34mCapstone\u001b[m\u001b[m      Gittest.ipynb README.md\r\n"
     ]
    }
   ],
   "source": [
    "!ls"
   ]
  },
  {
   "cell_type": "code",
   "execution_count": 8,
   "metadata": {},
   "outputs": [
    {
     "ename": "IOError",
     "evalue": "File ./datasets/reviews.csv does not exist",
     "output_type": "error",
     "traceback": [
      "\u001b[0;31m---------------------------------------------------------------------------\u001b[0m",
      "\u001b[0;31mIOError\u001b[0m                                   Traceback (most recent call last)",
      "\u001b[0;32m<ipython-input-8-7a9bffbe9522>\u001b[0m in \u001b[0;36m<module>\u001b[0;34m()\u001b[0m\n\u001b[1;32m      1\u001b[0m \u001b[0;31m#READ IN CSV INTO NOTEBOOK\u001b[0m\u001b[0;34m\u001b[0m\u001b[0;34m\u001b[0m\u001b[0m\n\u001b[0;32m----> 2\u001b[0;31m \u001b[0mrevs\u001b[0m \u001b[0;34m=\u001b[0m \u001b[0mpd\u001b[0m\u001b[0;34m.\u001b[0m\u001b[0mread_csv\u001b[0m\u001b[0;34m(\u001b[0m\u001b[0;34m'./datasets/reviews.csv'\u001b[0m\u001b[0;34m,\u001b[0m \u001b[0mencoding\u001b[0m \u001b[0;34m=\u001b[0m \u001b[0;34m'utf-8'\u001b[0m\u001b[0;34m)\u001b[0m\u001b[0;34m\u001b[0m\u001b[0m\n\u001b[0m\u001b[1;32m      3\u001b[0m \u001b[0mbiz\u001b[0m \u001b[0;34m=\u001b[0m \u001b[0mpd\u001b[0m\u001b[0;34m.\u001b[0m\u001b[0mread_csv\u001b[0m\u001b[0;34m(\u001b[0m\u001b[0;34m'./datasets/businesses.csv'\u001b[0m\u001b[0;34m,\u001b[0m \u001b[0mencoding\u001b[0m \u001b[0;34m=\u001b[0m \u001b[0;34m'utf-8'\u001b[0m\u001b[0;34m)\u001b[0m\u001b[0;34m\u001b[0m\u001b[0m\n",
      "\u001b[0;32m/Users/jackcunningham/anaconda2/lib/python2.7/site-packages/pandas/io/parsers.pyc\u001b[0m in \u001b[0;36mparser_f\u001b[0;34m(filepath_or_buffer, sep, delimiter, header, names, index_col, usecols, squeeze, prefix, mangle_dupe_cols, dtype, engine, converters, true_values, false_values, skipinitialspace, skiprows, nrows, na_values, keep_default_na, na_filter, verbose, skip_blank_lines, parse_dates, infer_datetime_format, keep_date_col, date_parser, dayfirst, iterator, chunksize, compression, thousands, decimal, lineterminator, quotechar, quoting, escapechar, comment, encoding, dialect, tupleize_cols, error_bad_lines, warn_bad_lines, skipfooter, skip_footer, doublequote, delim_whitespace, as_recarray, compact_ints, use_unsigned, low_memory, buffer_lines, memory_map, float_precision)\u001b[0m\n\u001b[1;32m    653\u001b[0m                     skip_blank_lines=skip_blank_lines)\n\u001b[1;32m    654\u001b[0m \u001b[0;34m\u001b[0m\u001b[0m\n\u001b[0;32m--> 655\u001b[0;31m         \u001b[0;32mreturn\u001b[0m \u001b[0m_read\u001b[0m\u001b[0;34m(\u001b[0m\u001b[0mfilepath_or_buffer\u001b[0m\u001b[0;34m,\u001b[0m \u001b[0mkwds\u001b[0m\u001b[0;34m)\u001b[0m\u001b[0;34m\u001b[0m\u001b[0m\n\u001b[0m\u001b[1;32m    656\u001b[0m \u001b[0;34m\u001b[0m\u001b[0m\n\u001b[1;32m    657\u001b[0m     \u001b[0mparser_f\u001b[0m\u001b[0;34m.\u001b[0m\u001b[0m__name__\u001b[0m \u001b[0;34m=\u001b[0m \u001b[0mname\u001b[0m\u001b[0;34m\u001b[0m\u001b[0m\n",
      "\u001b[0;32m/Users/jackcunningham/anaconda2/lib/python2.7/site-packages/pandas/io/parsers.pyc\u001b[0m in \u001b[0;36m_read\u001b[0;34m(filepath_or_buffer, kwds)\u001b[0m\n\u001b[1;32m    403\u001b[0m \u001b[0;34m\u001b[0m\u001b[0m\n\u001b[1;32m    404\u001b[0m     \u001b[0;31m# Create the parser.\u001b[0m\u001b[0;34m\u001b[0m\u001b[0;34m\u001b[0m\u001b[0m\n\u001b[0;32m--> 405\u001b[0;31m     \u001b[0mparser\u001b[0m \u001b[0;34m=\u001b[0m \u001b[0mTextFileReader\u001b[0m\u001b[0;34m(\u001b[0m\u001b[0mfilepath_or_buffer\u001b[0m\u001b[0;34m,\u001b[0m \u001b[0;34m**\u001b[0m\u001b[0mkwds\u001b[0m\u001b[0;34m)\u001b[0m\u001b[0;34m\u001b[0m\u001b[0m\n\u001b[0m\u001b[1;32m    406\u001b[0m \u001b[0;34m\u001b[0m\u001b[0m\n\u001b[1;32m    407\u001b[0m     \u001b[0;32mif\u001b[0m \u001b[0mchunksize\u001b[0m \u001b[0;32mor\u001b[0m \u001b[0miterator\u001b[0m\u001b[0;34m:\u001b[0m\u001b[0;34m\u001b[0m\u001b[0m\n",
      "\u001b[0;32m/Users/jackcunningham/anaconda2/lib/python2.7/site-packages/pandas/io/parsers.pyc\u001b[0m in \u001b[0;36m__init__\u001b[0;34m(self, f, engine, **kwds)\u001b[0m\n\u001b[1;32m    762\u001b[0m             \u001b[0mself\u001b[0m\u001b[0;34m.\u001b[0m\u001b[0moptions\u001b[0m\u001b[0;34m[\u001b[0m\u001b[0;34m'has_index_names'\u001b[0m\u001b[0;34m]\u001b[0m \u001b[0;34m=\u001b[0m \u001b[0mkwds\u001b[0m\u001b[0;34m[\u001b[0m\u001b[0;34m'has_index_names'\u001b[0m\u001b[0;34m]\u001b[0m\u001b[0;34m\u001b[0m\u001b[0m\n\u001b[1;32m    763\u001b[0m \u001b[0;34m\u001b[0m\u001b[0m\n\u001b[0;32m--> 764\u001b[0;31m         \u001b[0mself\u001b[0m\u001b[0;34m.\u001b[0m\u001b[0m_make_engine\u001b[0m\u001b[0;34m(\u001b[0m\u001b[0mself\u001b[0m\u001b[0;34m.\u001b[0m\u001b[0mengine\u001b[0m\u001b[0;34m)\u001b[0m\u001b[0;34m\u001b[0m\u001b[0m\n\u001b[0m\u001b[1;32m    765\u001b[0m \u001b[0;34m\u001b[0m\u001b[0m\n\u001b[1;32m    766\u001b[0m     \u001b[0;32mdef\u001b[0m \u001b[0mclose\u001b[0m\u001b[0;34m(\u001b[0m\u001b[0mself\u001b[0m\u001b[0;34m)\u001b[0m\u001b[0;34m:\u001b[0m\u001b[0;34m\u001b[0m\u001b[0m\n",
      "\u001b[0;32m/Users/jackcunningham/anaconda2/lib/python2.7/site-packages/pandas/io/parsers.pyc\u001b[0m in \u001b[0;36m_make_engine\u001b[0;34m(self, engine)\u001b[0m\n\u001b[1;32m    983\u001b[0m     \u001b[0;32mdef\u001b[0m \u001b[0m_make_engine\u001b[0m\u001b[0;34m(\u001b[0m\u001b[0mself\u001b[0m\u001b[0;34m,\u001b[0m \u001b[0mengine\u001b[0m\u001b[0;34m=\u001b[0m\u001b[0;34m'c'\u001b[0m\u001b[0;34m)\u001b[0m\u001b[0;34m:\u001b[0m\u001b[0;34m\u001b[0m\u001b[0m\n\u001b[1;32m    984\u001b[0m         \u001b[0;32mif\u001b[0m \u001b[0mengine\u001b[0m \u001b[0;34m==\u001b[0m \u001b[0;34m'c'\u001b[0m\u001b[0;34m:\u001b[0m\u001b[0;34m\u001b[0m\u001b[0m\n\u001b[0;32m--> 985\u001b[0;31m             \u001b[0mself\u001b[0m\u001b[0;34m.\u001b[0m\u001b[0m_engine\u001b[0m \u001b[0;34m=\u001b[0m \u001b[0mCParserWrapper\u001b[0m\u001b[0;34m(\u001b[0m\u001b[0mself\u001b[0m\u001b[0;34m.\u001b[0m\u001b[0mf\u001b[0m\u001b[0;34m,\u001b[0m \u001b[0;34m**\u001b[0m\u001b[0mself\u001b[0m\u001b[0;34m.\u001b[0m\u001b[0moptions\u001b[0m\u001b[0;34m)\u001b[0m\u001b[0;34m\u001b[0m\u001b[0m\n\u001b[0m\u001b[1;32m    986\u001b[0m         \u001b[0;32melse\u001b[0m\u001b[0;34m:\u001b[0m\u001b[0;34m\u001b[0m\u001b[0m\n\u001b[1;32m    987\u001b[0m             \u001b[0;32mif\u001b[0m \u001b[0mengine\u001b[0m \u001b[0;34m==\u001b[0m \u001b[0;34m'python'\u001b[0m\u001b[0;34m:\u001b[0m\u001b[0;34m\u001b[0m\u001b[0m\n",
      "\u001b[0;32m/Users/jackcunningham/anaconda2/lib/python2.7/site-packages/pandas/io/parsers.pyc\u001b[0m in \u001b[0;36m__init__\u001b[0;34m(self, src, **kwds)\u001b[0m\n\u001b[1;32m   1603\u001b[0m         \u001b[0mkwds\u001b[0m\u001b[0;34m[\u001b[0m\u001b[0;34m'allow_leading_cols'\u001b[0m\u001b[0;34m]\u001b[0m \u001b[0;34m=\u001b[0m \u001b[0mself\u001b[0m\u001b[0;34m.\u001b[0m\u001b[0mindex_col\u001b[0m \u001b[0;32mis\u001b[0m \u001b[0;32mnot\u001b[0m \u001b[0mFalse\u001b[0m\u001b[0;34m\u001b[0m\u001b[0m\n\u001b[1;32m   1604\u001b[0m \u001b[0;34m\u001b[0m\u001b[0m\n\u001b[0;32m-> 1605\u001b[0;31m         \u001b[0mself\u001b[0m\u001b[0;34m.\u001b[0m\u001b[0m_reader\u001b[0m \u001b[0;34m=\u001b[0m \u001b[0mparsers\u001b[0m\u001b[0;34m.\u001b[0m\u001b[0mTextReader\u001b[0m\u001b[0;34m(\u001b[0m\u001b[0msrc\u001b[0m\u001b[0;34m,\u001b[0m \u001b[0;34m**\u001b[0m\u001b[0mkwds\u001b[0m\u001b[0;34m)\u001b[0m\u001b[0;34m\u001b[0m\u001b[0m\n\u001b[0m\u001b[1;32m   1606\u001b[0m \u001b[0;34m\u001b[0m\u001b[0m\n\u001b[1;32m   1607\u001b[0m         \u001b[0;31m# XXX\u001b[0m\u001b[0;34m\u001b[0m\u001b[0;34m\u001b[0m\u001b[0m\n",
      "\u001b[0;32mpandas/_libs/parsers.pyx\u001b[0m in \u001b[0;36mpandas._libs.parsers.TextReader.__cinit__ (pandas/_libs/parsers.c:4209)\u001b[0;34m()\u001b[0m\n",
      "\u001b[0;32mpandas/_libs/parsers.pyx\u001b[0m in \u001b[0;36mpandas._libs.parsers.TextReader._setup_parser_source (pandas/_libs/parsers.c:8873)\u001b[0;34m()\u001b[0m\n",
      "\u001b[0;31mIOError\u001b[0m: File ./datasets/reviews.csv does not exist"
     ]
    }
   ],
   "source": [
    "#READ IN CSV INTO NOTEBOOK\n",
    "revs = pd.read_csv('./datasets/reviews.csv', encoding = 'utf-8')\n",
    "biz = pd.read_csv('./datasets/businesses.csv', encoding = 'utf-8')"
   ]
  },
  {
   "cell_type": "markdown",
   "metadata": {
    "collapsed": true
   },
   "source": [
    "##### Explore, clean and explain the data."
   ]
  },
  {
   "cell_type": "code",
   "execution_count": 6,
   "metadata": {},
   "outputs": [
    {
     "data": {
      "text/html": [
       "<div>\n",
       "<style>\n",
       "    .dataframe thead tr:only-child th {\n",
       "        text-align: right;\n",
       "    }\n",
       "\n",
       "    .dataframe thead th {\n",
       "        text-align: left;\n",
       "    }\n",
       "\n",
       "    .dataframe tbody tr th {\n",
       "        vertical-align: top;\n",
       "    }\n",
       "</style>\n",
       "<table border=\"1\" class=\"dataframe\">\n",
       "  <thead>\n",
       "    <tr style=\"text-align: right;\">\n",
       "      <th></th>\n",
       "      <th>business_id</th>\n",
       "      <th>cool</th>\n",
       "      <th>date</th>\n",
       "      <th>funny</th>\n",
       "      <th>review_id</th>\n",
       "      <th>stars</th>\n",
       "      <th>text</th>\n",
       "      <th>useful</th>\n",
       "      <th>user_id</th>\n",
       "    </tr>\n",
       "  </thead>\n",
       "  <tbody>\n",
       "    <tr>\n",
       "      <th>0</th>\n",
       "      <td>uYHaNptLzDLoV_JZ_MuzUA</td>\n",
       "      <td>0</td>\n",
       "      <td>2016-07-12</td>\n",
       "      <td>0.0</td>\n",
       "      <td>VfBHSwC5Vz_pbFluy07i9Q</td>\n",
       "      <td>5.0</td>\n",
       "      <td>My girlfriend and I stayed here for 3 nights a...</td>\n",
       "      <td>0.0</td>\n",
       "      <td>cjpdDjZyprfyDG3RlkVG3w</td>\n",
       "    </tr>\n",
       "    <tr>\n",
       "      <th>1</th>\n",
       "      <td>uYHaNptLzDLoV_JZ_MuzUA</td>\n",
       "      <td>0</td>\n",
       "      <td>2016-10-02</td>\n",
       "      <td>0.0</td>\n",
       "      <td>3zRpneRKDsOPq92tq7ybAA</td>\n",
       "      <td>3.0</td>\n",
       "      <td>If you need an inexpensive place to stay for a...</td>\n",
       "      <td>0.0</td>\n",
       "      <td>bjTcT8Ty4cJZhEOEo01FGA</td>\n",
       "    </tr>\n",
       "    <tr>\n",
       "      <th>2</th>\n",
       "      <td>uYHaNptLzDLoV_JZ_MuzUA</td>\n",
       "      <td>0</td>\n",
       "      <td>2015-09-17</td>\n",
       "      <td>0.0</td>\n",
       "      <td>ne5WhI1jUFOcRn-b-gAzHA</td>\n",
       "      <td>3.0</td>\n",
       "      <td>Mittlerweile gibt es in Edinburgh zwei Ableger...</td>\n",
       "      <td>0.0</td>\n",
       "      <td>AXgRULmWcME7J6Ix3I--ww</td>\n",
       "    </tr>\n",
       "    <tr>\n",
       "      <th>3</th>\n",
       "      <td>uYHaNptLzDLoV_JZ_MuzUA</td>\n",
       "      <td>0</td>\n",
       "      <td>2016-08-21</td>\n",
       "      <td>0.0</td>\n",
       "      <td>llmdwOgDReucVoWEry61Lw</td>\n",
       "      <td>4.0</td>\n",
       "      <td>Location is everything and this hotel has it! ...</td>\n",
       "      <td>0.0</td>\n",
       "      <td>oU2SSOmsp_A8JYI7Z2JJ5w</td>\n",
       "    </tr>\n",
       "    <tr>\n",
       "      <th>4</th>\n",
       "      <td>uYHaNptLzDLoV_JZ_MuzUA</td>\n",
       "      <td>0</td>\n",
       "      <td>2013-11-20</td>\n",
       "      <td>0.0</td>\n",
       "      <td>DuffS87NaSMDmIfluvT83g</td>\n",
       "      <td>5.0</td>\n",
       "      <td>gute lage im stadtzentrum. shoppingmeile und s...</td>\n",
       "      <td>0.0</td>\n",
       "      <td>0xtbPEna2Kei11vsU-U2Mw</td>\n",
       "    </tr>\n",
       "  </tbody>\n",
       "</table>\n",
       "</div>"
      ],
      "text/plain": [
       "              business_id  cool        date  funny               review_id  \\\n",
       "0  uYHaNptLzDLoV_JZ_MuzUA     0  2016-07-12    0.0  VfBHSwC5Vz_pbFluy07i9Q   \n",
       "1  uYHaNptLzDLoV_JZ_MuzUA     0  2016-10-02    0.0  3zRpneRKDsOPq92tq7ybAA   \n",
       "2  uYHaNptLzDLoV_JZ_MuzUA     0  2015-09-17    0.0  ne5WhI1jUFOcRn-b-gAzHA   \n",
       "3  uYHaNptLzDLoV_JZ_MuzUA     0  2016-08-21    0.0  llmdwOgDReucVoWEry61Lw   \n",
       "4  uYHaNptLzDLoV_JZ_MuzUA     0  2013-11-20    0.0  DuffS87NaSMDmIfluvT83g   \n",
       "\n",
       "   stars                                               text  useful  \\\n",
       "0    5.0  My girlfriend and I stayed here for 3 nights a...     0.0   \n",
       "1    3.0  If you need an inexpensive place to stay for a...     0.0   \n",
       "2    3.0  Mittlerweile gibt es in Edinburgh zwei Ableger...     0.0   \n",
       "3    4.0  Location is everything and this hotel has it! ...     0.0   \n",
       "4    5.0  gute lage im stadtzentrum. shoppingmeile und s...     0.0   \n",
       "\n",
       "                  user_id  \n",
       "0  cjpdDjZyprfyDG3RlkVG3w  \n",
       "1  bjTcT8Ty4cJZhEOEo01FGA  \n",
       "2  AXgRULmWcME7J6Ix3I--ww  \n",
       "3  oU2SSOmsp_A8JYI7Z2JJ5w  \n",
       "4  0xtbPEna2Kei11vsU-U2Mw  "
      ]
     },
     "execution_count": 6,
     "metadata": {},
     "output_type": "execute_result"
    }
   ],
   "source": [
    "revs.head()"
   ]
  },
  {
   "cell_type": "code",
   "execution_count": 7,
   "metadata": {},
   "outputs": [
    {
     "data": {
      "text/plain": [
       "(4736899, 9)"
      ]
     },
     "execution_count": 7,
     "metadata": {},
     "output_type": "execute_result"
    }
   ],
   "source": [
    "revs.shape"
   ]
  },
  {
   "cell_type": "code",
   "execution_count": 8,
   "metadata": {},
   "outputs": [
    {
     "data": {
      "text/plain": [
       "business_id     object\n",
       "cool             int64\n",
       "date            object\n",
       "funny          float64\n",
       "review_id       object\n",
       "stars          float64\n",
       "text            object\n",
       "useful         float64\n",
       "user_id         object\n",
       "dtype: object"
      ]
     },
     "execution_count": 8,
     "metadata": {},
     "output_type": "execute_result"
    }
   ],
   "source": [
    "revs.dtypes"
   ]
  },
  {
   "cell_type": "code",
   "execution_count": 9,
   "metadata": {},
   "outputs": [
    {
     "name": "stdout",
     "output_type": "stream",
     "text": [
      "cool unique : 160\n",
      "funny unique : 153\n",
      "stars unique : 6\n",
      "useful unique : 206\n"
     ]
    }
   ],
   "source": [
    "print 'cool unique :', len(revs.cool.unique())\n",
    "print 'funny unique :', len(revs.funny.unique())\n",
    "print 'stars unique :', len(revs.stars.unique())\n",
    "print 'useful unique :', len(revs.useful.unique())"
   ]
  },
  {
   "cell_type": "code",
   "execution_count": 13,
   "metadata": {},
   "outputs": [
    {
     "data": {
      "text/plain": [
       "5.0    1988003\n",
       "4.0    1135830\n",
       "1.0     639849\n",
       "3.0     570819\n",
       "2.0     402396\n",
       "Name: stars, dtype: int64"
      ]
     },
     "execution_count": 13,
     "metadata": {},
     "output_type": "execute_result"
    }
   ],
   "source": [
    "revs.stars.value_counts()"
   ]
  },
  {
   "cell_type": "code",
   "execution_count": 14,
   "metadata": {},
   "outputs": [
    {
     "data": {
      "text/html": [
       "<div>\n",
       "<style>\n",
       "    .dataframe thead tr:only-child th {\n",
       "        text-align: right;\n",
       "    }\n",
       "\n",
       "    .dataframe thead th {\n",
       "        text-align: left;\n",
       "    }\n",
       "\n",
       "    .dataframe tbody tr th {\n",
       "        vertical-align: top;\n",
       "    }\n",
       "</style>\n",
       "<table border=\"1\" class=\"dataframe\">\n",
       "  <thead>\n",
       "    <tr style=\"text-align: right;\">\n",
       "      <th></th>\n",
       "      <th>cool</th>\n",
       "      <th>funny</th>\n",
       "      <th>stars</th>\n",
       "      <th>useful</th>\n",
       "    </tr>\n",
       "  </thead>\n",
       "  <tbody>\n",
       "    <tr>\n",
       "      <th>count</th>\n",
       "      <td>4.736899e+06</td>\n",
       "      <td>4.736897e+06</td>\n",
       "      <td>4.736897e+06</td>\n",
       "      <td>4.736895e+06</td>\n",
       "    </tr>\n",
       "    <tr>\n",
       "      <th>mean</th>\n",
       "      <td>5.096598e-01</td>\n",
       "      <td>4.029171e-01</td>\n",
       "      <td>3.724048e+00</td>\n",
       "      <td>9.882925e-01</td>\n",
       "    </tr>\n",
       "    <tr>\n",
       "      <th>std</th>\n",
       "      <td>1.960373e+00</td>\n",
       "      <td>1.721954e+00</td>\n",
       "      <td>1.421104e+00</td>\n",
       "      <td>2.600022e+00</td>\n",
       "    </tr>\n",
       "    <tr>\n",
       "      <th>min</th>\n",
       "      <td>0.000000e+00</td>\n",
       "      <td>0.000000e+00</td>\n",
       "      <td>1.000000e+00</td>\n",
       "      <td>0.000000e+00</td>\n",
       "    </tr>\n",
       "    <tr>\n",
       "      <th>25%</th>\n",
       "      <td>0.000000e+00</td>\n",
       "      <td>0.000000e+00</td>\n",
       "      <td>3.000000e+00</td>\n",
       "      <td>0.000000e+00</td>\n",
       "    </tr>\n",
       "    <tr>\n",
       "      <th>50%</th>\n",
       "      <td>0.000000e+00</td>\n",
       "      <td>0.000000e+00</td>\n",
       "      <td>4.000000e+00</td>\n",
       "      <td>0.000000e+00</td>\n",
       "    </tr>\n",
       "    <tr>\n",
       "      <th>75%</th>\n",
       "      <td>0.000000e+00</td>\n",
       "      <td>0.000000e+00</td>\n",
       "      <td>5.000000e+00</td>\n",
       "      <td>1.000000e+00</td>\n",
       "    </tr>\n",
       "    <tr>\n",
       "      <th>max</th>\n",
       "      <td>5.130000e+02</td>\n",
       "      <td>6.310000e+02</td>\n",
       "      <td>5.000000e+00</td>\n",
       "      <td>1.125000e+03</td>\n",
       "    </tr>\n",
       "  </tbody>\n",
       "</table>\n",
       "</div>"
      ],
      "text/plain": [
       "               cool         funny         stars        useful\n",
       "count  4.736899e+06  4.736897e+06  4.736897e+06  4.736895e+06\n",
       "mean   5.096598e-01  4.029171e-01  3.724048e+00  9.882925e-01\n",
       "std    1.960373e+00  1.721954e+00  1.421104e+00  2.600022e+00\n",
       "min    0.000000e+00  0.000000e+00  1.000000e+00  0.000000e+00\n",
       "25%    0.000000e+00  0.000000e+00  3.000000e+00  0.000000e+00\n",
       "50%    0.000000e+00  0.000000e+00  4.000000e+00  0.000000e+00\n",
       "75%    0.000000e+00  0.000000e+00  5.000000e+00  1.000000e+00\n",
       "max    5.130000e+02  6.310000e+02  5.000000e+00  1.125000e+03"
      ]
     },
     "execution_count": 14,
     "metadata": {},
     "output_type": "execute_result"
    }
   ],
   "source": [
    "revs.describe()"
   ]
  },
  {
   "cell_type": "code",
   "execution_count": null,
   "metadata": {
    "collapsed": true
   },
   "outputs": [],
   "source": [
    "revs.text.map(len).max()"
   ]
  },
  {
   "cell_type": "code",
   "execution_count": null,
   "metadata": {
    "collapsed": true
   },
   "outputs": [],
   "source": [
    "revs.text.map(len).min()"
   ]
  },
  {
   "cell_type": "code",
   "execution_count": 16,
   "metadata": {},
   "outputs": [
    {
     "data": {
      "text/html": [
       "<div>\n",
       "<style>\n",
       "    .dataframe thead tr:only-child th {\n",
       "        text-align: right;\n",
       "    }\n",
       "\n",
       "    .dataframe thead th {\n",
       "        text-align: left;\n",
       "    }\n",
       "\n",
       "    .dataframe tbody tr th {\n",
       "        vertical-align: top;\n",
       "    }\n",
       "</style>\n",
       "<table border=\"1\" class=\"dataframe\">\n",
       "  <thead>\n",
       "    <tr style=\"text-align: right;\">\n",
       "      <th></th>\n",
       "      <th>address</th>\n",
       "      <th>attributes</th>\n",
       "      <th>business_id</th>\n",
       "      <th>categories</th>\n",
       "      <th>city</th>\n",
       "      <th>hours</th>\n",
       "      <th>is_open</th>\n",
       "      <th>latitude</th>\n",
       "      <th>longitude</th>\n",
       "      <th>name</th>\n",
       "      <th>neighborhood</th>\n",
       "      <th>postal_code</th>\n",
       "      <th>review_count</th>\n",
       "      <th>stars</th>\n",
       "      <th>state</th>\n",
       "    </tr>\n",
       "  </thead>\n",
       "  <tbody>\n",
       "    <tr>\n",
       "      <th>0</th>\n",
       "      <td>691 Richmond Rd</td>\n",
       "      <td>{u'RestaurantsPriceRange2': 2, u'BusinessParki...</td>\n",
       "      <td>YDf95gJZaq05wvo7hTQbbQ</td>\n",
       "      <td>[Shopping, Shopping Centers]</td>\n",
       "      <td>Richmond Heights</td>\n",
       "      <td>{u'Monday': u'10:00-21:00', u'Tuesday': u'10:0...</td>\n",
       "      <td>1</td>\n",
       "      <td>41.541716</td>\n",
       "      <td>-81.493116</td>\n",
       "      <td>Richmond Town Square</td>\n",
       "      <td>NaN</td>\n",
       "      <td>44143</td>\n",
       "      <td>17</td>\n",
       "      <td>2.0</td>\n",
       "      <td>OH</td>\n",
       "    </tr>\n",
       "    <tr>\n",
       "      <th>1</th>\n",
       "      <td>2824 Milton Rd</td>\n",
       "      <td>{u'GoodForMeal': {u'dessert': False, u'latenig...</td>\n",
       "      <td>mLwM-h2YhXl2NCgdS84_Bw</td>\n",
       "      <td>[Food, Soul Food, Convenience Stores, Restaura...</td>\n",
       "      <td>Charlotte</td>\n",
       "      <td>{u'Monday': u'10:00-22:00', u'Tuesday': u'10:0...</td>\n",
       "      <td>0</td>\n",
       "      <td>35.236870</td>\n",
       "      <td>-80.741976</td>\n",
       "      <td>South Florida Style Chicken &amp; Ribs</td>\n",
       "      <td>Eastland</td>\n",
       "      <td>28215</td>\n",
       "      <td>4</td>\n",
       "      <td>4.5</td>\n",
       "      <td>NC</td>\n",
       "    </tr>\n",
       "    <tr>\n",
       "      <th>2</th>\n",
       "      <td>337 Danforth Avenue</td>\n",
       "      <td>{u'BusinessParking': {u'garage': False, u'stre...</td>\n",
       "      <td>v2WhjAB3PIBA8J8VxG3wEg</td>\n",
       "      <td>[Food, Coffee &amp; Tea]</td>\n",
       "      <td>Toronto</td>\n",
       "      <td>{u'Monday': u'10:00-19:00', u'Tuesday': u'10:0...</td>\n",
       "      <td>0</td>\n",
       "      <td>43.677126</td>\n",
       "      <td>-79.353285</td>\n",
       "      <td>The Tea Emporium</td>\n",
       "      <td>Riverdale</td>\n",
       "      <td>M4K 1N7</td>\n",
       "      <td>7</td>\n",
       "      <td>4.5</td>\n",
       "      <td>ON</td>\n",
       "    </tr>\n",
       "    <tr>\n",
       "      <th>3</th>\n",
       "      <td>7702 E Doubletree Ranch Rd, Ste 300</td>\n",
       "      <td>{}</td>\n",
       "      <td>CVtCbSB1zUcUWg-9TNGTuQ</td>\n",
       "      <td>[Professional Services, Matchmakers]</td>\n",
       "      <td>Scottsdale</td>\n",
       "      <td>{u'Tuesday': u'9:00-17:00', u'Friday': u'9:00-...</td>\n",
       "      <td>1</td>\n",
       "      <td>33.565082</td>\n",
       "      <td>-111.916400</td>\n",
       "      <td>TRUmatch</td>\n",
       "      <td>NaN</td>\n",
       "      <td>85258</td>\n",
       "      <td>3</td>\n",
       "      <td>3.0</td>\n",
       "      <td>AZ</td>\n",
       "    </tr>\n",
       "    <tr>\n",
       "      <th>4</th>\n",
       "      <td>4719 N 20Th St</td>\n",
       "      <td>{u'GoodForMeal': {u'dessert': False, u'latenig...</td>\n",
       "      <td>duHFBe87uNSXImQmvBh87Q</td>\n",
       "      <td>[Sandwiches, Restaurants]</td>\n",
       "      <td>Phoenix</td>\n",
       "      <td>{}</td>\n",
       "      <td>0</td>\n",
       "      <td>33.505928</td>\n",
       "      <td>-112.038847</td>\n",
       "      <td>Blimpie</td>\n",
       "      <td>NaN</td>\n",
       "      <td>85016</td>\n",
       "      <td>10</td>\n",
       "      <td>4.5</td>\n",
       "      <td>AZ</td>\n",
       "    </tr>\n",
       "  </tbody>\n",
       "</table>\n",
       "</div>"
      ],
      "text/plain": [
       "                               address  \\\n",
       "0                      691 Richmond Rd   \n",
       "1                       2824 Milton Rd   \n",
       "2                  337 Danforth Avenue   \n",
       "3  7702 E Doubletree Ranch Rd, Ste 300   \n",
       "4                       4719 N 20Th St   \n",
       "\n",
       "                                          attributes             business_id  \\\n",
       "0  {u'RestaurantsPriceRange2': 2, u'BusinessParki...  YDf95gJZaq05wvo7hTQbbQ   \n",
       "1  {u'GoodForMeal': {u'dessert': False, u'latenig...  mLwM-h2YhXl2NCgdS84_Bw   \n",
       "2  {u'BusinessParking': {u'garage': False, u'stre...  v2WhjAB3PIBA8J8VxG3wEg   \n",
       "3                                                 {}  CVtCbSB1zUcUWg-9TNGTuQ   \n",
       "4  {u'GoodForMeal': {u'dessert': False, u'latenig...  duHFBe87uNSXImQmvBh87Q   \n",
       "\n",
       "                                          categories              city  \\\n",
       "0                       [Shopping, Shopping Centers]  Richmond Heights   \n",
       "1  [Food, Soul Food, Convenience Stores, Restaura...         Charlotte   \n",
       "2                               [Food, Coffee & Tea]           Toronto   \n",
       "3               [Professional Services, Matchmakers]        Scottsdale   \n",
       "4                          [Sandwiches, Restaurants]           Phoenix   \n",
       "\n",
       "                                               hours  is_open   latitude  \\\n",
       "0  {u'Monday': u'10:00-21:00', u'Tuesday': u'10:0...        1  41.541716   \n",
       "1  {u'Monday': u'10:00-22:00', u'Tuesday': u'10:0...        0  35.236870   \n",
       "2  {u'Monday': u'10:00-19:00', u'Tuesday': u'10:0...        0  43.677126   \n",
       "3  {u'Tuesday': u'9:00-17:00', u'Friday': u'9:00-...        1  33.565082   \n",
       "4                                                 {}        0  33.505928   \n",
       "\n",
       "    longitude                                name neighborhood postal_code  \\\n",
       "0  -81.493116                Richmond Town Square          NaN       44143   \n",
       "1  -80.741976  South Florida Style Chicken & Ribs     Eastland       28215   \n",
       "2  -79.353285                    The Tea Emporium    Riverdale     M4K 1N7   \n",
       "3 -111.916400                            TRUmatch          NaN       85258   \n",
       "4 -112.038847                             Blimpie          NaN       85016   \n",
       "\n",
       "   review_count  stars state  \n",
       "0            17    2.0    OH  \n",
       "1             4    4.5    NC  \n",
       "2             7    4.5    ON  \n",
       "3             3    3.0    AZ  \n",
       "4            10    4.5    AZ  "
      ]
     },
     "execution_count": 16,
     "metadata": {},
     "output_type": "execute_result"
    }
   ],
   "source": [
    "biz.head()"
   ]
  },
  {
   "cell_type": "code",
   "execution_count": 17,
   "metadata": {},
   "outputs": [
    {
     "data": {
      "text/plain": [
       "(156639, 15)"
      ]
     },
     "execution_count": 17,
     "metadata": {},
     "output_type": "execute_result"
    }
   ],
   "source": [
    "biz.shape"
   ]
  },
  {
   "cell_type": "code",
   "execution_count": 18,
   "metadata": {},
   "outputs": [
    {
     "data": {
      "text/plain": [
       "address          object\n",
       "attributes       object\n",
       "business_id      object\n",
       "categories       object\n",
       "city             object\n",
       "hours            object\n",
       "is_open           int64\n",
       "latitude        float64\n",
       "longitude       float64\n",
       "name             object\n",
       "neighborhood     object\n",
       "postal_code      object\n",
       "review_count      int64\n",
       "stars           float64\n",
       "state            object\n",
       "dtype: object"
      ]
     },
     "execution_count": 18,
     "metadata": {},
     "output_type": "execute_result"
    }
   ],
   "source": [
    "biz.dtypes"
   ]
  },
  {
   "cell_type": "code",
   "execution_count": null,
   "metadata": {
    "collapsed": true
   },
   "outputs": [],
   "source": [
    "#USE SQL TO CREATE RESTUAURANT ONLY DATABASE;\n",
    "    #using 'categories' & 'business_id' from the business file; biz\n",
    "    #and inner-joining the revs dataset with 'business_id' from biz that contain 'restaurant' in the category"
   ]
  },
  {
   "cell_type": "code",
   "execution_count": null,
   "metadata": {
    "collapsed": true
   },
   "outputs": [],
   "source": [
    "db_connection = sqlite3.connect('../results.db.sqlite')"
   ]
  },
  {
   "cell_type": "code",
   "execution_count": null,
   "metadata": {
    "collapsed": true
   },
   "outputs": [],
   "source": [
    "biz.to_sql(name = \"bizS\", con=db_connection, if_exists = \"replace\", index = False)\n",
    "revs.to_sql(name = \"revS\", con=db_connection, if_exists = \"replace\", index = False)\n",
    "\n",
    "rest_revs_sql = sql.read_sql('SELECT r.*, b.categories FROM revsS AS r INNER JOIN bizS AS b ON r.business_id = b.business_id WHERE b.categories LIKE \"%Restaurant%\"', con = db_connection)\n",
    "\n",
    "#rest_revs_sql is STILL giving me an unamed column!"
   ]
  },
  {
   "cell_type": "code",
   "execution_count": null,
   "metadata": {
    "collapsed": true
   },
   "outputs": [],
   "source": [
    "rest_revs_sql.shape"
   ]
  },
  {
   "cell_type": "code",
   "execution_count": null,
   "metadata": {
    "collapsed": true
   },
   "outputs": [],
   "source": [
    "rest_revs_sql.columns"
   ]
  },
  {
   "cell_type": "code",
   "execution_count": null,
   "metadata": {
    "collapsed": true
   },
   "outputs": [],
   "source": [
    "rest_revs_sql.head(10)"
   ]
  },
  {
   "cell_type": "code",
   "execution_count": null,
   "metadata": {
    "collapsed": true
   },
   "outputs": [],
   "source": [
    "rest_revs_sql.isnull().sum()\n",
    "rest_revs_sql.dropna(inplace=True)"
   ]
  },
  {
   "cell_type": "code",
   "execution_count": null,
   "metadata": {
    "collapsed": true
   },
   "outputs": [],
   "source": [
    "#export to csv\n",
    "rest_revs_sql.to_csv(\"rest_revs_s.csv\", encoding='utf-8', index = False)"
   ]
  },
  {
   "cell_type": "code",
   "execution_count": null,
   "metadata": {
    "collapsed": true
   },
   "outputs": [],
   "source": [
    "    #READ IN FROM HERE..\n",
    "rest_revs = pd.read_csv('rest_revs_s.csv', encoding = 'utf-8')"
   ]
  },
  {
   "cell_type": "code",
   "execution_count": null,
   "metadata": {
    "collapsed": true
   },
   "outputs": [],
   "source": [
    "########################################################################"
   ]
  },
  {
   "cell_type": "markdown",
   "metadata": {},
   "source": [
    "### EDA / STEP 3;"
   ]
  },
  {
   "cell_type": "code",
   "execution_count": null,
   "metadata": {
    "collapsed": true
   },
   "outputs": [],
   "source": [
    "#EDA;\n",
    "\"\"\"\n",
    "GOAL; A brief report that describes your EDA and analysis so far,\n",
    "as well as your concrete next steps\n",
    "\n",
    "- create a progress report that documents;\n",
    "--approach to EDA, \n",
    "--initial results, roadblocks setbacks, surprises.\n",
    "\n",
    "- perform inital descriptive and visual analysis of data\n",
    "-- identify outliers\n",
    "-- summarize risks and limitiations.\n",
    "\n",
    "- Discuss proposed next steps.\n",
    "\n",
    "\"\"\""
   ]
  },
  {
   "cell_type": "code",
   "execution_count": 208,
   "metadata": {
    "collapsed": true
   },
   "outputs": [],
   "source": [
    "    #READ IN FROM HERE..\n",
    "rest_revs = pd.read_csv('rest_revs_s.csv', encoding = 'utf-8')"
   ]
  },
  {
   "cell_type": "code",
   "execution_count": 155,
   "metadata": {},
   "outputs": [
    {
     "data": {
      "text/html": [
       "<div>\n",
       "<style>\n",
       "    .dataframe thead tr:only-child th {\n",
       "        text-align: right;\n",
       "    }\n",
       "\n",
       "    .dataframe thead th {\n",
       "        text-align: left;\n",
       "    }\n",
       "\n",
       "    .dataframe tbody tr th {\n",
       "        vertical-align: top;\n",
       "    }\n",
       "</style>\n",
       "<table border=\"1\" class=\"dataframe\">\n",
       "  <thead>\n",
       "    <tr style=\"text-align: right;\">\n",
       "      <th></th>\n",
       "      <th>business_id</th>\n",
       "      <th>cool</th>\n",
       "      <th>date</th>\n",
       "      <th>funny</th>\n",
       "      <th>review_id</th>\n",
       "      <th>stars</th>\n",
       "      <th>text</th>\n",
       "      <th>useful</th>\n",
       "      <th>user_id</th>\n",
       "      <th>categories</th>\n",
       "    </tr>\n",
       "  </thead>\n",
       "  <tbody>\n",
       "    <tr>\n",
       "      <th>0</th>\n",
       "      <td>mLwM-h2YhXl2NCgdS84_Bw</td>\n",
       "      <td>1</td>\n",
       "      <td>2016-06-18</td>\n",
       "      <td>0.0</td>\n",
       "      <td>exUbigDEviVau7r6TQ24Ug</td>\n",
       "      <td>4</td>\n",
       "      <td>So this place is in the c-store. A little skep...</td>\n",
       "      <td>0.0</td>\n",
       "      <td>rOhyDyMWN7ckYDNA4C-JDA</td>\n",
       "      <td>[Food, Soul Food, Convenience Stores, Restaura...</td>\n",
       "    </tr>\n",
       "    <tr>\n",
       "      <th>1</th>\n",
       "      <td>mLwM-h2YhXl2NCgdS84_Bw</td>\n",
       "      <td>12</td>\n",
       "      <td>2016-03-06</td>\n",
       "      <td>5.0</td>\n",
       "      <td>cyYjLJjuvGngUR4mMI9eQQ</td>\n",
       "      <td>4</td>\n",
       "      <td>South Florida resides on the east side of Char...</td>\n",
       "      <td>14.0</td>\n",
       "      <td>9IRuYmy5YmhtNQ6ei1p-uQ</td>\n",
       "      <td>[Food, Soul Food, Convenience Stores, Restaura...</td>\n",
       "    </tr>\n",
       "  </tbody>\n",
       "</table>\n",
       "</div>"
      ],
      "text/plain": [
       "              business_id  cool        date  funny               review_id  \\\n",
       "0  mLwM-h2YhXl2NCgdS84_Bw     1  2016-06-18    0.0  exUbigDEviVau7r6TQ24Ug   \n",
       "1  mLwM-h2YhXl2NCgdS84_Bw    12  2016-03-06    5.0  cyYjLJjuvGngUR4mMI9eQQ   \n",
       "\n",
       "   stars                                               text  useful  \\\n",
       "0      4  So this place is in the c-store. A little skep...     0.0   \n",
       "1      4  South Florida resides on the east side of Char...    14.0   \n",
       "\n",
       "                  user_id                                         categories  \n",
       "0  rOhyDyMWN7ckYDNA4C-JDA  [Food, Soul Food, Convenience Stores, Restaura...  \n",
       "1  9IRuYmy5YmhtNQ6ei1p-uQ  [Food, Soul Food, Convenience Stores, Restaura...  "
      ]
     },
     "execution_count": 155,
     "metadata": {},
     "output_type": "execute_result"
    }
   ],
   "source": [
    "rest_revs.head(2)"
   ]
  },
  {
   "cell_type": "code",
   "execution_count": 209,
   "metadata": {
    "collapsed": true
   },
   "outputs": [],
   "source": [
    "rest_revs = rest_revs.drop(['Unnamed: 0'], axis=1)"
   ]
  },
  {
   "cell_type": "code",
   "execution_count": 154,
   "metadata": {},
   "outputs": [
    {
     "data": {
      "text/plain": [
       "(2927859, 10)"
      ]
     },
     "execution_count": 154,
     "metadata": {},
     "output_type": "execute_result"
    }
   ],
   "source": [
    "rest_revs.shape"
   ]
  },
  {
   "cell_type": "code",
   "execution_count": 24,
   "metadata": {},
   "outputs": [
    {
     "data": {
      "text/plain": [
       "business_id     object\n",
       "cool             int64\n",
       "date            object\n",
       "funny          float64\n",
       "review_id       object\n",
       "stars          float64\n",
       "text            object\n",
       "useful         float64\n",
       "user_id         object\n",
       "categories      object\n",
       "dtype: object"
      ]
     },
     "execution_count": 24,
     "metadata": {},
     "output_type": "execute_result"
    }
   ],
   "source": [
    "rest_revs.dtypes"
   ]
  },
  {
   "cell_type": "markdown",
   "metadata": {
    "collapsed": true
   },
   "source": [
    "##### plot distribution of star ratings"
   ]
  },
  {
   "cell_type": "code",
   "execution_count": 210,
   "metadata": {
    "collapsed": true
   },
   "outputs": [],
   "source": [
    "rest_revs.stars = rest_revs.stars.apply(lambda x: int(x))"
   ]
  },
  {
   "cell_type": "code",
   "execution_count": 4,
   "metadata": {},
   "outputs": [
    {
     "ename": "NameError",
     "evalue": "name 'rest_revs' is not defined",
     "output_type": "error",
     "traceback": [
      "\u001b[0;31m---------------------------------------------------------------------------\u001b[0m",
      "\u001b[0;31mNameError\u001b[0m                                 Traceback (most recent call last)",
      "\u001b[0;32m<ipython-input-4-a464ad489f1d>\u001b[0m in \u001b[0;36m<module>\u001b[0;34m()\u001b[0m\n\u001b[0;32m----> 1\u001b[0;31m \u001b[0mrest_revs\u001b[0m\u001b[0;34m[\u001b[0m\u001b[0;34m'stars'\u001b[0m\u001b[0;34m]\u001b[0m\u001b[0;34m.\u001b[0m\u001b[0mvalue_counts\u001b[0m\u001b[0;34m(\u001b[0m\u001b[0;34m)\u001b[0m\u001b[0;34m\u001b[0m\u001b[0m\n\u001b[0m",
      "\u001b[0;31mNameError\u001b[0m: name 'rest_revs' is not defined"
     ]
    }
   ],
   "source": [
    "#rest_revs['stars'].value_counts()"
   ]
  },
  {
   "cell_type": "code",
   "execution_count": null,
   "metadata": {
    "collapsed": true
   },
   "outputs": [],
   "source": [
    "stardist = sns.countplot(x=\"stars\", data=rest_revs, palette=\"Set3\")\n",
    "\n",
    "fig, ax = pyplot.subplots(figsize=a4_dims)\n",
    "seaborn.violinplot(ax=ax, data=df, **violin_options)\n",
    "\n",
    "stardist.axes.set_title(\"Distribution of 'Star' ratings\", fontsize =15)\n",
    "stardist.set(xlabel='Stars', ylabel='Count')\n",
    "plt.show()"
   ]
  },
  {
   "cell_type": "code",
   "execution_count": 167,
   "metadata": {
    "scrolled": true
   },
   "outputs": [
    {
     "data": {
      "image/png": "[encoded data removed]",
      "text/plain": [
       "<matplotlib.figure.Figure at 0x1a19ff0710>"
      ]
     },
     "metadata": {
      "image/png": {
       "height": 540,
       "width": 775
      }
     },
     "output_type": "display_data"
    }
   ],
   "source": [
    "stardist = sns.countplot(x=\"stars\", data=rest_revs, palette=\"Set3\")\n",
    "\n",
    "stardist.axes.set_title(\"Distribution of 'Star' ratings\", fontsize =30)\n",
    "stardist.set(xlabel='Stars', ylabel='Count')\n",
    "sns.set(font_scale=4)\n",
    "\n",
    "plt.show()"
   ]
  },
  {
   "cell_type": "code",
   "execution_count": null,
   "metadata": {
    "collapsed": true
   },
   "outputs": [],
   "source": []
  },
  {
   "cell_type": "markdown",
   "metadata": {},
   "source": [
    "Clearly a negative skewed graph; which may change our accuracy per star prediction. "
   ]
  },
  {
   "cell_type": "markdown",
   "metadata": {
    "collapsed": true
   },
   "source": [
    "##### plot distribution text length "
   ]
  },
  {
   "cell_type": "code",
   "execution_count": 211,
   "metadata": {
    "collapsed": true
   },
   "outputs": [],
   "source": [
    "rest_revs['text_len'] = rest_revs.text.apply(lambda x: len(x))"
   ]
  },
  {
   "cell_type": "code",
   "execution_count": 30,
   "metadata": {},
   "outputs": [
    {
     "data": {
      "text/plain": [
       "count    2.927859e+06\n",
       "mean     6.058280e+02\n",
       "std      5.634950e+02\n",
       "min      1.000000e+00\n",
       "25%      2.350000e+02\n",
       "50%      4.280000e+02\n",
       "75%      7.800000e+02\n",
       "max      9.321000e+03\n",
       "Name: text_len, dtype: float64"
      ]
     },
     "execution_count": 30,
     "metadata": {},
     "output_type": "execute_result"
    }
   ],
   "source": [
    "rest_revs.text_len.describe()"
   ]
  },
  {
   "cell_type": "code",
   "execution_count": 31,
   "metadata": {},
   "outputs": [
    {
     "data": {
      "image/png": "[encoded data removed]",
      "text/plain": [
       "<matplotlib.figure.Figure at 0x1a1a3dd0d0>"
      ]
     },
     "metadata": {},
     "output_type": "display_data"
    }
   ],
   "source": [
    "sns.distplot(rest_revs['text_len'], kde=False, color='steelblue', bins=100)\n",
    "plt.show()"
   ]
  },
  {
   "cell_type": "markdown",
   "metadata": {
    "collapsed": true
   },
   "source": [
    "##### let's investigate the distribution of text len further, and identify any possible outliers"
   ]
  },
  {
   "cell_type": "code",
   "execution_count": 174,
   "metadata": {
    "collapsed": true
   },
   "outputs": [],
   "source": [
    "sns.set(font_scale=2)"
   ]
  },
  {
   "cell_type": "code",
   "execution_count": 175,
   "metadata": {},
   "outputs": [
    {
     "data": {
      "image/png": "[encoded data removed]",
      "text/plain": [
       "<matplotlib.figure.Figure at 0x1b8ad86bd0>"
      ]
     },
     "metadata": {
      "image/png": {
       "height": 540,
       "width": 742
      }
     },
     "output_type": "display_data"
    }
   ],
   "source": [
    "popstar = sns.violinplot(x=\"stars\", y=\"text_len\", data=rest_revs, palette=\"Set3\")\n",
    "popstar.axes.set_title(\"Population density of text length per 'Star' rating\", fontsize =30)\n",
    "popstar.set(xlabel='Stars', ylabel='Text Length')\n",
    "#sns.set(font_scale=1)\n",
    "\n",
    "plt.show()\n"
   ]
  },
  {
   "cell_type": "code",
   "execution_count": 33,
   "metadata": {},
   "outputs": [
    {
     "name": "stdout",
     "output_type": "stream",
     "text": [
      "Min text len: 9321 Max text len: 1\n"
     ]
    }
   ],
   "source": [
    "print \"Min text len:\", rest_revs.text_len.max(), \"Max text len:\", rest_revs.text_len.min()"
   ]
  },
  {
   "cell_type": "markdown",
   "metadata": {},
   "source": [
    "Judging by the population distribution of LEN per star, there is a patten in that all star ratings contain a very low amount of text that is longer than 2000 characters. \n",
    "These reviews, along with single character reviews may prove to be outliers. \n",
    "\n",
    "lets count just how many items are text have len> 2000 in the dataset. And how many reviews are less than 3 characters long. Let's not yet look into 3 letter words being potential outliers, I can assume some three lettter words are sentimental enought for a restaurant review..!"
   ]
  },
  {
   "cell_type": "code",
   "execution_count": 34,
   "metadata": {},
   "outputs": [
    {
     "name": "stdout",
     "output_type": "stream",
     "text": [
      "text len >2000 count: 89679\n",
      "% of text len >2000 count: 3.06 %\n",
      "\n",
      "text len <3 count: 14\n",
      "% of text len >2000 count: 0.00048 %\n"
     ]
    }
   ],
   "source": [
    "print \"text len >2000 count:\", rest_revs[(rest_revs['text_len'] >= 2000)].shape[0]\n",
    "\n",
    "perc_len_2000 = rest_revs[(rest_revs['text_len'] >= 2000)].shape[0] / float(len(rest_revs)) *100 \n",
    "print \"% of text len >2000 count: {:0.2f} %\\n\".format(perc_len_2000)\n",
    "\n",
    "print \"text len <3 count:\", rest_revs[(rest_revs['text_len'] < 3)].shape[0]\n",
    "\n",
    "perc_len_2000 = rest_revs[(rest_revs['text_len'] <3 )].shape[0] / float(len(rest_revs)) *100 \n",
    "print \"% of text len >2000 count: {:0.5f} %\".format(perc_len_2000)"
   ]
  },
  {
   "cell_type": "code",
   "execution_count": 35,
   "metadata": {},
   "outputs": [
    {
     "data": {
      "image/png": "[encoded data removed]",
      "text/plain": [
       "<matplotlib.figure.Figure at 0x1a188f2f90>"
      ]
     },
     "metadata": {},
     "output_type": "display_data"
    }
   ],
   "source": [
    "#Lets take a look into the ~96% of our data that contain text below 2000 characters \n",
    "popstar2 = sns.violinplot(x=\"stars\", y=\"text_len\", data=rest_revs[(rest_revs['text_len'] < 2000)], palette=\"Set3\")\n",
    "popstar2.axes.set_title(\"Population density of text length per 'Star' rating (len(text)<2000)\", fontsize =15)\n",
    "popstar2.set(xlabel='Stars', ylabel='Text Length')\n",
    "plt.show()"
   ]
  },
  {
   "cell_type": "markdown",
   "metadata": {},
   "source": [
    "The length of text population density stands out from other star reviews; in that there is a much higher proportion of reviews that have a length between 200 and 250 characters long. Compared to other stars, the tail also decreases at a faster rate with regard to text length."
   ]
  },
  {
   "cell_type": "code",
   "execution_count": 36,
   "metadata": {
    "collapsed": true
   },
   "outputs": [],
   "source": [
    "####################################################################"
   ]
  },
  {
   "cell_type": "code",
   "execution_count": 37,
   "metadata": {
    "collapsed": true
   },
   "outputs": [],
   "source": [
    "def detect_sentiment(text):\n",
    "    return TextBlob(text.decode('utf-8')).sentiment.polarity"
   ]
  },
  {
   "cell_type": "code",
   "execution_count": 38,
   "metadata": {
    "collapsed": true
   },
   "outputs": [],
   "source": [
    "#PERFORM SENTIMENT ANALYSIS OF EACH TEXT (VERY SLOW)\n",
    "if 0 == 1:\n",
    "    rest_revs['sentiment'] = rest_revs.text.apply(detect_sentiment)\n",
    "    \n",
    "    rest_revs_ss = rest_revs[['stars','sentiment','text_len']]\n",
    "    #export as CSV for the \"here's one I prepared earlier\"\n",
    "    rest_revs_ss.to_csv(\"rest_revs_ss.csv\", encoding='utf-8', index = False)\n",
    "\n",
    "#load in pre-prepared doc\n",
    "rest_revs_ss_2 = pd.read_csv('rest_revs_ss.csv')"
   ]
  },
  {
   "cell_type": "code",
   "execution_count": 39,
   "metadata": {},
   "outputs": [
    {
     "data": {
      "text/html": [
       "<div>\n",
       "<style>\n",
       "    .dataframe thead tr:only-child th {\n",
       "        text-align: right;\n",
       "    }\n",
       "\n",
       "    .dataframe thead th {\n",
       "        text-align: left;\n",
       "    }\n",
       "\n",
       "    .dataframe tbody tr th {\n",
       "        vertical-align: top;\n",
       "    }\n",
       "</style>\n",
       "<table border=\"1\" class=\"dataframe\">\n",
       "  <thead>\n",
       "    <tr style=\"text-align: right;\">\n",
       "      <th></th>\n",
       "      <th>stars</th>\n",
       "      <th>sentiment</th>\n",
       "      <th>text_len</th>\n",
       "    </tr>\n",
       "  </thead>\n",
       "  <tbody>\n",
       "    <tr>\n",
       "      <th>0</th>\n",
       "      <td>4.0</td>\n",
       "      <td>0.193333</td>\n",
       "      <td>294</td>\n",
       "    </tr>\n",
       "    <tr>\n",
       "      <th>1</th>\n",
       "      <td>4.0</td>\n",
       "      <td>0.233185</td>\n",
       "      <td>667</td>\n",
       "    </tr>\n",
       "    <tr>\n",
       "      <th>2</th>\n",
       "      <td>5.0</td>\n",
       "      <td>0.546875</td>\n",
       "      <td>288</td>\n",
       "    </tr>\n",
       "    <tr>\n",
       "      <th>3</th>\n",
       "      <td>5.0</td>\n",
       "      <td>-0.158661</td>\n",
       "      <td>151</td>\n",
       "    </tr>\n",
       "    <tr>\n",
       "      <th>4</th>\n",
       "      <td>5.0</td>\n",
       "      <td>0.018750</td>\n",
       "      <td>282</td>\n",
       "    </tr>\n",
       "  </tbody>\n",
       "</table>\n",
       "</div>"
      ],
      "text/plain": [
       "   stars  sentiment  text_len\n",
       "0    4.0   0.193333       294\n",
       "1    4.0   0.233185       667\n",
       "2    5.0   0.546875       288\n",
       "3    5.0  -0.158661       151\n",
       "4    5.0   0.018750       282"
      ]
     },
     "execution_count": 39,
     "metadata": {},
     "output_type": "execute_result"
    }
   ],
   "source": [
    "#CHECK HEAD/SHAPE\n",
    "rest_revs_ss_2.head(5)"
   ]
  },
  {
   "cell_type": "code",
   "execution_count": 40,
   "metadata": {
    "scrolled": true
   },
   "outputs": [
    {
     "data": {
      "image/png": "[encoded data removed]",
      "text/plain": [
       "<matplotlib.figure.Figure at 0x10df745d0>"
      ]
     },
     "metadata": {},
     "output_type": "display_data"
    }
   ],
   "source": [
    "sentimentstar = sns.boxplot(x=\"stars\", y=\"sentiment\", data=rest_revs_ss_2, palette=\"Set3\")\n",
    "sentimentstar.axes.set_title(\"Sentiment polarity per 'Star' rating\", fontsize =15)\n",
    "sentimentstar.set(xlabel='Stars', ylabel='Sentiment')\n",
    "plt.show()\n"
   ]
  },
  {
   "cell_type": "code",
   "execution_count": 41,
   "metadata": {},
   "outputs": [
    {
     "data": {
      "image/png": "[encoded data removed]",
      "text/plain": [
       "<matplotlib.figure.Figure at 0x1a188f28d0>"
      ]
     },
     "metadata": {},
     "output_type": "display_data"
    }
   ],
   "source": [
    "#Lets again take a look into the ~96% of our data that contain text below 2000 characters \n",
    "sentimentstar2 = sns.boxplot(x=\"stars\", y=\"sentiment\", data=rest_revs_ss_2[(rest_revs_ss_2['text_len'] < 2000)], palette=\"Set3\")\n",
    "sentimentstar2.axes.set_title(\"Sentiment polarity per 'Star' rating (len(text)<2000)\", fontsize =15)\n",
    "sentimentstar2.set(xlabel='Stars', ylabel='Sentiment')\n",
    "plt.show()\n"
   ]
  },
  {
   "cell_type": "markdown",
   "metadata": {},
   "source": [
    "As expected, not a huge change in sentiment per text per star;\n",
    "we have only filtered out 3% of the data. "
   ]
  },
  {
   "cell_type": "markdown",
   "metadata": {
    "collapsed": true
   },
   "source": [
    "#### Below I will investigate text frequency in total and then broken down per star rating\n"
   ]
  },
  {
   "cell_type": "code",
   "execution_count": 212,
   "metadata": {
    "scrolled": false
   },
   "outputs": [
    {
     "name": "stdout",
     "output_type": "stream",
     "text": [
      "Top 10 occurring words in reviews\n"
     ]
    },
    {
     "data": {
      "text/html": [
       "<div>\n",
       "<style>\n",
       "    .dataframe thead tr:only-child th {\n",
       "        text-align: right;\n",
       "    }\n",
       "\n",
       "    .dataframe thead th {\n",
       "        text-align: left;\n",
       "    }\n",
       "\n",
       "    .dataframe tbody tr th {\n",
       "        vertical-align: top;\n",
       "    }\n",
       "</style>\n",
       "<table border=\"1\" class=\"dataframe\">\n",
       "  <thead>\n",
       "    <tr style=\"text-align: right;\">\n",
       "      <th></th>\n",
       "      <th>word</th>\n",
       "      <th>frequency</th>\n",
       "    </tr>\n",
       "  </thead>\n",
       "  <tbody>\n",
       "    <tr>\n",
       "      <th>1</th>\n",
       "      <td>food</td>\n",
       "      <td>2283155</td>\n",
       "    </tr>\n",
       "    <tr>\n",
       "      <th>2</th>\n",
       "      <td>good</td>\n",
       "      <td>1902741</td>\n",
       "    </tr>\n",
       "    <tr>\n",
       "      <th>3</th>\n",
       "      <td>place</td>\n",
       "      <td>1716692</td>\n",
       "    </tr>\n",
       "    <tr>\n",
       "      <th>4</th>\n",
       "      <td>great</td>\n",
       "      <td>1356968</td>\n",
       "    </tr>\n",
       "    <tr>\n",
       "      <th>5</th>\n",
       "      <td>service</td>\n",
       "      <td>1188748</td>\n",
       "    </tr>\n",
       "    <tr>\n",
       "      <th>6</th>\n",
       "      <td>like</td>\n",
       "      <td>1129040</td>\n",
       "    </tr>\n",
       "    <tr>\n",
       "      <th>7</th>\n",
       "      <td>just</td>\n",
       "      <td>1080536</td>\n",
       "    </tr>\n",
       "    <tr>\n",
       "      <th>8</th>\n",
       "      <td>time</td>\n",
       "      <td>924412</td>\n",
       "    </tr>\n",
       "    <tr>\n",
       "      <th>9</th>\n",
       "      <td>really</td>\n",
       "      <td>838710</td>\n",
       "    </tr>\n",
       "    <tr>\n",
       "      <th>10</th>\n",
       "      <td>ordered</td>\n",
       "      <td>704895</td>\n",
       "    </tr>\n",
       "  </tbody>\n",
       "</table>\n",
       "</div>"
      ],
      "text/plain": [
       "       word  frequency\n",
       "1      food    2283155\n",
       "2      good    1902741\n",
       "3     place    1716692\n",
       "4     great    1356968\n",
       "5   service    1188748\n",
       "6      like    1129040\n",
       "7      just    1080536\n",
       "8      time     924412\n",
       "9    really     838710\n",
       "10  ordered     704895"
      ]
     },
     "metadata": {},
     "output_type": "display_data"
    },
    {
     "name": "stdout",
     "output_type": "stream",
     "text": [
      "Top 10 occurring words in reviews rated  1 star;\n"
     ]
    },
    {
     "data": {
      "text/html": [
       "<div>\n",
       "<style>\n",
       "    .dataframe thead tr:only-child th {\n",
       "        text-align: right;\n",
       "    }\n",
       "\n",
       "    .dataframe thead th {\n",
       "        text-align: left;\n",
       "    }\n",
       "\n",
       "    .dataframe tbody tr th {\n",
       "        vertical-align: top;\n",
       "    }\n",
       "</style>\n",
       "<table border=\"1\" class=\"dataframe\">\n",
       "  <thead>\n",
       "    <tr style=\"text-align: right;\">\n",
       "      <th></th>\n",
       "      <th>word</th>\n",
       "      <th>frequency</th>\n",
       "    </tr>\n",
       "  </thead>\n",
       "  <tbody>\n",
       "    <tr>\n",
       "      <th>1</th>\n",
       "      <td>food</td>\n",
       "      <td>304994</td>\n",
       "    </tr>\n",
       "    <tr>\n",
       "      <th>2</th>\n",
       "      <td>place</td>\n",
       "      <td>183310</td>\n",
       "    </tr>\n",
       "    <tr>\n",
       "      <th>3</th>\n",
       "      <td>service</td>\n",
       "      <td>159473</td>\n",
       "    </tr>\n",
       "    <tr>\n",
       "      <th>4</th>\n",
       "      <td>just</td>\n",
       "      <td>151147</td>\n",
       "    </tr>\n",
       "    <tr>\n",
       "      <th>5</th>\n",
       "      <td>like</td>\n",
       "      <td>145917</td>\n",
       "    </tr>\n",
       "    <tr>\n",
       "      <th>6</th>\n",
       "      <td>order</td>\n",
       "      <td>133121</td>\n",
       "    </tr>\n",
       "    <tr>\n",
       "      <th>7</th>\n",
       "      <td>time</td>\n",
       "      <td>130796</td>\n",
       "    </tr>\n",
       "    <tr>\n",
       "      <th>8</th>\n",
       "      <td>good</td>\n",
       "      <td>113963</td>\n",
       "    </tr>\n",
       "    <tr>\n",
       "      <th>9</th>\n",
       "      <td>ordered</td>\n",
       "      <td>113958</td>\n",
       "    </tr>\n",
       "    <tr>\n",
       "      <th>10</th>\n",
       "      <td>minutes</td>\n",
       "      <td>95281</td>\n",
       "    </tr>\n",
       "  </tbody>\n",
       "</table>\n",
       "</div>"
      ],
      "text/plain": [
       "       word  frequency\n",
       "1      food     304994\n",
       "2     place     183310\n",
       "3   service     159473\n",
       "4      just     151147\n",
       "5      like     145917\n",
       "6     order     133121\n",
       "7      time     130796\n",
       "8      good     113963\n",
       "9   ordered     113958\n",
       "10  minutes      95281"
      ]
     },
     "metadata": {},
     "output_type": "display_data"
    },
    {
     "name": "stdout",
     "output_type": "stream",
     "text": [
      "\n",
      "Top 10 occurring words in reviews rated  2 star;\n"
     ]
    },
    {
     "data": {
      "text/html": [
       "<div>\n",
       "<style>\n",
       "    .dataframe thead tr:only-child th {\n",
       "        text-align: right;\n",
       "    }\n",
       "\n",
       "    .dataframe thead th {\n",
       "        text-align: left;\n",
       "    }\n",
       "\n",
       "    .dataframe tbody tr th {\n",
       "        vertical-align: top;\n",
       "    }\n",
       "</style>\n",
       "<table border=\"1\" class=\"dataframe\">\n",
       "  <thead>\n",
       "    <tr style=\"text-align: right;\">\n",
       "      <th></th>\n",
       "      <th>word</th>\n",
       "      <th>frequency</th>\n",
       "    </tr>\n",
       "  </thead>\n",
       "  <tbody>\n",
       "    <tr>\n",
       "      <th>1</th>\n",
       "      <td>food</td>\n",
       "      <td>288405</td>\n",
       "    </tr>\n",
       "    <tr>\n",
       "      <th>2</th>\n",
       "      <td>good</td>\n",
       "      <td>191466</td>\n",
       "    </tr>\n",
       "    <tr>\n",
       "      <th>3</th>\n",
       "      <td>place</td>\n",
       "      <td>170178</td>\n",
       "    </tr>\n",
       "    <tr>\n",
       "      <th>4</th>\n",
       "      <td>just</td>\n",
       "      <td>161663</td>\n",
       "    </tr>\n",
       "    <tr>\n",
       "      <th>5</th>\n",
       "      <td>like</td>\n",
       "      <td>157355</td>\n",
       "    </tr>\n",
       "    <tr>\n",
       "      <th>6</th>\n",
       "      <td>service</td>\n",
       "      <td>143066</td>\n",
       "    </tr>\n",
       "    <tr>\n",
       "      <th>7</th>\n",
       "      <td>time</td>\n",
       "      <td>112352</td>\n",
       "    </tr>\n",
       "    <tr>\n",
       "      <th>8</th>\n",
       "      <td>ordered</td>\n",
       "      <td>110292</td>\n",
       "    </tr>\n",
       "    <tr>\n",
       "      <th>9</th>\n",
       "      <td>really</td>\n",
       "      <td>100106</td>\n",
       "    </tr>\n",
       "    <tr>\n",
       "      <th>10</th>\n",
       "      <td>order</td>\n",
       "      <td>89493</td>\n",
       "    </tr>\n",
       "  </tbody>\n",
       "</table>\n",
       "</div>"
      ],
      "text/plain": [
       "       word  frequency\n",
       "1      food     288405\n",
       "2      good     191466\n",
       "3     place     170178\n",
       "4      just     161663\n",
       "5      like     157355\n",
       "6   service     143066\n",
       "7      time     112352\n",
       "8   ordered     110292\n",
       "9    really     100106\n",
       "10    order      89493"
      ]
     },
     "metadata": {},
     "output_type": "display_data"
    },
    {
     "name": "stdout",
     "output_type": "stream",
     "text": [
      "\n",
      "Top 10 occurring words in reviews rated  3 star;\n"
     ]
    },
    {
     "data": {
      "text/html": [
       "<div>\n",
       "<style>\n",
       "    .dataframe thead tr:only-child th {\n",
       "        text-align: right;\n",
       "    }\n",
       "\n",
       "    .dataframe thead th {\n",
       "        text-align: left;\n",
       "    }\n",
       "\n",
       "    .dataframe tbody tr th {\n",
       "        vertical-align: top;\n",
       "    }\n",
       "</style>\n",
       "<table border=\"1\" class=\"dataframe\">\n",
       "  <thead>\n",
       "    <tr style=\"text-align: right;\">\n",
       "      <th></th>\n",
       "      <th>word</th>\n",
       "      <th>frequency</th>\n",
       "    </tr>\n",
       "  </thead>\n",
       "  <tbody>\n",
       "    <tr>\n",
       "      <th>1</th>\n",
       "      <td>good</td>\n",
       "      <td>390331</td>\n",
       "    </tr>\n",
       "    <tr>\n",
       "      <th>2</th>\n",
       "      <td>food</td>\n",
       "      <td>368066</td>\n",
       "    </tr>\n",
       "    <tr>\n",
       "      <th>3</th>\n",
       "      <td>place</td>\n",
       "      <td>254111</td>\n",
       "    </tr>\n",
       "    <tr>\n",
       "      <th>4</th>\n",
       "      <td>like</td>\n",
       "      <td>216604</td>\n",
       "    </tr>\n",
       "    <tr>\n",
       "      <th>5</th>\n",
       "      <td>just</td>\n",
       "      <td>211046</td>\n",
       "    </tr>\n",
       "    <tr>\n",
       "      <th>6</th>\n",
       "      <td>service</td>\n",
       "      <td>188794</td>\n",
       "    </tr>\n",
       "    <tr>\n",
       "      <th>7</th>\n",
       "      <td>really</td>\n",
       "      <td>157928</td>\n",
       "    </tr>\n",
       "    <tr>\n",
       "      <th>8</th>\n",
       "      <td>great</td>\n",
       "      <td>147696</td>\n",
       "    </tr>\n",
       "    <tr>\n",
       "      <th>9</th>\n",
       "      <td>time</td>\n",
       "      <td>143091</td>\n",
       "    </tr>\n",
       "    <tr>\n",
       "      <th>10</th>\n",
       "      <td>ordered</td>\n",
       "      <td>129360</td>\n",
       "    </tr>\n",
       "  </tbody>\n",
       "</table>\n",
       "</div>"
      ],
      "text/plain": [
       "       word  frequency\n",
       "1      good     390331\n",
       "2      food     368066\n",
       "3     place     254111\n",
       "4      like     216604\n",
       "5      just     211046\n",
       "6   service     188794\n",
       "7    really     157928\n",
       "8     great     147696\n",
       "9      time     143091\n",
       "10  ordered     129360"
      ]
     },
     "metadata": {},
     "output_type": "display_data"
    },
    {
     "name": "stdout",
     "output_type": "stream",
     "text": [
      "\n",
      "Top 10 occurring words in reviews rated  4 star;\n"
     ]
    },
    {
     "data": {
      "text/html": [
       "<div>\n",
       "<style>\n",
       "    .dataframe thead tr:only-child th {\n",
       "        text-align: right;\n",
       "    }\n",
       "\n",
       "    .dataframe thead th {\n",
       "        text-align: left;\n",
       "    }\n",
       "\n",
       "    .dataframe tbody tr th {\n",
       "        vertical-align: top;\n",
       "    }\n",
       "</style>\n",
       "<table border=\"1\" class=\"dataframe\">\n",
       "  <thead>\n",
       "    <tr style=\"text-align: right;\">\n",
       "      <th></th>\n",
       "      <th>word</th>\n",
       "      <th>frequency</th>\n",
       "    </tr>\n",
       "  </thead>\n",
       "  <tbody>\n",
       "    <tr>\n",
       "      <th>1</th>\n",
       "      <td>good</td>\n",
       "      <td>697170</td>\n",
       "    </tr>\n",
       "    <tr>\n",
       "      <th>2</th>\n",
       "      <td>food</td>\n",
       "      <td>589379</td>\n",
       "    </tr>\n",
       "    <tr>\n",
       "      <th>3</th>\n",
       "      <td>place</td>\n",
       "      <td>485231</td>\n",
       "    </tr>\n",
       "    <tr>\n",
       "      <th>4</th>\n",
       "      <td>great</td>\n",
       "      <td>453086</td>\n",
       "    </tr>\n",
       "    <tr>\n",
       "      <th>5</th>\n",
       "      <td>like</td>\n",
       "      <td>325317</td>\n",
       "    </tr>\n",
       "    <tr>\n",
       "      <th>6</th>\n",
       "      <td>service</td>\n",
       "      <td>306361</td>\n",
       "    </tr>\n",
       "    <tr>\n",
       "      <th>7</th>\n",
       "      <td>really</td>\n",
       "      <td>280044</td>\n",
       "    </tr>\n",
       "    <tr>\n",
       "      <th>8</th>\n",
       "      <td>just</td>\n",
       "      <td>275148</td>\n",
       "    </tr>\n",
       "    <tr>\n",
       "      <th>9</th>\n",
       "      <td>time</td>\n",
       "      <td>252329</td>\n",
       "    </tr>\n",
       "    <tr>\n",
       "      <th>10</th>\n",
       "      <td>nice</td>\n",
       "      <td>205822</td>\n",
       "    </tr>\n",
       "  </tbody>\n",
       "</table>\n",
       "</div>"
      ],
      "text/plain": [
       "       word  frequency\n",
       "1      good     697170\n",
       "2      food     589379\n",
       "3     place     485231\n",
       "4     great     453086\n",
       "5      like     325317\n",
       "6   service     306361\n",
       "7    really     280044\n",
       "8      just     275148\n",
       "9      time     252329\n",
       "10     nice     205822"
      ]
     },
     "metadata": {},
     "output_type": "display_data"
    },
    {
     "name": "stdout",
     "output_type": "stream",
     "text": [
      "\n",
      "Top 10 occurring words in reviews rated  5 star;\n"
     ]
    },
    {
     "data": {
      "text/html": [
       "<div>\n",
       "<style>\n",
       "    .dataframe thead tr:only-child th {\n",
       "        text-align: right;\n",
       "    }\n",
       "\n",
       "    .dataframe thead th {\n",
       "        text-align: left;\n",
       "    }\n",
       "\n",
       "    .dataframe tbody tr th {\n",
       "        vertical-align: top;\n",
       "    }\n",
       "</style>\n",
       "<table border=\"1\" class=\"dataframe\">\n",
       "  <thead>\n",
       "    <tr style=\"text-align: right;\">\n",
       "      <th></th>\n",
       "      <th>word</th>\n",
       "      <th>frequency</th>\n",
       "    </tr>\n",
       "  </thead>\n",
       "  <tbody>\n",
       "    <tr>\n",
       "      <th>1</th>\n",
       "      <td>food</td>\n",
       "      <td>732311</td>\n",
       "    </tr>\n",
       "    <tr>\n",
       "      <th>2</th>\n",
       "      <td>great</td>\n",
       "      <td>642662</td>\n",
       "    </tr>\n",
       "    <tr>\n",
       "      <th>3</th>\n",
       "      <td>place</td>\n",
       "      <td>623862</td>\n",
       "    </tr>\n",
       "    <tr>\n",
       "      <th>4</th>\n",
       "      <td>good</td>\n",
       "      <td>509811</td>\n",
       "    </tr>\n",
       "    <tr>\n",
       "      <th>5</th>\n",
       "      <td>service</td>\n",
       "      <td>391054</td>\n",
       "    </tr>\n",
       "    <tr>\n",
       "      <th>6</th>\n",
       "      <td>best</td>\n",
       "      <td>310941</td>\n",
       "    </tr>\n",
       "    <tr>\n",
       "      <th>7</th>\n",
       "      <td>time</td>\n",
       "      <td>285844</td>\n",
       "    </tr>\n",
       "    <tr>\n",
       "      <th>8</th>\n",
       "      <td>like</td>\n",
       "      <td>283847</td>\n",
       "    </tr>\n",
       "    <tr>\n",
       "      <th>9</th>\n",
       "      <td>delicious</td>\n",
       "      <td>281711</td>\n",
       "    </tr>\n",
       "    <tr>\n",
       "      <th>10</th>\n",
       "      <td>just</td>\n",
       "      <td>281532</td>\n",
       "    </tr>\n",
       "  </tbody>\n",
       "</table>\n",
       "</div>"
      ],
      "text/plain": [
       "         word  frequency\n",
       "1        food     732311\n",
       "2       great     642662\n",
       "3       place     623862\n",
       "4        good     509811\n",
       "5     service     391054\n",
       "6        best     310941\n",
       "7        time     285844\n",
       "8        like     283847\n",
       "9   delicious     281711\n",
       "10       just     281532"
      ]
     },
     "metadata": {},
     "output_type": "display_data"
    },
    {
     "name": "stdout",
     "output_type": "stream",
     "text": [
      "\n"
     ]
    }
   ],
   "source": [
    "if 0 == 1:   \n",
    "    #remove english stop words by restting the count vectorizer;\n",
    "    cvec = CountVectorizer(stop_words='english')\n",
    "\n",
    "    #fit our new vectorizer; \n",
    "    cvec.fit(rest_revs['text'])\n",
    "\n",
    "    #transform the training data; \n",
    "    cvec_mat = cvec.transform(rest_revs['text'])\n",
    "\n",
    "    #save transformed sparse matrix, cvec_mat\n",
    "    scipy.sparse.save_npz('cvec_mat.npz', cvec_mat)\n",
    "    \n",
    "    #save cvec\n",
    "    with open('cvec.pkl', 'w') as f:\n",
    "        pickle.dump(cvec, f)\n",
    "    \n",
    "if 1 == 1:\n",
    "    cvec_mat = scipy.sparse.load_npz('cvec_mat.npz')\n",
    "    with open('cvec.pkl') as f:\n",
    "        cvec = pickle.load(f)\n",
    "        \n",
    "defmat = cvec_mat.sum(axis=0)\n",
    "list_tot = (zip(cvec.get_feature_names(),defmat.tolist()[0]))\n",
    "dict_tot = dict(list_tot)\n",
    "df_tot = pd.DataFrame(sorted(list_tot,key=itemgetter(1),reverse=True),columns=['word','frequency'])\n",
    "df_tot.index = np.arange(1, len(df_tot) + 1)\n",
    "print \"Top 10 occurring words in reviews\"\n",
    "display(df_tot.head(10))\n",
    "\n",
    "defmat_1 = cvec_mat[(rest_revs.stars==[1]).values].sum(axis=0)\n",
    "list_1 = (zip(cvec.get_feature_names(),defmat_1.tolist()[0]))\n",
    "dict_1 = dict(list_tot)\n",
    "\n",
    "for i in range(1,6):\n",
    "    defmat_i = cvec_mat[(rest_revs.stars==[i]).values].sum(axis=0)\n",
    "    list_i = (zip(cvec.get_feature_names(),defmat_i.tolist()[0]))\n",
    "    df_i = pd.DataFrame(sorted(list_i,key=itemgetter(1),reverse=True)[:10],columns=['word','frequency'])\n",
    "    df_i.index = np.arange(1, len(df_i) + 1)\n",
    "    print \"Top 10 occurring words in reviews rated \",i, \"star;\"\n",
    "    display(df_i) \n",
    "    print       \n",
    "\n",
    "# wordcloud = WordCloud(max_words=5)\n",
    "# wordcloud2 = wordcloud.generate_from_frequencies(dict_tot)\n",
    "# plt.figure()\n",
    "# plt.axis(\"off\")\n",
    "# plt.imshow(wordcloud, interpolation=\"bilinear\")\n",
    "# plt.show()    \n"
   ]
  },
  {
   "cell_type": "code",
   "execution_count": 213,
   "metadata": {
    "collapsed": true
   },
   "outputs": [],
   "source": [
    "defmat_1 = cvec_mat[(rest_revs.stars==[1]).values].sum(axis=0)\n",
    "list_1 = (zip(cvec.get_feature_names(),defmat_1.tolist()[0]))\n",
    "dict_1 = dict(list_1)"
   ]
  },
  {
   "cell_type": "code",
   "execution_count": 214,
   "metadata": {
    "collapsed": true
   },
   "outputs": [],
   "source": [
    "defmat_5 = cvec_mat[(rest_revs.stars==[5]).values].sum(axis=0)\n",
    "list_5 = (zip(cvec.get_feature_names(),defmat_5.tolist()[0]))\n",
    "dict_5 = dict(list_5)"
   ]
  },
  {
   "cell_type": "code",
   "execution_count": 215,
   "metadata": {},
   "outputs": [
    {
     "data": {
      "text/plain": [
       "<wordcloud.wordcloud.WordCloud at 0x1b8ad7d710>"
      ]
     },
     "execution_count": 215,
     "metadata": {},
     "output_type": "execute_result"
    }
   ],
   "source": [
    "r_mask_5 = np.array(Image.open(\"./image/Tup.png\"))[:,:,1] # for a 3D array! or [:, :, 0] depending on image structure\n",
    "#image needs to be black on white background\n",
    "\n",
    "#Icon made by Freepik from www.flaticon.com \n",
    "\n",
    "wc = WordCloud(background_color='white', max_words=350, mask=r_mask_5) #can use hex colors (matplotlib based)\n",
    "wc.generate_from_frequencies(dict_5)\n",
    "\n",
    "wc.to_file(\"./image/Tupwc.png\")"
   ]
  },
  {
   "cell_type": "code",
   "execution_count": 216,
   "metadata": {},
   "outputs": [
    {
     "data": {
      "text/plain": [
       "<wordcloud.wordcloud.WordCloud at 0x1b1d386cd0>"
      ]
     },
     "execution_count": 216,
     "metadata": {},
     "output_type": "execute_result"
    }
   ],
   "source": [
    "r_mask_1 = np.array(Image.open(\"./image/Tdown.png\"))[:,:,1] # for a 3D array! or [:, :, 0] depending on image structure\n",
    "#image needs to be black on white background\n",
    "\n",
    "#Icon made by Freepik from www.flaticon.com \n",
    "\n",
    "wc = WordCloud(background_color=\"white\", max_words=350, mask=r_mask_1)\n",
    "wc.generate_from_frequencies(dict_1)\n",
    "\n",
    "wc.to_file(\"./image/Tdownwc.png\")"
   ]
  },
  {
   "cell_type": "code",
   "execution_count": 230,
   "metadata": {},
   "outputs": [
    {
     "data": {
      "text/plain": [
       "<wordcloud.wordcloud.WordCloud at 0x10fdeb790>"
      ]
     },
     "execution_count": 230,
     "metadata": {},
     "output_type": "execute_result"
    }
   ],
   "source": [
    "r_mask = np.array(Image.open(\"./image/trayE.png\"))[:,:,1] # for a 3D array! or [:, :, 0] depending on image structure\n",
    "#image needs to be black on white background\n",
    "\n",
    "#Icon made by Freepik from www.flaticon.com \n",
    "\n",
    "wc = WordCloud(background_color=\"white\", max_words=200, mask=r_mask)\n",
    "wc.generate_from_frequencies(dict_tot)\n",
    "\n",
    "wc.to_file(\"./image/wctot.png\")\n",
    "\n",
    "#plt.imshow(wc, interpolation='bilinear')\n",
    "#plt.axis(\"off\")\n",
    "#plt.show()"
   ]
  },
  {
   "cell_type": "markdown",
   "metadata": {},
   "source": [
    "<img src=\"./image/wctot.png\" alt=\"Drawing\" style=\"width: 400px;\"/>"
   ]
  },
  {
   "cell_type": "markdown",
   "metadata": {},
   "source": [
    "Clearly some stop words might need to be added, such as ; 'just',' like' and 'got'.\n",
    "\n",
    "There are some expected results here, \"delicious, great\" for 5 stars and, 'minutes', 'order' and 'servive' for one star. \n",
    "\n",
    "But we can't really draw any conclusions from the latter, we expect the reviews to allude to complaints on the matter of time and their order, but at this stage we don't have enough evidence to suggest these words are being used negatively. \n",
    "\n",
    "For this reason, this report will need to consider using n_grams in order to batch together possible adjectives to the noun such as 'bad'+'service'. This is necessary for words like 'really' which can only truly have sentiment towards negative or positive with a noun. "
   ]
  },
  {
   "cell_type": "markdown",
   "metadata": {},
   "source": [
    "Plotting the word frequency distribution, we observe ZIPFs LAW "
   ]
  },
  {
   "cell_type": "code",
   "execution_count": 45,
   "metadata": {},
   "outputs": [
    {
     "data": {
      "image/png": "[encoded data removed]",
      "text/plain": [
       "<matplotlib.figure.Figure at 0x1a15968690>"
      ]
     },
     "metadata": {},
     "output_type": "display_data"
    }
   ],
   "source": [
    "df_tot.plot(kind='hist',\n",
    "                       bins=np.logspace(1,3,50),\n",
    "                       loglog=True,\n",
    "                       title='Number of words with a given number of appearances',\n",
    "                       fontsize=14, yticks=[1000,10000])\n",
    "plt.show()"
   ]
  },
  {
   "cell_type": "markdown",
   "metadata": {},
   "source": [
    "#### Exploring languages in the Dataset. "
   ]
  },
  {
   "cell_type": "code",
   "execution_count": 178,
   "metadata": {
    "collapsed": true
   },
   "outputs": [],
   "source": [
    "rest_revs = pd.read_csv('rest_revs_cln2.csv')"
   ]
  },
  {
   "cell_type": "markdown",
   "metadata": {},
   "source": [
    "WRITE about AWS "
   ]
  },
  {
   "cell_type": "code",
   "execution_count": 180,
   "metadata": {},
   "outputs": [
    {
     "data": {
      "image/png": "[encoded data removed]",
      "text/plain": [
       "<matplotlib.figure.Figure at 0x1c8bf67910>"
      ]
     },
     "metadata": {
      "image/png": {
       "height": 491,
       "width": 667
      }
     },
     "output_type": "display_data"
    },
    {
     "data": {
      "text/plain": [
       "<matplotlib.figure.Figure at 0x1c8bf75850>"
      ]
     },
     "metadata": {},
     "output_type": "display_data"
    },
    {
     "data": {
      "text/html": [
       "<div>\n",
       "<style>\n",
       "    .dataframe thead tr:only-child th {\n",
       "        text-align: right;\n",
       "    }\n",
       "\n",
       "    .dataframe thead th {\n",
       "        text-align: left;\n",
       "    }\n",
       "\n",
       "    .dataframe tbody tr th {\n",
       "        vertical-align: top;\n",
       "    }\n",
       "</style>\n",
       "<table border=\"1\" class=\"dataframe\">\n",
       "  <thead>\n",
       "    <tr style=\"text-align: right;\">\n",
       "      <th></th>\n",
       "      <th>lang</th>\n",
       "      <th>count</th>\n",
       "    </tr>\n",
       "  </thead>\n",
       "  <tbody>\n",
       "    <tr>\n",
       "      <th>0</th>\n",
       "      <td>en</td>\n",
       "      <td>2886919</td>\n",
       "    </tr>\n",
       "    <tr>\n",
       "      <th>1</th>\n",
       "      <td>de</td>\n",
       "      <td>23850</td>\n",
       "    </tr>\n",
       "    <tr>\n",
       "      <th>2</th>\n",
       "      <td>fr</td>\n",
       "      <td>13902</td>\n",
       "    </tr>\n",
       "    <tr>\n",
       "      <th>3</th>\n",
       "      <td>es</td>\n",
       "      <td>1267</td>\n",
       "    </tr>\n",
       "    <tr>\n",
       "      <th>4</th>\n",
       "      <td>it</td>\n",
       "      <td>337</td>\n",
       "    </tr>\n",
       "    <tr>\n",
       "      <th>5</th>\n",
       "      <td>ja</td>\n",
       "      <td>290</td>\n",
       "    </tr>\n",
       "    <tr>\n",
       "      <th>6</th>\n",
       "      <td>nl</td>\n",
       "      <td>143</td>\n",
       "    </tr>\n",
       "    <tr>\n",
       "      <th>7</th>\n",
       "      <td>zh-cn</td>\n",
       "      <td>143</td>\n",
       "    </tr>\n",
       "    <tr>\n",
       "      <th>8</th>\n",
       "      <td>pt</td>\n",
       "      <td>120</td>\n",
       "    </tr>\n",
       "    <tr>\n",
       "      <th>9</th>\n",
       "      <td>af</td>\n",
       "      <td>100</td>\n",
       "    </tr>\n",
       "  </tbody>\n",
       "</table>\n",
       "</div>"
      ],
      "text/plain": [
       "    lang    count\n",
       "0     en  2886919\n",
       "1     de    23850\n",
       "2     fr    13902\n",
       "3     es     1267\n",
       "4     it      337\n",
       "5     ja      290\n",
       "6     nl      143\n",
       "7  zh-cn      143\n",
       "8     pt      120\n",
       "9     af      100"
      ]
     },
     "metadata": {},
     "output_type": "display_data"
    }
   ],
   "source": [
    "def lang_detector(value):\n",
    "        try:\n",
    "            return detect(value)\n",
    "        except:\n",
    "            pass\n",
    "\n",
    "if 1 == 0: #I ran this portion in AWS and reimported into my notebook\n",
    "    rest_revs['lang'] = rest_revs.text.map(lambda x: (lang_detector(x)))\n",
    "\n",
    "langt = pd.DataFrame(rest_revs.lang.value_counts()).head(10)\n",
    "langt.reset_index(level=0, inplace=True)\n",
    "langt.columns = ['lang', 'count']\n",
    "count_list = (langt['count']).tolist()\n",
    "\n",
    "from palettable.colorbrewer.qualitative import Pastel1_7\n",
    "\n",
    "langt = pd.DataFrame(rest_revs.lang.value_counts()).head(10)\n",
    "langt.reset_index(level=0, inplace=True)\n",
    "langt.columns = ['lang', 'count']\n",
    "count_list = (langt['count']).tolist()\n",
    "\n",
    "def my_autopct(pct):\n",
    "    return ('%.1f'% pct) + '%' if pct > 98 else ''\n",
    "\n",
    "labels = ['English','','','','','','','','','']\n",
    "counts = count_list\n",
    "colors=Pastel1_7.hex_colors\n",
    "\n",
    "plt.pie(counts, labels=labels, colors = colors,\n",
    "        autopct=my_autopct, shadow=False)\n",
    "\n",
    "plt.title('Proportion of Languages', fontsize=30)\n",
    "#draw a circle at the center of pie to make it look like a donut\n",
    "centre_circle = plt.Circle((0,0),0.75, fc='white')\n",
    "fig = plt.gcf()\n",
    "fig.gca().add_artist(centre_circle)\n",
    "\n",
    "\n",
    "# Set aspect ratio to be equal so that pie is drawn as a circle.\n",
    "plt.axis('equal')\n",
    "plt.figure(figsize=(20,10))\n",
    "plt.show() \n",
    "display(langt)"
   ]
  },
  {
   "cell_type": "markdown",
   "metadata": {},
   "source": [
    "##### Create a new DF removing outliers identified in the EDA;"
   ]
  },
  {
   "cell_type": "code",
   "execution_count": 92,
   "metadata": {
    "collapsed": true
   },
   "outputs": [],
   "source": [
    "#rest_revs = pd.read_csv('rest_revs_cln2.csv')"
   ]
  },
  {
   "cell_type": "code",
   "execution_count": 185,
   "metadata": {
    "collapsed": true
   },
   "outputs": [],
   "source": [
    "#98.6% of the data is english.\n",
    "\n",
    "#lets remove text with len< 2 and len > 2000 and non english language;\n",
    "rest_revs_cln = rest_revs[(rest_revs.text_len > 2)&(rest_revs.text_len < 2000)]\n",
    "rest_revs_cln = rest_revs[rest_revs.lang == 'en']\n",
    "#the above has removed 40940 observations. \n"
   ]
  },
  {
   "cell_type": "code",
   "execution_count": 190,
   "metadata": {
    "collapsed": true
   },
   "outputs": [],
   "source": [
    "if 1 == 0:\n",
    "    rest_revs_cln.to_csv(\"rest_revs_cln.csv\", encoding='utf-8', index = False)"
   ]
  },
  {
   "cell_type": "code",
   "execution_count": null,
   "metadata": {
    "collapsed": true
   },
   "outputs": [],
   "source": [
    "#############################################################################"
   ]
  },
  {
   "cell_type": "markdown",
   "metadata": {
    "collapsed": true
   },
   "source": [
    "### STEP 4 building the model\n",
    "### (NB for grading;\n",
    "##### some of my functions have taken too long to run, I have specified where this is the case.  I have so far intepreted the Linear Regression model)\n",
    "\n",
    "\n"
   ]
  },
  {
   "cell_type": "code",
   "execution_count": 200,
   "metadata": {
    "collapsed": true
   },
   "outputs": [],
   "source": [
    "rest_revs_cln = pd.read_csv('rest_revs_cln.csv')"
   ]
  },
  {
   "cell_type": "markdown",
   "metadata": {},
   "source": [
    "##### The Baseline. "
   ]
  },
  {
   "cell_type": "markdown",
   "metadata": {},
   "source": [
    "For any classifcation model, it is essential to outline the baseline accuracy.\n",
    "\n",
    "Baseline Accuracy: The accuracy that can be achieved by a model by simply guessing the majority class for every observation.\n",
    "> ** baseline_accuracy = majority_class_N / total_N"
   ]
  },
  {
   "cell_type": "code",
   "execution_count": 6,
   "metadata": {},
   "outputs": [
    {
     "name": "stdout",
     "output_type": "stream",
     "text": [
      "37.06 % of the stars are rated 5\n"
     ]
    }
   ],
   "source": [
    "p_star_5 = float(rest_revs_cln[(rest_revs_cln.stars == 5)].shape[0]) / (rest_revs_cln.shape[0])* 100\n",
    "print \"{0:.2f} % of the stars are rated 5\".format(p_star_5)"
   ]
  },
  {
   "cell_type": "markdown",
   "metadata": {},
   "source": [
    "We need to ensure that the predicting model has a classification accuracy score greater than 0.37. This is because, using the baseline, we can correctly classify a 5 star review at random 37% of the time. "
   ]
  },
  {
   "cell_type": "code",
   "execution_count": 7,
   "metadata": {
    "collapsed": true
   },
   "outputs": [],
   "source": [
    "#Let's add some words observed in our most frequent analysis;\n",
    "custom_stop_words = list(ENGLISH_STOP_WORDS)\n",
    "custom_stop_words.append('just like')\n",
    "custom_stop_words.append('like')\n",
    "custom_stop_words.append('just')"
   ]
  },
  {
   "cell_type": "markdown",
   "metadata": {},
   "source": [
    "First split the data set into variables and targets, and again into training and testing sets,"
   ]
  },
  {
   "cell_type": "code",
   "execution_count": 34,
   "metadata": {
    "collapsed": true
   },
   "outputs": [],
   "source": [
    "#to statify? \n",
    "X = rest_revs_cln.text\n",
    "y = rest_revs_cln.stars\n",
    "\n",
    "#split into training and testing sets; \n",
    "X_train, X_test, y_train, y_test = train_test_split(X, y, stratify=y,random_state=1)\n",
    "\n",
    "\n",
    "#statify;; balance the clases"
   ]
  },
  {
   "cell_type": "code",
   "execution_count": 199,
   "metadata": {},
   "outputs": [
    {
     "data": {
      "text/plain": [
       "'Typical Red Lobster.  Busy.  Good service. Food is delish.... cant get enough of those biscuits!'"
      ]
     },
     "execution_count": 199,
     "metadata": {},
     "output_type": "execute_result"
    }
   ],
   "source": [
    "rest_revs_cln.iloc[89,:].text"
   ]
  },
  {
   "cell_type": "code",
   "execution_count": 197,
   "metadata": {},
   "outputs": [
    {
     "data": {
      "text/html": [
       "<div>\n",
       "<style>\n",
       "    .dataframe thead tr:only-child th {\n",
       "        text-align: right;\n",
       "    }\n",
       "\n",
       "    .dataframe thead th {\n",
       "        text-align: left;\n",
       "    }\n",
       "\n",
       "    .dataframe tbody tr th {\n",
       "        vertical-align: top;\n",
       "    }\n",
       "</style>\n",
       "<table border=\"1\" class=\"dataframe\">\n",
       "  <thead>\n",
       "    <tr style=\"text-align: right;\">\n",
       "      <th></th>\n",
       "      <th>business_id</th>\n",
       "      <th>cool</th>\n",
       "      <th>date</th>\n",
       "      <th>funny</th>\n",
       "      <th>review_id</th>\n",
       "      <th>stars</th>\n",
       "      <th>text</th>\n",
       "      <th>useful</th>\n",
       "      <th>user_id</th>\n",
       "      <th>categories</th>\n",
       "      <th>text_len</th>\n",
       "      <th>lang</th>\n",
       "    </tr>\n",
       "  </thead>\n",
       "  <tbody>\n",
       "    <tr>\n",
       "      <th>7</th>\n",
       "      <td>duHFBe87uNSXImQmvBh87Q</td>\n",
       "      <td>2</td>\n",
       "      <td>2011-08-31</td>\n",
       "      <td>2.0</td>\n",
       "      <td>mv-H-7Vpu_2xtOjRFiqH6g</td>\n",
       "      <td>3</td>\n",
       "      <td>What?  am I really FTR on this?  huh.  weird.\\...</td>\n",
       "      <td>2.0</td>\n",
       "      <td>qibGLHABNReGeJr2w4_8yQ</td>\n",
       "      <td>[Sandwiches, Restaurants]</td>\n",
       "      <td>735</td>\n",
       "      <td>en</td>\n",
       "    </tr>\n",
       "    <tr>\n",
       "      <th>15</th>\n",
       "      <td>SDMRxmcKPNt1AHPBKqO64Q</td>\n",
       "      <td>0</td>\n",
       "      <td>2016-04-10</td>\n",
       "      <td>0.0</td>\n",
       "      <td>fT9506-dhjrMTmYLJO0xmg</td>\n",
       "      <td>3</td>\n",
       "      <td>I am an avid Applebees fan. In high school I u...</td>\n",
       "      <td>0.0</td>\n",
       "      <td>4i0NQ2eyuQZKpXbz8TxBEg</td>\n",
       "      <td>[Burgers, Bars, Restaurants, Sports Bars, Nigh...</td>\n",
       "      <td>599</td>\n",
       "      <td>en</td>\n",
       "    </tr>\n",
       "    <tr>\n",
       "      <th>33</th>\n",
       "      <td>SDMRxmcKPNt1AHPBKqO64Q</td>\n",
       "      <td>0</td>\n",
       "      <td>2011-05-22</td>\n",
       "      <td>0.0</td>\n",
       "      <td>VdBbrOzYAhGQh0w2lu0TOg</td>\n",
       "      <td>3</td>\n",
       "      <td>Had an early lunch here this afternoon with th...</td>\n",
       "      <td>0.0</td>\n",
       "      <td>B7_ARdKo_GT-gjCSRGErXA</td>\n",
       "      <td>[Burgers, Bars, Restaurants, Sports Bars, Nigh...</td>\n",
       "      <td>646</td>\n",
       "      <td>en</td>\n",
       "    </tr>\n",
       "    <tr>\n",
       "      <th>35</th>\n",
       "      <td>iFEiMJoEqyB9O8OUNSdLzA</td>\n",
       "      <td>0</td>\n",
       "      <td>2011-08-28</td>\n",
       "      <td>0.0</td>\n",
       "      <td>jNNjgNtqTwrc5w5IRBGkQA</td>\n",
       "      <td>3</td>\n",
       "      <td>Good (and only to my knowledge) Chinese take o...</td>\n",
       "      <td>0.0</td>\n",
       "      <td>eSlvR2rZ3HB1xNeQIPse8A</td>\n",
       "      <td>[Chinese, Restaurants]</td>\n",
       "      <td>331</td>\n",
       "      <td>en</td>\n",
       "    </tr>\n",
       "    <tr>\n",
       "      <th>36</th>\n",
       "      <td>iFEiMJoEqyB9O8OUNSdLzA</td>\n",
       "      <td>0</td>\n",
       "      <td>2013-09-22</td>\n",
       "      <td>0.0</td>\n",
       "      <td>XK3dX3qrdSuOPSJXoPfSeQ</td>\n",
       "      <td>3</td>\n",
       "      <td>My family comes here after church once or twic...</td>\n",
       "      <td>0.0</td>\n",
       "      <td>4B2Ej2BbOvgxhdssRR2p4g</td>\n",
       "      <td>[Chinese, Restaurants]</td>\n",
       "      <td>356</td>\n",
       "      <td>en</td>\n",
       "    </tr>\n",
       "    <tr>\n",
       "      <th>37</th>\n",
       "      <td>iFEiMJoEqyB9O8OUNSdLzA</td>\n",
       "      <td>0</td>\n",
       "      <td>2016-03-19</td>\n",
       "      <td>0.0</td>\n",
       "      <td>XGaxdTYZIFLb_Ot78Vfzog</td>\n",
       "      <td>3</td>\n",
       "      <td>Pretty standard Chinese food.  Never had a bad...</td>\n",
       "      <td>0.0</td>\n",
       "      <td>HW3ksR6IptVfhVHYgZhJkw</td>\n",
       "      <td>[Chinese, Restaurants]</td>\n",
       "      <td>123</td>\n",
       "      <td>en</td>\n",
       "    </tr>\n",
       "    <tr>\n",
       "      <th>40</th>\n",
       "      <td>HmI9nhgOkrXlUr6KZGZZew</td>\n",
       "      <td>7</td>\n",
       "      <td>2015-04-10</td>\n",
       "      <td>5.0</td>\n",
       "      <td>oCZkDpwJhUY9qHqrZfA_fg</td>\n",
       "      <td>3</td>\n",
       "      <td>Rocky's is the kind of place my family loves, ...</td>\n",
       "      <td>7.0</td>\n",
       "      <td>Ic6-gs1_FjrWGx6JIr95Mw</td>\n",
       "      <td>[Sandwiches, Restaurants, Italian, Diners, Bre...</td>\n",
       "      <td>1084</td>\n",
       "      <td>en</td>\n",
       "    </tr>\n",
       "    <tr>\n",
       "      <th>42</th>\n",
       "      <td>HmI9nhgOkrXlUr6KZGZZew</td>\n",
       "      <td>0</td>\n",
       "      <td>2014-06-10</td>\n",
       "      <td>0.0</td>\n",
       "      <td>kZRM5zzXG8kWhM4TfIUN5A</td>\n",
       "      <td>3</td>\n",
       "      <td>Cheap, fast, and simple.\\nCoffee was a little ...</td>\n",
       "      <td>0.0</td>\n",
       "      <td>YtfoTQbND5lY7lXnI-lc7A</td>\n",
       "      <td>[Sandwiches, Restaurants, Italian, Diners, Bre...</td>\n",
       "      <td>143</td>\n",
       "      <td>en</td>\n",
       "    </tr>\n",
       "    <tr>\n",
       "      <th>43</th>\n",
       "      <td>HmI9nhgOkrXlUr6KZGZZew</td>\n",
       "      <td>0</td>\n",
       "      <td>2017-01-16</td>\n",
       "      <td>0.0</td>\n",
       "      <td>mh0dZv_sCFT6pVyyb8C7Rw</td>\n",
       "      <td>3</td>\n",
       "      <td>Breakfast is good but the service is a little ...</td>\n",
       "      <td>0.0</td>\n",
       "      <td>fVAr-9ICfZMfJk9ow95cBg</td>\n",
       "      <td>[Sandwiches, Restaurants, Italian, Diners, Bre...</td>\n",
       "      <td>180</td>\n",
       "      <td>en</td>\n",
       "    </tr>\n",
       "    <tr>\n",
       "      <th>47</th>\n",
       "      <td>HmI9nhgOkrXlUr6KZGZZew</td>\n",
       "      <td>0</td>\n",
       "      <td>2014-10-24</td>\n",
       "      <td>0.0</td>\n",
       "      <td>FzHZ3qUStTwaD2P2ge9F9g</td>\n",
       "      <td>3</td>\n",
       "      <td>I heard that \"The Earth without Art is just Eh...</td>\n",
       "      <td>0.0</td>\n",
       "      <td>C2uHg9HwI05pfaEhWCjuIA</td>\n",
       "      <td>[Sandwiches, Restaurants, Italian, Diners, Bre...</td>\n",
       "      <td>443</td>\n",
       "      <td>en</td>\n",
       "    </tr>\n",
       "    <tr>\n",
       "      <th>49</th>\n",
       "      <td>HmI9nhgOkrXlUr6KZGZZew</td>\n",
       "      <td>1</td>\n",
       "      <td>2011-08-27</td>\n",
       "      <td>1.0</td>\n",
       "      <td>0h8YznCmYaQ4IvM9b_A8IQ</td>\n",
       "      <td>3</td>\n",
       "      <td>Cash only\\n\\nYou'd never find this place if yo...</td>\n",
       "      <td>3.0</td>\n",
       "      <td>B5FTjNWSgkAQ9UjOKVjGhw</td>\n",
       "      <td>[Sandwiches, Restaurants, Italian, Diners, Bre...</td>\n",
       "      <td>2082</td>\n",
       "      <td>en</td>\n",
       "    </tr>\n",
       "    <tr>\n",
       "      <th>52</th>\n",
       "      <td>HmI9nhgOkrXlUr6KZGZZew</td>\n",
       "      <td>7</td>\n",
       "      <td>2017-05-08</td>\n",
       "      <td>3.0</td>\n",
       "      <td>JMYd5tESziusFk7kIa8n5g</td>\n",
       "      <td>3</td>\n",
       "      <td>This little diner is a staple in Bloomfield's ...</td>\n",
       "      <td>5.0</td>\n",
       "      <td>6Ki3bAL0wx9ymbdJqbSWMA</td>\n",
       "      <td>[Sandwiches, Restaurants, Italian, Diners, Bre...</td>\n",
       "      <td>466</td>\n",
       "      <td>en</td>\n",
       "    </tr>\n",
       "    <tr>\n",
       "      <th>56</th>\n",
       "      <td>qnpvw-uQyRn9nlClWFK9aA</td>\n",
       "      <td>0</td>\n",
       "      <td>2013-03-25</td>\n",
       "      <td>1.0</td>\n",
       "      <td>Wt32E4mOu8IeeGrtgnBxGw</td>\n",
       "      <td>3</td>\n",
       "      <td>In the hockey season, my house becomes a meeti...</td>\n",
       "      <td>0.0</td>\n",
       "      <td>PGeiszoVusiv0wTHVdWklA</td>\n",
       "      <td>[Chicken Wings, Restaurants]</td>\n",
       "      <td>1732</td>\n",
       "      <td>en</td>\n",
       "    </tr>\n",
       "    <tr>\n",
       "      <th>59</th>\n",
       "      <td>TXiEgINSZ75d3EtvLvkc4Q</td>\n",
       "      <td>0</td>\n",
       "      <td>2015-08-14</td>\n",
       "      <td>0.0</td>\n",
       "      <td>a51R1Y9oRFHpVwuNpcSK9A</td>\n",
       "      <td>3</td>\n",
       "      <td>My husband and I discovered we had never been ...</td>\n",
       "      <td>0.0</td>\n",
       "      <td>l6mGmPjWUZESNTGQAVS8MA</td>\n",
       "      <td>[Restaurants, Seafood, American (Traditional)]</td>\n",
       "      <td>605</td>\n",
       "      <td>en</td>\n",
       "    </tr>\n",
       "    <tr>\n",
       "      <th>61</th>\n",
       "      <td>TXiEgINSZ75d3EtvLvkc4Q</td>\n",
       "      <td>0</td>\n",
       "      <td>2008-08-04</td>\n",
       "      <td>2.0</td>\n",
       "      <td>CbXLPHY9hXa13zNBQmhj3g</td>\n",
       "      <td>3</td>\n",
       "      <td>Red Lobster is always really crowded because p...</td>\n",
       "      <td>0.0</td>\n",
       "      <td>L-IwJ7QPpg381tOfl61x7A</td>\n",
       "      <td>[Restaurants, Seafood, American (Traditional)]</td>\n",
       "      <td>693</td>\n",
       "      <td>en</td>\n",
       "    </tr>\n",
       "    <tr>\n",
       "      <th>66</th>\n",
       "      <td>TXiEgINSZ75d3EtvLvkc4Q</td>\n",
       "      <td>0</td>\n",
       "      <td>2013-07-05</td>\n",
       "      <td>0.0</td>\n",
       "      <td>BxH9ulahiaYiOHFDv2kyyQ</td>\n",
       "      <td>3</td>\n",
       "      <td>My wife and I stopped at the Red Lobster on 7/...</td>\n",
       "      <td>0.0</td>\n",
       "      <td>N_fPdyj_jwHOnMe1uKeHxQ</td>\n",
       "      <td>[Restaurants, Seafood, American (Traditional)]</td>\n",
       "      <td>572</td>\n",
       "      <td>en</td>\n",
       "    </tr>\n",
       "    <tr>\n",
       "      <th>88</th>\n",
       "      <td>TXiEgINSZ75d3EtvLvkc4Q</td>\n",
       "      <td>0</td>\n",
       "      <td>2012-10-13</td>\n",
       "      <td>0.0</td>\n",
       "      <td>xT20ria-dB3mdAd3KVMgtA</td>\n",
       "      <td>3</td>\n",
       "      <td>I went here for all you can eat shrimp. The sh...</td>\n",
       "      <td>0.0</td>\n",
       "      <td>1sHVuEifFTKjcskLTsw2mg</td>\n",
       "      <td>[Restaurants, Seafood, American (Traditional)]</td>\n",
       "      <td>235</td>\n",
       "      <td>en</td>\n",
       "    </tr>\n",
       "    <tr>\n",
       "      <th>89</th>\n",
       "      <td>TXiEgINSZ75d3EtvLvkc4Q</td>\n",
       "      <td>0</td>\n",
       "      <td>2010-08-19</td>\n",
       "      <td>1.0</td>\n",
       "      <td>G7OTScXR_KPoPxKm9LLfbg</td>\n",
       "      <td>3</td>\n",
       "      <td>Typical Red Lobster.  Busy.  Good service. Foo...</td>\n",
       "      <td>0.0</td>\n",
       "      <td>zn2sXv_kzQ5GF0SJ4fj83Q</td>\n",
       "      <td>[Restaurants, Seafood, American (Traditional)]</td>\n",
       "      <td>96</td>\n",
       "      <td>en</td>\n",
       "    </tr>\n",
       "    <tr>\n",
       "      <th>97</th>\n",
       "      <td>TXiEgINSZ75d3EtvLvkc4Q</td>\n",
       "      <td>0</td>\n",
       "      <td>2015-07-14</td>\n",
       "      <td>0.0</td>\n",
       "      <td>8RoZLcBP2gdS1Zf45lYU7w</td>\n",
       "      <td>3</td>\n",
       "      <td>Don't go here if you expect fresh seafood. Thi...</td>\n",
       "      <td>1.0</td>\n",
       "      <td>KbtcIPQdfmXToZV24trjVg</td>\n",
       "      <td>[Restaurants, Seafood, American (Traditional)]</td>\n",
       "      <td>253</td>\n",
       "      <td>en</td>\n",
       "    </tr>\n",
       "    <tr>\n",
       "      <th>100</th>\n",
       "      <td>TXiEgINSZ75d3EtvLvkc4Q</td>\n",
       "      <td>0</td>\n",
       "      <td>2014-07-07</td>\n",
       "      <td>0.0</td>\n",
       "      <td>Qk20OKyLW8YNfPN4hVPSvA</td>\n",
       "      <td>3</td>\n",
       "      <td>Solid seafood place.  I had the tilapia last v...</td>\n",
       "      <td>0.0</td>\n",
       "      <td>tdobWakwQAVram572TsrQQ</td>\n",
       "      <td>[Restaurants, Seafood, American (Traditional)]</td>\n",
       "      <td>589</td>\n",
       "      <td>en</td>\n",
       "    </tr>\n",
       "    <tr>\n",
       "      <th>107</th>\n",
       "      <td>KW4y7uDGjVfU3ClkEjIGhg</td>\n",
       "      <td>0</td>\n",
       "      <td>2014-03-08</td>\n",
       "      <td>0.0</td>\n",
       "      <td>44zfHItZKscDiCoWVn21UA</td>\n",
       "      <td>3</td>\n",
       "      <td>Came here with Thursday night with my girls ra...</td>\n",
       "      <td>0.0</td>\n",
       "      <td>PTcKYk_qU-WzbQjraE3TgQ</td>\n",
       "      <td>[Burgers, Restaurants]</td>\n",
       "      <td>1215</td>\n",
       "      <td>en</td>\n",
       "    </tr>\n",
       "    <tr>\n",
       "      <th>112</th>\n",
       "      <td>KW4y7uDGjVfU3ClkEjIGhg</td>\n",
       "      <td>0</td>\n",
       "      <td>2015-07-03</td>\n",
       "      <td>0.0</td>\n",
       "      <td>UssEvhIV5ZPcf0sGN_cLyQ</td>\n",
       "      <td>3</td>\n",
       "      <td>The decorations were quite unique.\\n\\nI came h...</td>\n",
       "      <td>0.0</td>\n",
       "      <td>paYZw5wsS25IzzBZtijB8A</td>\n",
       "      <td>[Burgers, Restaurants]</td>\n",
       "      <td>189</td>\n",
       "      <td>en</td>\n",
       "    </tr>\n",
       "    <tr>\n",
       "      <th>116</th>\n",
       "      <td>KW4y7uDGjVfU3ClkEjIGhg</td>\n",
       "      <td>0</td>\n",
       "      <td>2014-12-21</td>\n",
       "      <td>0.0</td>\n",
       "      <td>Z2myiQDyGaoi3Qfnn8Oq9A</td>\n",
       "      <td>3</td>\n",
       "      <td>Premium burger at a premium price not the best...</td>\n",
       "      <td>0.0</td>\n",
       "      <td>Bdr51Z3TJxpoY9YwU4k3EQ</td>\n",
       "      <td>[Burgers, Restaurants]</td>\n",
       "      <td>224</td>\n",
       "      <td>en</td>\n",
       "    </tr>\n",
       "    <tr>\n",
       "      <th>126</th>\n",
       "      <td>KW4y7uDGjVfU3ClkEjIGhg</td>\n",
       "      <td>0</td>\n",
       "      <td>2014-08-11</td>\n",
       "      <td>0.0</td>\n",
       "      <td>D9AP3TpTa5nsTU0Zfgic0w</td>\n",
       "      <td>3</td>\n",
       "      <td>Burgers were pretty good and my wife loved the...</td>\n",
       "      <td>0.0</td>\n",
       "      <td>jg3zs74fuQePcjPjnjy-Xw</td>\n",
       "      <td>[Burgers, Restaurants]</td>\n",
       "      <td>476</td>\n",
       "      <td>en</td>\n",
       "    </tr>\n",
       "    <tr>\n",
       "      <th>130</th>\n",
       "      <td>KW4y7uDGjVfU3ClkEjIGhg</td>\n",
       "      <td>0</td>\n",
       "      <td>2015-07-10</td>\n",
       "      <td>0.0</td>\n",
       "      <td>Zv3vZHYUyEbuoP6i5LJW6Q</td>\n",
       "      <td>3</td>\n",
       "      <td>This isn't a fast food burger joint but more o...</td>\n",
       "      <td>0.0</td>\n",
       "      <td>2e5V6M4GNufEnbGJpVdCjw</td>\n",
       "      <td>[Burgers, Restaurants]</td>\n",
       "      <td>816</td>\n",
       "      <td>en</td>\n",
       "    </tr>\n",
       "    <tr>\n",
       "      <th>136</th>\n",
       "      <td>KW4y7uDGjVfU3ClkEjIGhg</td>\n",
       "      <td>0</td>\n",
       "      <td>2015-04-28</td>\n",
       "      <td>0.0</td>\n",
       "      <td>6ngybM0RF6PkWAsv_Ch3Yg</td>\n",
       "      <td>3</td>\n",
       "      <td>Originally had The Works when I lived in Ottaw...</td>\n",
       "      <td>0.0</td>\n",
       "      <td>BV-zv5pURcprj1UKcYNwqQ</td>\n",
       "      <td>[Burgers, Restaurants]</td>\n",
       "      <td>193</td>\n",
       "      <td>en</td>\n",
       "    </tr>\n",
       "    <tr>\n",
       "      <th>140</th>\n",
       "      <td>KW4y7uDGjVfU3ClkEjIGhg</td>\n",
       "      <td>0</td>\n",
       "      <td>2014-12-23</td>\n",
       "      <td>0.0</td>\n",
       "      <td>RjjsZGG9_-21z7I-BgoGOQ</td>\n",
       "      <td>3</td>\n",
       "      <td>Burger selection is interesting. Tables are al...</td>\n",
       "      <td>0.0</td>\n",
       "      <td>_alZk6U7ZO-6bBmpKcF2FQ</td>\n",
       "      <td>[Burgers, Restaurants]</td>\n",
       "      <td>301</td>\n",
       "      <td>en</td>\n",
       "    </tr>\n",
       "    <tr>\n",
       "      <th>141</th>\n",
       "      <td>KW4y7uDGjVfU3ClkEjIGhg</td>\n",
       "      <td>0</td>\n",
       "      <td>2014-01-05</td>\n",
       "      <td>0.0</td>\n",
       "      <td>-jibvvochOqbCJCWDMEFJg</td>\n",
       "      <td>3</td>\n",
       "      <td>Delicious burgers. My husband and I ordered fo...</td>\n",
       "      <td>0.0</td>\n",
       "      <td>yvs_5QtJCV5EYJkbcBFoxg</td>\n",
       "      <td>[Burgers, Restaurants]</td>\n",
       "      <td>451</td>\n",
       "      <td>en</td>\n",
       "    </tr>\n",
       "    <tr>\n",
       "      <th>145</th>\n",
       "      <td>reWc1g65PNZnKz_Ub9QKOQ</td>\n",
       "      <td>1</td>\n",
       "      <td>2017-04-16</td>\n",
       "      <td>0.0</td>\n",
       "      <td>TLFIk2eVhH9JQRGuHjtIYA</td>\n",
       "      <td>3</td>\n",
       "      <td>Lots of TVs, a nice bar area, large dining roo...</td>\n",
       "      <td>0.0</td>\n",
       "      <td>i7QG1ixeuFwpemeLvmRKHA</td>\n",
       "      <td>[Comfort Food, Canadian (New), Restaurants, Ba...</td>\n",
       "      <td>1190</td>\n",
       "      <td>en</td>\n",
       "    </tr>\n",
       "    <tr>\n",
       "      <th>147</th>\n",
       "      <td>reWc1g65PNZnKz_Ub9QKOQ</td>\n",
       "      <td>0</td>\n",
       "      <td>2016-04-08</td>\n",
       "      <td>0.0</td>\n",
       "      <td>wjS1DRuIBQ3BP-8_H0qKxg</td>\n",
       "      <td>3</td>\n",
       "      <td>Great service, comfortable setting, with reall...</td>\n",
       "      <td>0.0</td>\n",
       "      <td>fjFYpwpvlIlqoiNa3myDEA</td>\n",
       "      <td>[Comfort Food, Canadian (New), Restaurants, Ba...</td>\n",
       "      <td>731</td>\n",
       "      <td>en</td>\n",
       "    </tr>\n",
       "    <tr>\n",
       "      <th>...</th>\n",
       "      <td>...</td>\n",
       "      <td>...</td>\n",
       "      <td>...</td>\n",
       "      <td>...</td>\n",
       "      <td>...</td>\n",
       "      <td>...</td>\n",
       "      <td>...</td>\n",
       "      <td>...</td>\n",
       "      <td>...</td>\n",
       "      <td>...</td>\n",
       "      <td>...</td>\n",
       "      <td>...</td>\n",
       "    </tr>\n",
       "    <tr>\n",
       "      <th>2886685</th>\n",
       "      <td>a8pmtlVKf7NiSLI-4KejIw</td>\n",
       "      <td>1</td>\n",
       "      <td>2013-09-19</td>\n",
       "      <td>0.0</td>\n",
       "      <td>5Ee6vTKYzlUPSylrrsX2DA</td>\n",
       "      <td>3</td>\n",
       "      <td>Some restaurants are great for a date, El Catr...</td>\n",
       "      <td>2.0</td>\n",
       "      <td>CxDOIDnH8gp9KXzpBHJYXw</td>\n",
       "      <td>[Mexican, Tapas/Small Plates, Restaurants]</td>\n",
       "      <td>1301</td>\n",
       "      <td>en</td>\n",
       "    </tr>\n",
       "    <tr>\n",
       "      <th>2886688</th>\n",
       "      <td>a8pmtlVKf7NiSLI-4KejIw</td>\n",
       "      <td>0</td>\n",
       "      <td>2015-08-14</td>\n",
       "      <td>0.0</td>\n",
       "      <td>DcCfpVWJkPGlCMFs5pPBsg</td>\n",
       "      <td>3</td>\n",
       "      <td>Came here on a Saturday night around 6pm with ...</td>\n",
       "      <td>0.0</td>\n",
       "      <td>y4X0gtQgW7XcvRxFjDPi_Q</td>\n",
       "      <td>[Mexican, Tapas/Small Plates, Restaurants]</td>\n",
       "      <td>503</td>\n",
       "      <td>en</td>\n",
       "    </tr>\n",
       "    <tr>\n",
       "      <th>2886690</th>\n",
       "      <td>a8pmtlVKf7NiSLI-4KejIw</td>\n",
       "      <td>0</td>\n",
       "      <td>2017-05-21</td>\n",
       "      <td>0.0</td>\n",
       "      <td>_67wwNGTl1vC-oD-c8glPg</td>\n",
       "      <td>3</td>\n",
       "      <td>Service - slow, server was very quiet, menu wa...</td>\n",
       "      <td>0.0</td>\n",
       "      <td>Nz7vUmbqj1FXnNIMkPfCxg</td>\n",
       "      <td>[Mexican, Tapas/Small Plates, Restaurants]</td>\n",
       "      <td>330</td>\n",
       "      <td>en</td>\n",
       "    </tr>\n",
       "    <tr>\n",
       "      <th>2886695</th>\n",
       "      <td>a8pmtlVKf7NiSLI-4KejIw</td>\n",
       "      <td>0</td>\n",
       "      <td>2016-09-11</td>\n",
       "      <td>0.0</td>\n",
       "      <td>azxVbkiZKhCFkTpTwBfCkQ</td>\n",
       "      <td>3</td>\n",
       "      <td>nice location in the distillery district and n...</td>\n",
       "      <td>0.0</td>\n",
       "      <td>59sTNJ_ZaglgvE_71yW5yw</td>\n",
       "      <td>[Mexican, Tapas/Small Plates, Restaurants]</td>\n",
       "      <td>382</td>\n",
       "      <td>en</td>\n",
       "    </tr>\n",
       "    <tr>\n",
       "      <th>2886703</th>\n",
       "      <td>a8pmtlVKf7NiSLI-4KejIw</td>\n",
       "      <td>0</td>\n",
       "      <td>2017-02-26</td>\n",
       "      <td>0.0</td>\n",
       "      <td>KkhXbhPBWpPR2t61yjX8uQ</td>\n",
       "      <td>3</td>\n",
       "      <td>I've had a couple great experiences paired wit...</td>\n",
       "      <td>0.0</td>\n",
       "      <td>sPxUXz7NOn67yKB7pgzcAQ</td>\n",
       "      <td>[Mexican, Tapas/Small Plates, Restaurants]</td>\n",
       "      <td>865</td>\n",
       "      <td>en</td>\n",
       "    </tr>\n",
       "    <tr>\n",
       "      <th>2886704</th>\n",
       "      <td>a8pmtlVKf7NiSLI-4KejIw</td>\n",
       "      <td>0</td>\n",
       "      <td>2015-04-20</td>\n",
       "      <td>0.0</td>\n",
       "      <td>FDRrnU6UG2EwAc0cWHsUKg</td>\n",
       "      <td>3</td>\n",
       "      <td>Overall, food was good and service poor at our...</td>\n",
       "      <td>1.0</td>\n",
       "      <td>tW5rxI5Fn2ncxLMiO1dn0A</td>\n",
       "      <td>[Mexican, Tapas/Small Plates, Restaurants]</td>\n",
       "      <td>457</td>\n",
       "      <td>en</td>\n",
       "    </tr>\n",
       "    <tr>\n",
       "      <th>2886723</th>\n",
       "      <td>bYfEp3NMskYfEzWL8tVb4w</td>\n",
       "      <td>0</td>\n",
       "      <td>2017-07-04</td>\n",
       "      <td>0.0</td>\n",
       "      <td>ljiXJ-ZJ4VJXq9jf8WqSwg</td>\n",
       "      <td>3</td>\n",
       "      <td>Discovered this place randomly.  Being from Ne...</td>\n",
       "      <td>0.0</td>\n",
       "      <td>OQ3OO4C8HxDOruIb7RHbaw</td>\n",
       "      <td>[Restaurants, Argentine]</td>\n",
       "      <td>402</td>\n",
       "      <td>en</td>\n",
       "    </tr>\n",
       "    <tr>\n",
       "      <th>2886730</th>\n",
       "      <td>bYfEp3NMskYfEzWL8tVb4w</td>\n",
       "      <td>0</td>\n",
       "      <td>2017-04-24</td>\n",
       "      <td>0.0</td>\n",
       "      <td>74FR93yHEuoI75nilnKRJQ</td>\n",
       "      <td>3</td>\n",
       "      <td>Very tasty, but service was sooooooo long.. we...</td>\n",
       "      <td>0.0</td>\n",
       "      <td>lqHHmEqJcb7itySp6uAoAQ</td>\n",
       "      <td>[Restaurants, Argentine]</td>\n",
       "      <td>382</td>\n",
       "      <td>en</td>\n",
       "    </tr>\n",
       "    <tr>\n",
       "      <th>2886748</th>\n",
       "      <td>euUGjobp4ig838a0DE06bQ</td>\n",
       "      <td>2</td>\n",
       "      <td>2011-08-09</td>\n",
       "      <td>2.0</td>\n",
       "      <td>Qvw6v8MTov57i8LYyVsRNw</td>\n",
       "      <td>3</td>\n",
       "      <td>This is a great chili dog / Chicago style dog ...</td>\n",
       "      <td>4.0</td>\n",
       "      <td>BFTxzvXftqqBFgfry1kBgw</td>\n",
       "      <td>[Restaurants, Hot Dogs]</td>\n",
       "      <td>529</td>\n",
       "      <td>en</td>\n",
       "    </tr>\n",
       "    <tr>\n",
       "      <th>2886764</th>\n",
       "      <td>euUGjobp4ig838a0DE06bQ</td>\n",
       "      <td>0</td>\n",
       "      <td>2012-09-20</td>\n",
       "      <td>0.0</td>\n",
       "      <td>g_lhCK_IQtqZIXD8m6dLdA</td>\n",
       "      <td>3</td>\n",
       "      <td>The Which-Wich style of Hot-Dog orders, this p...</td>\n",
       "      <td>0.0</td>\n",
       "      <td>JzBcNjRCxb7rbZHFquHDsQ</td>\n",
       "      <td>[Restaurants, Hot Dogs]</td>\n",
       "      <td>485</td>\n",
       "      <td>en</td>\n",
       "    </tr>\n",
       "    <tr>\n",
       "      <th>2886780</th>\n",
       "      <td>euUGjobp4ig838a0DE06bQ</td>\n",
       "      <td>0</td>\n",
       "      <td>2012-10-05</td>\n",
       "      <td>0.0</td>\n",
       "      <td>WtNaxG3LFpLUkm7aOQDBhw</td>\n",
       "      <td>3</td>\n",
       "      <td>Good food but a Lot of it. Bring an appetite. ...</td>\n",
       "      <td>0.0</td>\n",
       "      <td>yovonb7SxWGZvyNvRiwGbQ</td>\n",
       "      <td>[Restaurants, Hot Dogs]</td>\n",
       "      <td>348</td>\n",
       "      <td>en</td>\n",
       "    </tr>\n",
       "    <tr>\n",
       "      <th>2886789</th>\n",
       "      <td>Pb5AfEWAB8GWlHyy-p-l1g</td>\n",
       "      <td>0</td>\n",
       "      <td>2015-03-08</td>\n",
       "      <td>0.0</td>\n",
       "      <td>0tRxRS6P8NKfy3LQ9Rc-dw</td>\n",
       "      <td>3</td>\n",
       "      <td>3 stars = average.  Nino's service was excelle...</td>\n",
       "      <td>1.0</td>\n",
       "      <td>rOKLo5-U4HTg_q3tV1nbbg</td>\n",
       "      <td>[Restaurants, Mexican]</td>\n",
       "      <td>663</td>\n",
       "      <td>en</td>\n",
       "    </tr>\n",
       "    <tr>\n",
       "      <th>2886798</th>\n",
       "      <td>Pb5AfEWAB8GWlHyy-p-l1g</td>\n",
       "      <td>1</td>\n",
       "      <td>2013-01-12</td>\n",
       "      <td>0.0</td>\n",
       "      <td>Lmv1fqyJdnctD0mj7Thx9A</td>\n",
       "      <td>3</td>\n",
       "      <td>Good neighborhood spot.  Service is fast and f...</td>\n",
       "      <td>2.0</td>\n",
       "      <td>Ree1FvzMPKhvTXlcHPpjdw</td>\n",
       "      <td>[Restaurants, Mexican]</td>\n",
       "      <td>390</td>\n",
       "      <td>en</td>\n",
       "    </tr>\n",
       "    <tr>\n",
       "      <th>2886804</th>\n",
       "      <td>Pb5AfEWAB8GWlHyy-p-l1g</td>\n",
       "      <td>0</td>\n",
       "      <td>2013-12-28</td>\n",
       "      <td>0.0</td>\n",
       "      <td>y1mbIsnhAoNAArSn9J0MQA</td>\n",
       "      <td>3</td>\n",
       "      <td>Passing through the area on a road trip and ch...</td>\n",
       "      <td>0.0</td>\n",
       "      <td>B0GzGKOcaA9jsPPj0skd1g</td>\n",
       "      <td>[Restaurants, Mexican]</td>\n",
       "      <td>652</td>\n",
       "      <td>en</td>\n",
       "    </tr>\n",
       "    <tr>\n",
       "      <th>2886805</th>\n",
       "      <td>Pb5AfEWAB8GWlHyy-p-l1g</td>\n",
       "      <td>0</td>\n",
       "      <td>2015-01-26</td>\n",
       "      <td>0.0</td>\n",
       "      <td>pWbaTptb4A5527DE0WSTpA</td>\n",
       "      <td>3</td>\n",
       "      <td>Good for Sun City Mexican food. The salsa is O...</td>\n",
       "      <td>0.0</td>\n",
       "      <td>QGgWWhEi5R4SLAKN-xwtNQ</td>\n",
       "      <td>[Restaurants, Mexican]</td>\n",
       "      <td>316</td>\n",
       "      <td>en</td>\n",
       "    </tr>\n",
       "    <tr>\n",
       "      <th>2886806</th>\n",
       "      <td>Pb5AfEWAB8GWlHyy-p-l1g</td>\n",
       "      <td>1</td>\n",
       "      <td>2016-05-05</td>\n",
       "      <td>1.0</td>\n",
       "      <td>OpM7Rwodi8tGtiImDUQ1pA</td>\n",
       "      <td>3</td>\n",
       "      <td>Waitress excellent. Extra hot salsa was delici...</td>\n",
       "      <td>1.0</td>\n",
       "      <td>rtRVb54VIXOUI_5mT1rhgQ</td>\n",
       "      <td>[Restaurants, Mexican]</td>\n",
       "      <td>280</td>\n",
       "      <td>en</td>\n",
       "    </tr>\n",
       "    <tr>\n",
       "      <th>2886817</th>\n",
       "      <td>Pb5AfEWAB8GWlHyy-p-l1g</td>\n",
       "      <td>0</td>\n",
       "      <td>2016-12-06</td>\n",
       "      <td>1.0</td>\n",
       "      <td>HeIuYqPtflXGC-Y0RgptKg</td>\n",
       "      <td>3</td>\n",
       "      <td>I'm giving this place 3 stars for service and ...</td>\n",
       "      <td>1.0</td>\n",
       "      <td>obettcCSzjToe-k4XJivYg</td>\n",
       "      <td>[Restaurants, Mexican]</td>\n",
       "      <td>1370</td>\n",
       "      <td>en</td>\n",
       "    </tr>\n",
       "    <tr>\n",
       "      <th>2886823</th>\n",
       "      <td>Pb5AfEWAB8GWlHyy-p-l1g</td>\n",
       "      <td>0</td>\n",
       "      <td>2013-04-24</td>\n",
       "      <td>0.0</td>\n",
       "      <td>qZpcAE4NtUUGGeeM5EkdPw</td>\n",
       "      <td>3</td>\n",
       "      <td>Great green chilli burro enchilada style...lik...</td>\n",
       "      <td>0.0</td>\n",
       "      <td>6Rj0oZKAGM_X0JhcxrT5Bg</td>\n",
       "      <td>[Restaurants, Mexican]</td>\n",
       "      <td>416</td>\n",
       "      <td>en</td>\n",
       "    </tr>\n",
       "    <tr>\n",
       "      <th>2886859</th>\n",
       "      <td>hdNOL59QqvGlg70E4yHrsQ</td>\n",
       "      <td>0</td>\n",
       "      <td>2013-05-19</td>\n",
       "      <td>0.0</td>\n",
       "      <td>3bvw2rcj2Wx2BmZEIGl0RA</td>\n",
       "      <td>3</td>\n",
       "      <td>Stopped by here by chance (Fish Market &amp; Open ...</td>\n",
       "      <td>0.0</td>\n",
       "      <td>TetEHf2QFAgyRGYQm5_-Ng</td>\n",
       "      <td>[Restaurants, Burgers]</td>\n",
       "      <td>720</td>\n",
       "      <td>en</td>\n",
       "    </tr>\n",
       "    <tr>\n",
       "      <th>2886865</th>\n",
       "      <td>hdNOL59QqvGlg70E4yHrsQ</td>\n",
       "      <td>0</td>\n",
       "      <td>2013-12-30</td>\n",
       "      <td>0.0</td>\n",
       "      <td>s3BQMoGOQbnWif6BagJ98g</td>\n",
       "      <td>3</td>\n",
       "      <td>I've been to this location both as a meat eate...</td>\n",
       "      <td>0.0</td>\n",
       "      <td>ZBYIZY9mtBd266JRM8JC_A</td>\n",
       "      <td>[Restaurants, Burgers]</td>\n",
       "      <td>656</td>\n",
       "      <td>en</td>\n",
       "    </tr>\n",
       "    <tr>\n",
       "      <th>2886873</th>\n",
       "      <td>hdNOL59QqvGlg70E4yHrsQ</td>\n",
       "      <td>1</td>\n",
       "      <td>2011-01-21</td>\n",
       "      <td>2.0</td>\n",
       "      <td>q-1xSv8g62ME2vN2eMgZwQ</td>\n",
       "      <td>3</td>\n",
       "      <td>Came here this afternoon to grab lunch (01.21....</td>\n",
       "      <td>1.0</td>\n",
       "      <td>V4TPbscN8JsFbEFiwOVBKw</td>\n",
       "      <td>[Restaurants, Burgers]</td>\n",
       "      <td>785</td>\n",
       "      <td>en</td>\n",
       "    </tr>\n",
       "    <tr>\n",
       "      <th>2886875</th>\n",
       "      <td>hdNOL59QqvGlg70E4yHrsQ</td>\n",
       "      <td>0</td>\n",
       "      <td>2012-03-28</td>\n",
       "      <td>0.0</td>\n",
       "      <td>FDBYx_XL2yKT634TZbfX-Q</td>\n",
       "      <td>3</td>\n",
       "      <td>3.5 stars \\n\\nVIBE\\nI really like the layout o...</td>\n",
       "      <td>0.0</td>\n",
       "      <td>WHmabbfgdSW-JrOU9ePMrA</td>\n",
       "      <td>[Restaurants, Burgers]</td>\n",
       "      <td>647</td>\n",
       "      <td>en</td>\n",
       "    </tr>\n",
       "    <tr>\n",
       "      <th>2886882</th>\n",
       "      <td>9QtHDX71JnaQbmzWWVbi-A</td>\n",
       "      <td>1</td>\n",
       "      <td>2008-07-07</td>\n",
       "      <td>0.0</td>\n",
       "      <td>IFD8BHT3vyN5jUuhSdTorA</td>\n",
       "      <td>3</td>\n",
       "      <td>Really should be 2.5 stars. The service was pr...</td>\n",
       "      <td>2.0</td>\n",
       "      <td>u4KO66m3QTlQBwzUQ9p76w</td>\n",
       "      <td>[American (New), Restaurants]</td>\n",
       "      <td>499</td>\n",
       "      <td>en</td>\n",
       "    </tr>\n",
       "    <tr>\n",
       "      <th>2886892</th>\n",
       "      <td>9QtHDX71JnaQbmzWWVbi-A</td>\n",
       "      <td>5</td>\n",
       "      <td>2009-01-18</td>\n",
       "      <td>5.0</td>\n",
       "      <td>0pMBdV2ggQB0yhWqoFUryA</td>\n",
       "      <td>3</td>\n",
       "      <td>This is a must-see-every-trip for geeks like m...</td>\n",
       "      <td>5.0</td>\n",
       "      <td>hU46otnbSfdU5oI0zhJGoA</td>\n",
       "      <td>[American (New), Restaurants]</td>\n",
       "      <td>2029</td>\n",
       "      <td>en</td>\n",
       "    </tr>\n",
       "    <tr>\n",
       "      <th>2886893</th>\n",
       "      <td>9QtHDX71JnaQbmzWWVbi-A</td>\n",
       "      <td>0</td>\n",
       "      <td>2007-07-21</td>\n",
       "      <td>2.0</td>\n",
       "      <td>XXfHgMtoyRkyY_aUtu4WZg</td>\n",
       "      <td>3</td>\n",
       "      <td>Dude, This place is all about the atmosphere. ...</td>\n",
       "      <td>0.0</td>\n",
       "      <td>QxicE6c4zNxYYJh_aeywlA</td>\n",
       "      <td>[American (New), Restaurants]</td>\n",
       "      <td>526</td>\n",
       "      <td>en</td>\n",
       "    </tr>\n",
       "    <tr>\n",
       "      <th>2886895</th>\n",
       "      <td>9QtHDX71JnaQbmzWWVbi-A</td>\n",
       "      <td>1</td>\n",
       "      <td>2009-01-14</td>\n",
       "      <td>1.0</td>\n",
       "      <td>qsprFRJp88CDBMyNO5aZrA</td>\n",
       "      <td>3</td>\n",
       "      <td>RIP Quark's Bar and the Star Trek Experience. ...</td>\n",
       "      <td>0.0</td>\n",
       "      <td>4wK_-UB6iKenh9Idtb328g</td>\n",
       "      <td>[American (New), Restaurants]</td>\n",
       "      <td>177</td>\n",
       "      <td>en</td>\n",
       "    </tr>\n",
       "    <tr>\n",
       "      <th>2886906</th>\n",
       "      <td>9QtHDX71JnaQbmzWWVbi-A</td>\n",
       "      <td>0</td>\n",
       "      <td>2008-07-08</td>\n",
       "      <td>0.0</td>\n",
       "      <td>PvG4JCrv1eNtx1LAbMseZw</td>\n",
       "      <td>3</td>\n",
       "      <td>So I have a MANDATORY picture taken everytime ...</td>\n",
       "      <td>0.0</td>\n",
       "      <td>Pub-7l2q8XPFPiBtt4HejA</td>\n",
       "      <td>[American (New), Restaurants]</td>\n",
       "      <td>473</td>\n",
       "      <td>en</td>\n",
       "    </tr>\n",
       "    <tr>\n",
       "      <th>2886912</th>\n",
       "      <td>9QtHDX71JnaQbmzWWVbi-A</td>\n",
       "      <td>0</td>\n",
       "      <td>2008-07-17</td>\n",
       "      <td>0.0</td>\n",
       "      <td>PxvN1ZqaH7tLKNBjqY8YBQ</td>\n",
       "      <td>3</td>\n",
       "      <td>I had my first Vegas dinner here, just to obse...</td>\n",
       "      <td>0.0</td>\n",
       "      <td>pH3TbCQDl7m7EAThzJ5MkQ</td>\n",
       "      <td>[American (New), Restaurants]</td>\n",
       "      <td>978</td>\n",
       "      <td>en</td>\n",
       "    </tr>\n",
       "    <tr>\n",
       "      <th>2886915</th>\n",
       "      <td>9QtHDX71JnaQbmzWWVbi-A</td>\n",
       "      <td>1</td>\n",
       "      <td>2009-04-08</td>\n",
       "      <td>3.0</td>\n",
       "      <td>rGvD3L9LeP6dYD2GT54enA</td>\n",
       "      <td>3</td>\n",
       "      <td>The set up of this place is impeccable.  It is...</td>\n",
       "      <td>4.0</td>\n",
       "      <td>71h2P18M0DLjIDQR7uNlgQ</td>\n",
       "      <td>[American (New), Restaurants]</td>\n",
       "      <td>1126</td>\n",
       "      <td>en</td>\n",
       "    </tr>\n",
       "    <tr>\n",
       "      <th>2886917</th>\n",
       "      <td>9QtHDX71JnaQbmzWWVbi-A</td>\n",
       "      <td>0</td>\n",
       "      <td>2007-06-03</td>\n",
       "      <td>1.0</td>\n",
       "      <td>TGd2VN8VTWCQvs_G0aySuw</td>\n",
       "      <td>3</td>\n",
       "      <td>Corny?  \\n\\nCheck\\n\\nModerately priced?\\n\\nChe...</td>\n",
       "      <td>1.0</td>\n",
       "      <td>-gokwePdbXjfS0iF7NsUGA</td>\n",
       "      <td>[American (New), Restaurants]</td>\n",
       "      <td>745</td>\n",
       "      <td>en</td>\n",
       "    </tr>\n",
       "  </tbody>\n",
       "</table>\n",
       "<p>410614 rows × 12 columns</p>\n",
       "</div>"
      ],
      "text/plain": [
       "                    business_id  cool        date  funny  \\\n",
       "7        duHFBe87uNSXImQmvBh87Q     2  2011-08-31    2.0   \n",
       "15       SDMRxmcKPNt1AHPBKqO64Q     0  2016-04-10    0.0   \n",
       "33       SDMRxmcKPNt1AHPBKqO64Q     0  2011-05-22    0.0   \n",
       "35       iFEiMJoEqyB9O8OUNSdLzA     0  2011-08-28    0.0   \n",
       "36       iFEiMJoEqyB9O8OUNSdLzA     0  2013-09-22    0.0   \n",
       "37       iFEiMJoEqyB9O8OUNSdLzA     0  2016-03-19    0.0   \n",
       "40       HmI9nhgOkrXlUr6KZGZZew     7  2015-04-10    5.0   \n",
       "42       HmI9nhgOkrXlUr6KZGZZew     0  2014-06-10    0.0   \n",
       "43       HmI9nhgOkrXlUr6KZGZZew     0  2017-01-16    0.0   \n",
       "47       HmI9nhgOkrXlUr6KZGZZew     0  2014-10-24    0.0   \n",
       "49       HmI9nhgOkrXlUr6KZGZZew     1  2011-08-27    1.0   \n",
       "52       HmI9nhgOkrXlUr6KZGZZew     7  2017-05-08    3.0   \n",
       "56       qnpvw-uQyRn9nlClWFK9aA     0  2013-03-25    1.0   \n",
       "59       TXiEgINSZ75d3EtvLvkc4Q     0  2015-08-14    0.0   \n",
       "61       TXiEgINSZ75d3EtvLvkc4Q     0  2008-08-04    2.0   \n",
       "66       TXiEgINSZ75d3EtvLvkc4Q     0  2013-07-05    0.0   \n",
       "88       TXiEgINSZ75d3EtvLvkc4Q     0  2012-10-13    0.0   \n",
       "89       TXiEgINSZ75d3EtvLvkc4Q     0  2010-08-19    1.0   \n",
       "97       TXiEgINSZ75d3EtvLvkc4Q     0  2015-07-14    0.0   \n",
       "100      TXiEgINSZ75d3EtvLvkc4Q     0  2014-07-07    0.0   \n",
       "107      KW4y7uDGjVfU3ClkEjIGhg     0  2014-03-08    0.0   \n",
       "112      KW4y7uDGjVfU3ClkEjIGhg     0  2015-07-03    0.0   \n",
       "116      KW4y7uDGjVfU3ClkEjIGhg     0  2014-12-21    0.0   \n",
       "126      KW4y7uDGjVfU3ClkEjIGhg     0  2014-08-11    0.0   \n",
       "130      KW4y7uDGjVfU3ClkEjIGhg     0  2015-07-10    0.0   \n",
       "136      KW4y7uDGjVfU3ClkEjIGhg     0  2015-04-28    0.0   \n",
       "140      KW4y7uDGjVfU3ClkEjIGhg     0  2014-12-23    0.0   \n",
       "141      KW4y7uDGjVfU3ClkEjIGhg     0  2014-01-05    0.0   \n",
       "145      reWc1g65PNZnKz_Ub9QKOQ     1  2017-04-16    0.0   \n",
       "147      reWc1g65PNZnKz_Ub9QKOQ     0  2016-04-08    0.0   \n",
       "...                         ...   ...         ...    ...   \n",
       "2886685  a8pmtlVKf7NiSLI-4KejIw     1  2013-09-19    0.0   \n",
       "2886688  a8pmtlVKf7NiSLI-4KejIw     0  2015-08-14    0.0   \n",
       "2886690  a8pmtlVKf7NiSLI-4KejIw     0  2017-05-21    0.0   \n",
       "2886695  a8pmtlVKf7NiSLI-4KejIw     0  2016-09-11    0.0   \n",
       "2886703  a8pmtlVKf7NiSLI-4KejIw     0  2017-02-26    0.0   \n",
       "2886704  a8pmtlVKf7NiSLI-4KejIw     0  2015-04-20    0.0   \n",
       "2886723  bYfEp3NMskYfEzWL8tVb4w     0  2017-07-04    0.0   \n",
       "2886730  bYfEp3NMskYfEzWL8tVb4w     0  2017-04-24    0.0   \n",
       "2886748  euUGjobp4ig838a0DE06bQ     2  2011-08-09    2.0   \n",
       "2886764  euUGjobp4ig838a0DE06bQ     0  2012-09-20    0.0   \n",
       "2886780  euUGjobp4ig838a0DE06bQ     0  2012-10-05    0.0   \n",
       "2886789  Pb5AfEWAB8GWlHyy-p-l1g     0  2015-03-08    0.0   \n",
       "2886798  Pb5AfEWAB8GWlHyy-p-l1g     1  2013-01-12    0.0   \n",
       "2886804  Pb5AfEWAB8GWlHyy-p-l1g     0  2013-12-28    0.0   \n",
       "2886805  Pb5AfEWAB8GWlHyy-p-l1g     0  2015-01-26    0.0   \n",
       "2886806  Pb5AfEWAB8GWlHyy-p-l1g     1  2016-05-05    1.0   \n",
       "2886817  Pb5AfEWAB8GWlHyy-p-l1g     0  2016-12-06    1.0   \n",
       "2886823  Pb5AfEWAB8GWlHyy-p-l1g     0  2013-04-24    0.0   \n",
       "2886859  hdNOL59QqvGlg70E4yHrsQ     0  2013-05-19    0.0   \n",
       "2886865  hdNOL59QqvGlg70E4yHrsQ     0  2013-12-30    0.0   \n",
       "2886873  hdNOL59QqvGlg70E4yHrsQ     1  2011-01-21    2.0   \n",
       "2886875  hdNOL59QqvGlg70E4yHrsQ     0  2012-03-28    0.0   \n",
       "2886882  9QtHDX71JnaQbmzWWVbi-A     1  2008-07-07    0.0   \n",
       "2886892  9QtHDX71JnaQbmzWWVbi-A     5  2009-01-18    5.0   \n",
       "2886893  9QtHDX71JnaQbmzWWVbi-A     0  2007-07-21    2.0   \n",
       "2886895  9QtHDX71JnaQbmzWWVbi-A     1  2009-01-14    1.0   \n",
       "2886906  9QtHDX71JnaQbmzWWVbi-A     0  2008-07-08    0.0   \n",
       "2886912  9QtHDX71JnaQbmzWWVbi-A     0  2008-07-17    0.0   \n",
       "2886915  9QtHDX71JnaQbmzWWVbi-A     1  2009-04-08    3.0   \n",
       "2886917  9QtHDX71JnaQbmzWWVbi-A     0  2007-06-03    1.0   \n",
       "\n",
       "                      review_id  stars  \\\n",
       "7        mv-H-7Vpu_2xtOjRFiqH6g      3   \n",
       "15       fT9506-dhjrMTmYLJO0xmg      3   \n",
       "33       VdBbrOzYAhGQh0w2lu0TOg      3   \n",
       "35       jNNjgNtqTwrc5w5IRBGkQA      3   \n",
       "36       XK3dX3qrdSuOPSJXoPfSeQ      3   \n",
       "37       XGaxdTYZIFLb_Ot78Vfzog      3   \n",
       "40       oCZkDpwJhUY9qHqrZfA_fg      3   \n",
       "42       kZRM5zzXG8kWhM4TfIUN5A      3   \n",
       "43       mh0dZv_sCFT6pVyyb8C7Rw      3   \n",
       "47       FzHZ3qUStTwaD2P2ge9F9g      3   \n",
       "49       0h8YznCmYaQ4IvM9b_A8IQ      3   \n",
       "52       JMYd5tESziusFk7kIa8n5g      3   \n",
       "56       Wt32E4mOu8IeeGrtgnBxGw      3   \n",
       "59       a51R1Y9oRFHpVwuNpcSK9A      3   \n",
       "61       CbXLPHY9hXa13zNBQmhj3g      3   \n",
       "66       BxH9ulahiaYiOHFDv2kyyQ      3   \n",
       "88       xT20ria-dB3mdAd3KVMgtA      3   \n",
       "89       G7OTScXR_KPoPxKm9LLfbg      3   \n",
       "97       8RoZLcBP2gdS1Zf45lYU7w      3   \n",
       "100      Qk20OKyLW8YNfPN4hVPSvA      3   \n",
       "107      44zfHItZKscDiCoWVn21UA      3   \n",
       "112      UssEvhIV5ZPcf0sGN_cLyQ      3   \n",
       "116      Z2myiQDyGaoi3Qfnn8Oq9A      3   \n",
       "126      D9AP3TpTa5nsTU0Zfgic0w      3   \n",
       "130      Zv3vZHYUyEbuoP6i5LJW6Q      3   \n",
       "136      6ngybM0RF6PkWAsv_Ch3Yg      3   \n",
       "140      RjjsZGG9_-21z7I-BgoGOQ      3   \n",
       "141      -jibvvochOqbCJCWDMEFJg      3   \n",
       "145      TLFIk2eVhH9JQRGuHjtIYA      3   \n",
       "147      wjS1DRuIBQ3BP-8_H0qKxg      3   \n",
       "...                         ...    ...   \n",
       "2886685  5Ee6vTKYzlUPSylrrsX2DA      3   \n",
       "2886688  DcCfpVWJkPGlCMFs5pPBsg      3   \n",
       "2886690  _67wwNGTl1vC-oD-c8glPg      3   \n",
       "2886695  azxVbkiZKhCFkTpTwBfCkQ      3   \n",
       "2886703  KkhXbhPBWpPR2t61yjX8uQ      3   \n",
       "2886704  FDRrnU6UG2EwAc0cWHsUKg      3   \n",
       "2886723  ljiXJ-ZJ4VJXq9jf8WqSwg      3   \n",
       "2886730  74FR93yHEuoI75nilnKRJQ      3   \n",
       "2886748  Qvw6v8MTov57i8LYyVsRNw      3   \n",
       "2886764  g_lhCK_IQtqZIXD8m6dLdA      3   \n",
       "2886780  WtNaxG3LFpLUkm7aOQDBhw      3   \n",
       "2886789  0tRxRS6P8NKfy3LQ9Rc-dw      3   \n",
       "2886798  Lmv1fqyJdnctD0mj7Thx9A      3   \n",
       "2886804  y1mbIsnhAoNAArSn9J0MQA      3   \n",
       "2886805  pWbaTptb4A5527DE0WSTpA      3   \n",
       "2886806  OpM7Rwodi8tGtiImDUQ1pA      3   \n",
       "2886817  HeIuYqPtflXGC-Y0RgptKg      3   \n",
       "2886823  qZpcAE4NtUUGGeeM5EkdPw      3   \n",
       "2886859  3bvw2rcj2Wx2BmZEIGl0RA      3   \n",
       "2886865  s3BQMoGOQbnWif6BagJ98g      3   \n",
       "2886873  q-1xSv8g62ME2vN2eMgZwQ      3   \n",
       "2886875  FDBYx_XL2yKT634TZbfX-Q      3   \n",
       "2886882  IFD8BHT3vyN5jUuhSdTorA      3   \n",
       "2886892  0pMBdV2ggQB0yhWqoFUryA      3   \n",
       "2886893  XXfHgMtoyRkyY_aUtu4WZg      3   \n",
       "2886895  qsprFRJp88CDBMyNO5aZrA      3   \n",
       "2886906  PvG4JCrv1eNtx1LAbMseZw      3   \n",
       "2886912  PxvN1ZqaH7tLKNBjqY8YBQ      3   \n",
       "2886915  rGvD3L9LeP6dYD2GT54enA      3   \n",
       "2886917  TGd2VN8VTWCQvs_G0aySuw      3   \n",
       "\n",
       "                                                      text  useful  \\\n",
       "7        What?  am I really FTR on this?  huh.  weird.\\...     2.0   \n",
       "15       I am an avid Applebees fan. In high school I u...     0.0   \n",
       "33       Had an early lunch here this afternoon with th...     0.0   \n",
       "35       Good (and only to my knowledge) Chinese take o...     0.0   \n",
       "36       My family comes here after church once or twic...     0.0   \n",
       "37       Pretty standard Chinese food.  Never had a bad...     0.0   \n",
       "40       Rocky's is the kind of place my family loves, ...     7.0   \n",
       "42       Cheap, fast, and simple.\\nCoffee was a little ...     0.0   \n",
       "43       Breakfast is good but the service is a little ...     0.0   \n",
       "47       I heard that \"The Earth without Art is just Eh...     0.0   \n",
       "49       Cash only\\n\\nYou'd never find this place if yo...     3.0   \n",
       "52       This little diner is a staple in Bloomfield's ...     5.0   \n",
       "56       In the hockey season, my house becomes a meeti...     0.0   \n",
       "59       My husband and I discovered we had never been ...     0.0   \n",
       "61       Red Lobster is always really crowded because p...     0.0   \n",
       "66       My wife and I stopped at the Red Lobster on 7/...     0.0   \n",
       "88       I went here for all you can eat shrimp. The sh...     0.0   \n",
       "89       Typical Red Lobster.  Busy.  Good service. Foo...     0.0   \n",
       "97       Don't go here if you expect fresh seafood. Thi...     1.0   \n",
       "100      Solid seafood place.  I had the tilapia last v...     0.0   \n",
       "107      Came here with Thursday night with my girls ra...     0.0   \n",
       "112      The decorations were quite unique.\\n\\nI came h...     0.0   \n",
       "116      Premium burger at a premium price not the best...     0.0   \n",
       "126      Burgers were pretty good and my wife loved the...     0.0   \n",
       "130      This isn't a fast food burger joint but more o...     0.0   \n",
       "136      Originally had The Works when I lived in Ottaw...     0.0   \n",
       "140      Burger selection is interesting. Tables are al...     0.0   \n",
       "141      Delicious burgers. My husband and I ordered fo...     0.0   \n",
       "145      Lots of TVs, a nice bar area, large dining roo...     0.0   \n",
       "147      Great service, comfortable setting, with reall...     0.0   \n",
       "...                                                    ...     ...   \n",
       "2886685  Some restaurants are great for a date, El Catr...     2.0   \n",
       "2886688  Came here on a Saturday night around 6pm with ...     0.0   \n",
       "2886690  Service - slow, server was very quiet, menu wa...     0.0   \n",
       "2886695  nice location in the distillery district and n...     0.0   \n",
       "2886703  I've had a couple great experiences paired wit...     0.0   \n",
       "2886704  Overall, food was good and service poor at our...     1.0   \n",
       "2886723  Discovered this place randomly.  Being from Ne...     0.0   \n",
       "2886730  Very tasty, but service was sooooooo long.. we...     0.0   \n",
       "2886748  This is a great chili dog / Chicago style dog ...     4.0   \n",
       "2886764  The Which-Wich style of Hot-Dog orders, this p...     0.0   \n",
       "2886780  Good food but a Lot of it. Bring an appetite. ...     0.0   \n",
       "2886789  3 stars = average.  Nino's service was excelle...     1.0   \n",
       "2886798  Good neighborhood spot.  Service is fast and f...     2.0   \n",
       "2886804  Passing through the area on a road trip and ch...     0.0   \n",
       "2886805  Good for Sun City Mexican food. The salsa is O...     0.0   \n",
       "2886806  Waitress excellent. Extra hot salsa was delici...     1.0   \n",
       "2886817  I'm giving this place 3 stars for service and ...     1.0   \n",
       "2886823  Great green chilli burro enchilada style...lik...     0.0   \n",
       "2886859  Stopped by here by chance (Fish Market & Open ...     0.0   \n",
       "2886865  I've been to this location both as a meat eate...     0.0   \n",
       "2886873  Came here this afternoon to grab lunch (01.21....     1.0   \n",
       "2886875  3.5 stars \\n\\nVIBE\\nI really like the layout o...     0.0   \n",
       "2886882  Really should be 2.5 stars. The service was pr...     2.0   \n",
       "2886892  This is a must-see-every-trip for geeks like m...     5.0   \n",
       "2886893  Dude, This place is all about the atmosphere. ...     0.0   \n",
       "2886895  RIP Quark's Bar and the Star Trek Experience. ...     0.0   \n",
       "2886906  So I have a MANDATORY picture taken everytime ...     0.0   \n",
       "2886912  I had my first Vegas dinner here, just to obse...     0.0   \n",
       "2886915  The set up of this place is impeccable.  It is...     4.0   \n",
       "2886917  Corny?  \\n\\nCheck\\n\\nModerately priced?\\n\\nChe...     1.0   \n",
       "\n",
       "                        user_id  \\\n",
       "7        qibGLHABNReGeJr2w4_8yQ   \n",
       "15       4i0NQ2eyuQZKpXbz8TxBEg   \n",
       "33       B7_ARdKo_GT-gjCSRGErXA   \n",
       "35       eSlvR2rZ3HB1xNeQIPse8A   \n",
       "36       4B2Ej2BbOvgxhdssRR2p4g   \n",
       "37       HW3ksR6IptVfhVHYgZhJkw   \n",
       "40       Ic6-gs1_FjrWGx6JIr95Mw   \n",
       "42       YtfoTQbND5lY7lXnI-lc7A   \n",
       "43       fVAr-9ICfZMfJk9ow95cBg   \n",
       "47       C2uHg9HwI05pfaEhWCjuIA   \n",
       "49       B5FTjNWSgkAQ9UjOKVjGhw   \n",
       "52       6Ki3bAL0wx9ymbdJqbSWMA   \n",
       "56       PGeiszoVusiv0wTHVdWklA   \n",
       "59       l6mGmPjWUZESNTGQAVS8MA   \n",
       "61       L-IwJ7QPpg381tOfl61x7A   \n",
       "66       N_fPdyj_jwHOnMe1uKeHxQ   \n",
       "88       1sHVuEifFTKjcskLTsw2mg   \n",
       "89       zn2sXv_kzQ5GF0SJ4fj83Q   \n",
       "97       KbtcIPQdfmXToZV24trjVg   \n",
       "100      tdobWakwQAVram572TsrQQ   \n",
       "107      PTcKYk_qU-WzbQjraE3TgQ   \n",
       "112      paYZw5wsS25IzzBZtijB8A   \n",
       "116      Bdr51Z3TJxpoY9YwU4k3EQ   \n",
       "126      jg3zs74fuQePcjPjnjy-Xw   \n",
       "130      2e5V6M4GNufEnbGJpVdCjw   \n",
       "136      BV-zv5pURcprj1UKcYNwqQ   \n",
       "140      _alZk6U7ZO-6bBmpKcF2FQ   \n",
       "141      yvs_5QtJCV5EYJkbcBFoxg   \n",
       "145      i7QG1ixeuFwpemeLvmRKHA   \n",
       "147      fjFYpwpvlIlqoiNa3myDEA   \n",
       "...                         ...   \n",
       "2886685  CxDOIDnH8gp9KXzpBHJYXw   \n",
       "2886688  y4X0gtQgW7XcvRxFjDPi_Q   \n",
       "2886690  Nz7vUmbqj1FXnNIMkPfCxg   \n",
       "2886695  59sTNJ_ZaglgvE_71yW5yw   \n",
       "2886703  sPxUXz7NOn67yKB7pgzcAQ   \n",
       "2886704  tW5rxI5Fn2ncxLMiO1dn0A   \n",
       "2886723  OQ3OO4C8HxDOruIb7RHbaw   \n",
       "2886730  lqHHmEqJcb7itySp6uAoAQ   \n",
       "2886748  BFTxzvXftqqBFgfry1kBgw   \n",
       "2886764  JzBcNjRCxb7rbZHFquHDsQ   \n",
       "2886780  yovonb7SxWGZvyNvRiwGbQ   \n",
       "2886789  rOKLo5-U4HTg_q3tV1nbbg   \n",
       "2886798  Ree1FvzMPKhvTXlcHPpjdw   \n",
       "2886804  B0GzGKOcaA9jsPPj0skd1g   \n",
       "2886805  QGgWWhEi5R4SLAKN-xwtNQ   \n",
       "2886806  rtRVb54VIXOUI_5mT1rhgQ   \n",
       "2886817  obettcCSzjToe-k4XJivYg   \n",
       "2886823  6Rj0oZKAGM_X0JhcxrT5Bg   \n",
       "2886859  TetEHf2QFAgyRGYQm5_-Ng   \n",
       "2886865  ZBYIZY9mtBd266JRM8JC_A   \n",
       "2886873  V4TPbscN8JsFbEFiwOVBKw   \n",
       "2886875  WHmabbfgdSW-JrOU9ePMrA   \n",
       "2886882  u4KO66m3QTlQBwzUQ9p76w   \n",
       "2886892  hU46otnbSfdU5oI0zhJGoA   \n",
       "2886893  QxicE6c4zNxYYJh_aeywlA   \n",
       "2886895  4wK_-UB6iKenh9Idtb328g   \n",
       "2886906  Pub-7l2q8XPFPiBtt4HejA   \n",
       "2886912  pH3TbCQDl7m7EAThzJ5MkQ   \n",
       "2886915  71h2P18M0DLjIDQR7uNlgQ   \n",
       "2886917  -gokwePdbXjfS0iF7NsUGA   \n",
       "\n",
       "                                                categories  text_len lang  \n",
       "7                                [Sandwiches, Restaurants]       735   en  \n",
       "15       [Burgers, Bars, Restaurants, Sports Bars, Nigh...       599   en  \n",
       "33       [Burgers, Bars, Restaurants, Sports Bars, Nigh...       646   en  \n",
       "35                                  [Chinese, Restaurants]       331   en  \n",
       "36                                  [Chinese, Restaurants]       356   en  \n",
       "37                                  [Chinese, Restaurants]       123   en  \n",
       "40       [Sandwiches, Restaurants, Italian, Diners, Bre...      1084   en  \n",
       "42       [Sandwiches, Restaurants, Italian, Diners, Bre...       143   en  \n",
       "43       [Sandwiches, Restaurants, Italian, Diners, Bre...       180   en  \n",
       "47       [Sandwiches, Restaurants, Italian, Diners, Bre...       443   en  \n",
       "49       [Sandwiches, Restaurants, Italian, Diners, Bre...      2082   en  \n",
       "52       [Sandwiches, Restaurants, Italian, Diners, Bre...       466   en  \n",
       "56                            [Chicken Wings, Restaurants]      1732   en  \n",
       "59          [Restaurants, Seafood, American (Traditional)]       605   en  \n",
       "61          [Restaurants, Seafood, American (Traditional)]       693   en  \n",
       "66          [Restaurants, Seafood, American (Traditional)]       572   en  \n",
       "88          [Restaurants, Seafood, American (Traditional)]       235   en  \n",
       "89          [Restaurants, Seafood, American (Traditional)]        96   en  \n",
       "97          [Restaurants, Seafood, American (Traditional)]       253   en  \n",
       "100         [Restaurants, Seafood, American (Traditional)]       589   en  \n",
       "107                                 [Burgers, Restaurants]      1215   en  \n",
       "112                                 [Burgers, Restaurants]       189   en  \n",
       "116                                 [Burgers, Restaurants]       224   en  \n",
       "126                                 [Burgers, Restaurants]       476   en  \n",
       "130                                 [Burgers, Restaurants]       816   en  \n",
       "136                                 [Burgers, Restaurants]       193   en  \n",
       "140                                 [Burgers, Restaurants]       301   en  \n",
       "141                                 [Burgers, Restaurants]       451   en  \n",
       "145      [Comfort Food, Canadian (New), Restaurants, Ba...      1190   en  \n",
       "147      [Comfort Food, Canadian (New), Restaurants, Ba...       731   en  \n",
       "...                                                    ...       ...  ...  \n",
       "2886685         [Mexican, Tapas/Small Plates, Restaurants]      1301   en  \n",
       "2886688         [Mexican, Tapas/Small Plates, Restaurants]       503   en  \n",
       "2886690         [Mexican, Tapas/Small Plates, Restaurants]       330   en  \n",
       "2886695         [Mexican, Tapas/Small Plates, Restaurants]       382   en  \n",
       "2886703         [Mexican, Tapas/Small Plates, Restaurants]       865   en  \n",
       "2886704         [Mexican, Tapas/Small Plates, Restaurants]       457   en  \n",
       "2886723                           [Restaurants, Argentine]       402   en  \n",
       "2886730                           [Restaurants, Argentine]       382   en  \n",
       "2886748                            [Restaurants, Hot Dogs]       529   en  \n",
       "2886764                            [Restaurants, Hot Dogs]       485   en  \n",
       "2886780                            [Restaurants, Hot Dogs]       348   en  \n",
       "2886789                             [Restaurants, Mexican]       663   en  \n",
       "2886798                             [Restaurants, Mexican]       390   en  \n",
       "2886804                             [Restaurants, Mexican]       652   en  \n",
       "2886805                             [Restaurants, Mexican]       316   en  \n",
       "2886806                             [Restaurants, Mexican]       280   en  \n",
       "2886817                             [Restaurants, Mexican]      1370   en  \n",
       "2886823                             [Restaurants, Mexican]       416   en  \n",
       "2886859                             [Restaurants, Burgers]       720   en  \n",
       "2886865                             [Restaurants, Burgers]       656   en  \n",
       "2886873                             [Restaurants, Burgers]       785   en  \n",
       "2886875                             [Restaurants, Burgers]       647   en  \n",
       "2886882                      [American (New), Restaurants]       499   en  \n",
       "2886892                      [American (New), Restaurants]      2029   en  \n",
       "2886893                      [American (New), Restaurants]       526   en  \n",
       "2886895                      [American (New), Restaurants]       177   en  \n",
       "2886906                      [American (New), Restaurants]       473   en  \n",
       "2886912                      [American (New), Restaurants]       978   en  \n",
       "2886915                      [American (New), Restaurants]      1126   en  \n",
       "2886917                      [American (New), Restaurants]       745   en  \n",
       "\n",
       "[410614 rows x 12 columns]"
      ]
     },
     "execution_count": 197,
     "metadata": {},
     "output_type": "execute_result"
    }
   ],
   "source": [
    "rest_revs_cln[rest_revs_cln.stars == 3]"
   ]
  },
  {
   "cell_type": "markdown",
   "metadata": {},
   "source": [
    "### Hyper Parameterizing Models;\n",
    "-  I'l; be using TFIDVectorizer... and investigate LR and MNB..\n",
    "\n",
    "- TFID, or term frequency inverse document frequency score gives words which are most discriminating between documents. \n",
    "\n",
    "Words that occur alot in one documents but don't occur in many documents, contain a great deal of discriminating power.\n",
    "\n",
    "The weight given \n",
    "\n",
    "\n",
    "- LR:\n",
    "\n",
    "- MNB:\n",
    "\n",
    "\n"
   ]
  },
  {
   "cell_type": "code",
   "execution_count": 35,
   "metadata": {},
   "outputs": [
    {
     "name": "stdout",
     "output_type": "stream",
     "text": [
      "[\"Performing grid search on LR...('pipelineLR:', ['vect', 'lr'])parametersLR:{'vect__max_df': [0.5, 1], 'vect__max_features': [5000, 10000], 'vect__ngram_range': [(1, 1), (1, 2)], 'lr__penalty': ['l1', 'l2']}done in 29706.604sBest score: 0.632Best parametersLR set:\\tlr__penalty: 'l1'\\tvect__max_df: 0.5\\tvect__max_features: 10000\\tvect__ngram_range: (1, 2)\"]\n",
      "\n",
      "[\"['Performing grid search on MNB...',\\n\", \" ('pipelineMNB:', ['vect', 'mNB']),\\n\", \" 'parametersMNB:',\\n\", \" {'mNB__alpha': [1e-05, 1e-06],\\n\", \"  'vect__max_df': [0.5, 1],\\n\", \"  'vect__max_features': [5000, 10000],\\n\", \"  'vect__ngram_range': [(1, 1), (1, 2)]},\\n\", \" 'done in 20095.274s',\\n\", \" 'Best score: 0.589',\\n\", \" 'Best parametersMNB set:',\\n\", \" '\\\\tmNB__alpha: 1e-05',\\n\", \" '\\\\tvect__max_df: 0.5',\\n\", \" '\\\\tvect__max_features: 10000',\\n\", \" '\\\\tvect__ngram_range: (1, 2)']\\n\"]\n"
     ]
    }
   ],
   "source": [
    "#Hyperparameters LR & MNB\n",
    "\n",
    "if 1 == 0: #the following is in py3 nb on AWS CPU 4 ECU 13  memory 16\n",
    "    pipelineLR = Pipeline([\n",
    "        ['vect', TfidfVectorizer(stop_words=custom_stop_words)],\n",
    "        ['lr', LogisticRegression()],\n",
    "    ])\n",
    "\n",
    "    parametersLR = {\n",
    "        'vect__max_df': [0.5, 1], \n",
    "        'vect__max_features' : [5000, 10000],\n",
    "        'vect__ngram_range': [(1, 1), (1, 2)],  \n",
    "        'lr__penalty': [\"l1\", \"l2\"],\n",
    "    }\n",
    "\n",
    "    pipelineMNB = Pipeline([\n",
    "        ['vect', TfidfVectorizer(stop_words=custom_stop_words)],\n",
    "        ['mNB', MultinomialNB()],\n",
    "    ])\n",
    "\n",
    "    parametersMNB = {\n",
    "        'vect__max_df': [0.5, 1], \n",
    "        'vect__max_features' : [5000, 10000],\n",
    "        'vect__ngram_range': [(1, 1), (1, 2)],\n",
    "        'mNB__alpha': [0.00001, 0.000001],\n",
    "    }\n",
    "\n",
    "\n",
    "    grid_searchLR = GridSearchCV(pipelineLR, parametersLR, n_jobs=1, verbose=1, cv=3)\n",
    "    grid_searchMNB = GridSearchCV(pipelineMNB, parametersMNB, n_jobs=1, verbose=1, cv=3)\n",
    "\n",
    "    #For LR\n",
    "\n",
    "    listLR = []\n",
    "\n",
    "    listLR.append(\"Performing grid search on LR...\")\n",
    "    listLR.append((\"pipelineLR:\", [name for name, _ in pipelineLR.steps]))\n",
    "    listLR.append((\"parametersLR:\"))\n",
    "    listLR.append(parametersLR)\n",
    "    t0 = time()\n",
    "    #### fit it\n",
    "    grid_searchLR.fit(X_train, y_train)\n",
    "    listLR.append((\"done in %0.3fs\" % (time() - t0)))\n",
    "    listLR.append((\"Best score: %0.3f\" % grid_searchLR.best_score_))\n",
    "    #### get best parametersLR\n",
    "    listLR.append((\"Best parametersLR set:\"))\n",
    "    best_parametersLR = grid_searchLR.best_estimator_.get_params()\n",
    "    for param_nameLR in sorted(parametersLR.keys()):\n",
    "        listLR.append((\"\\t%s: %r\" % (param_nameLR, best_parametersLR[param_nameLR])))\n",
    "\n",
    "    thefileL = open('LRoutput.txt', 'w')\n",
    "    for item in listLR:\n",
    "        thefileL.write(str(item))\n",
    "\n",
    "    ##### for MNB\n",
    "\n",
    "    listMNB = []\n",
    "\n",
    "    listMNB.append(\"Performing grid search on MNB...\")\n",
    "    listMNB.append((\"pipelineMNB:\", [name for name, _ in pipelineMNB.steps]))\n",
    "    listMNB.append((\"parametersMNB:\"))\n",
    "    listMNB.append(parametersMNB)\n",
    "    t0 = time()\n",
    "    #### fit it\n",
    "    grid_searchMNB.fit(X_train, y_train)\n",
    "    listMNB.append((\"done in %0.3fs\" % (time() - t0)))\n",
    "    listMNB.append((\"Best score: %0.3f\" % grid_searchMNB.best_score_))\n",
    "    #### get the best parametersMNB\n",
    "    listMNB.append((\"Best parametersMNB set:\"))\n",
    "    best_parametersMNB = grid_searchMNB.best_estimator_.get_params()\n",
    "    for param_nameMNB in sorted(parametersMNB.keys()):\n",
    "        listMNB.append((\"\\t%s: %r\" % (param_nameMNB, best_parametersMNB[param_nameMNB])))\n",
    "\n",
    "    thefileM = open('MNBoutput.txt', 'w')\n",
    "    for item in listMNB:\n",
    "        thefileM.write(str(item))\n",
    "        \n",
    "        \n",
    "LRHYPE = open(\"LRoutput.txt\" , 'r')\n",
    "MNBHYPE = open(\"MNBoutput.txt\" , 'r')\n",
    "\n",
    "print LRHYPE.readlines()\n",
    "print\n",
    "print MNBHYPE.readlines()"
   ]
  },
  {
   "cell_type": "code",
   "execution_count": 201,
   "metadata": {
    "collapsed": true
   },
   "outputs": [],
   "source": [
    "if 1 == 0: #the following is in py3 nb on AWS CPU 4 ECU 13  memory 16\n",
    "    tfid_lr_mod_H = make_pipeline(TfidfVectorizer(stop_words=custom_stop_words,\n",
    "                                                  max_df=0.5,\n",
    "                                                  max_features=10000,\n",
    "                                                  ngram_range=(1, 2)\n",
    "                                                 ),\n",
    "                                  LogisticRegression(penalty='l1'),\n",
    "                                 )\n",
    "\n",
    "    tfid_lr_mod_H = tfid_lr_mod_H.fit(X_train, y_train)\n",
    "\n",
    "    with open('tfid_lr_mod_H.pkl', 'wb') as fL:\n",
    "        pickle.dump(tfid_lr_mod_H, fL, protocol=2) #for py2 nb\n",
    "\n",
    "\n",
    "    tfid_MNB_mod_H = make_pipeline(TfidfVectorizer(stop_words=custom_stop_words,\n",
    "                                                  max_df=0.5,\n",
    "                                                  max_features=10000,\n",
    "                                                  ngram_range=(1, 2)\n",
    "                                                 ),\n",
    "                                  MultinomialNB(alpha=0.00001),\n",
    "                                 )\n",
    "\n",
    "    tfid_MNB_mod_H = tfid_MNB_mod_H.fit(X_train, y_train)\n",
    "\n",
    "    with open('tfid_MNB_mod_H.pkl', 'wb') as fM:\n",
    "        pickle.dump(tfid_MNB_mod_H, fM, protocol=2) #for py2 nb\n",
    "\n",
    "with open('./models/tfid_lr_mod_H.pkl') as fL:\n",
    "    tfid_lr_mod_H = pickle.load(fL)\n",
    "\n",
    "with open('./models/tfid_MNB_mod_H.pkl') as fM:\n",
    "    tfid_MNB_mod_H = pickle.load(fM)\n"
   ]
  },
  {
   "cell_type": "code",
   "execution_count": 202,
   "metadata": {},
   "outputs": [
    {
     "data": {
      "text/plain": [
       "[(u'tfidfvectorizer',\n",
       "  TfidfVectorizer(analyzer=u'word', binary=False, decode_error=u'strict',\n",
       "          dtype=<type 'numpy.int64'>, encoding=u'utf-8', input=u'content',\n",
       "          lowercase=True, max_df=0.5, max_features=10000, min_df=1,\n",
       "          ngram_range=(1, 2), norm=u'l2', preprocessor=None, smooth_idf=True,\n",
       "          stop_words=[u'whole', u'co', u'get', u'thru', u'go', u'has', u'latterly', u'meanwhile', u'mine', u'cannot', u'his', u'own', u'per', u'seemed', u'via', u'further', u'already', u'whatever', u'becomes', u'seems', u'every', u'de', u'last', u'so', u'four', u'serious', u'done', u'an', u'fifty', u'first', ...u'some', u'for', u'towards', u'who', u'enough', u'system', u'noone', u'just like', u'like', u'just'],\n",
       "          strip_accents=None, sublinear_tf=False,\n",
       "          token_pattern=u'(?u)\\\\b\\\\w\\\\w+\\\\b', tokenizer=None, use_idf=True,\n",
       "          vocabulary=None)),\n",
       " (u'logisticregression',\n",
       "  LogisticRegression(C=1.0, class_weight=None, dual=False, fit_intercept=True,\n",
       "            intercept_scaling=1, max_iter=100, multi_class=u'ovr', n_jobs=1,\n",
       "            penalty=u'l1', random_state=None, solver=u'liblinear',\n",
       "            tol=0.0001, verbose=0, warm_start=False))]"
      ]
     },
     "execution_count": 202,
     "metadata": {},
     "output_type": "execute_result"
    }
   ],
   "source": [
    "tfid_lr_mod_H.steps"
   ]
  },
  {
   "cell_type": "code",
   "execution_count": 207,
   "metadata": {},
   "outputs": [
    {
     "ename": "KeyboardInterrupt",
     "evalue": "",
     "output_type": "error",
     "traceback": [
      "\u001b[0;31m---------------------------------------------------------------------------\u001b[0m",
      "\u001b[0;31mKeyboardInterrupt\u001b[0m                         Traceback (most recent call last)",
      "\u001b[0;32m<ipython-input-207-02007f455d8f>\u001b[0m in \u001b[0;36m<module>\u001b[0;34m()\u001b[0m\n\u001b[0;32m----> 1\u001b[0;31m \u001b[0mtfid_lr_mod_H\u001b[0m\u001b[0;34m.\u001b[0m\u001b[0mfit\u001b[0m\u001b[0;34m(\u001b[0m\u001b[0mX_train\u001b[0m\u001b[0;34m,\u001b[0m \u001b[0my_train\u001b[0m\u001b[0;34m)\u001b[0m\u001b[0;34m\u001b[0m\u001b[0m\n\u001b[0m\u001b[1;32m      2\u001b[0m \u001b[0mtfid_lr_mod_H\u001b[0m\u001b[0;34m.\u001b[0m\u001b[0msteps\u001b[0m\u001b[0;34m[\u001b[0m\u001b[0;36m0\u001b[0m\u001b[0;34m]\u001b[0m\u001b[0;34m[\u001b[0m\u001b[0;36m1\u001b[0m\u001b[0;34m]\u001b[0m\u001b[0;34m.\u001b[0m\u001b[0mget_featurenames\u001b[0m\u001b[0;34m(\u001b[0m\u001b[0;34m)\u001b[0m\u001b[0;34m\u001b[0m\u001b[0m\n",
      "\u001b[0;32m/Users/jackcunningham/anaconda2/lib/python2.7/site-packages/sklearn/pipeline.pyc\u001b[0m in \u001b[0;36mfit\u001b[0;34m(self, X, y, **fit_params)\u001b[0m\n\u001b[1;32m    255\u001b[0m             \u001b[0mThis\u001b[0m \u001b[0mestimator\u001b[0m\u001b[0;34m\u001b[0m\u001b[0m\n\u001b[1;32m    256\u001b[0m         \"\"\"\n\u001b[0;32m--> 257\u001b[0;31m         \u001b[0mXt\u001b[0m\u001b[0;34m,\u001b[0m \u001b[0mfit_params\u001b[0m \u001b[0;34m=\u001b[0m \u001b[0mself\u001b[0m\u001b[0;34m.\u001b[0m\u001b[0m_fit\u001b[0m\u001b[0;34m(\u001b[0m\u001b[0mX\u001b[0m\u001b[0;34m,\u001b[0m \u001b[0my\u001b[0m\u001b[0;34m,\u001b[0m \u001b[0;34m**\u001b[0m\u001b[0mfit_params\u001b[0m\u001b[0;34m)\u001b[0m\u001b[0;34m\u001b[0m\u001b[0m\n\u001b[0m\u001b[1;32m    258\u001b[0m         \u001b[0;32mif\u001b[0m \u001b[0mself\u001b[0m\u001b[0;34m.\u001b[0m\u001b[0m_final_estimator\u001b[0m \u001b[0;32mis\u001b[0m \u001b[0;32mnot\u001b[0m \u001b[0mNone\u001b[0m\u001b[0;34m:\u001b[0m\u001b[0;34m\u001b[0m\u001b[0m\n\u001b[1;32m    259\u001b[0m             \u001b[0mself\u001b[0m\u001b[0;34m.\u001b[0m\u001b[0m_final_estimator\u001b[0m\u001b[0;34m.\u001b[0m\u001b[0mfit\u001b[0m\u001b[0;34m(\u001b[0m\u001b[0mXt\u001b[0m\u001b[0;34m,\u001b[0m \u001b[0my\u001b[0m\u001b[0;34m,\u001b[0m \u001b[0;34m**\u001b[0m\u001b[0mfit_params\u001b[0m\u001b[0;34m)\u001b[0m\u001b[0;34m\u001b[0m\u001b[0m\n",
      "\u001b[0;32m/Users/jackcunningham/anaconda2/lib/python2.7/site-packages/sklearn/pipeline.pyc\u001b[0m in \u001b[0;36m_fit\u001b[0;34m(self, X, y, **fit_params)\u001b[0m\n\u001b[1;32m    220\u001b[0m                 Xt, fitted_transformer = fit_transform_one_cached(\n\u001b[1;32m    221\u001b[0m                     \u001b[0mcloned_transformer\u001b[0m\u001b[0;34m,\u001b[0m \u001b[0mNone\u001b[0m\u001b[0;34m,\u001b[0m \u001b[0mXt\u001b[0m\u001b[0;34m,\u001b[0m \u001b[0my\u001b[0m\u001b[0;34m,\u001b[0m\u001b[0;34m\u001b[0m\u001b[0m\n\u001b[0;32m--> 222\u001b[0;31m                     **fit_params_steps[name])\n\u001b[0m\u001b[1;32m    223\u001b[0m                 \u001b[0;31m# Replace the transformer of the step with the fitted\u001b[0m\u001b[0;34m\u001b[0m\u001b[0;34m\u001b[0m\u001b[0m\n\u001b[1;32m    224\u001b[0m                 \u001b[0;31m# transformer. This is necessary when loading the transformer\u001b[0m\u001b[0;34m\u001b[0m\u001b[0;34m\u001b[0m\u001b[0m\n",
      "\u001b[0;32m/Users/jackcunningham/anaconda2/lib/python2.7/site-packages/sklearn/externals/joblib/memory.pyc\u001b[0m in \u001b[0;36m__call__\u001b[0;34m(self, *args, **kwargs)\u001b[0m\n\u001b[1;32m    360\u001b[0m \u001b[0;34m\u001b[0m\u001b[0m\n\u001b[1;32m    361\u001b[0m     \u001b[0;32mdef\u001b[0m \u001b[0m__call__\u001b[0m\u001b[0;34m(\u001b[0m\u001b[0mself\u001b[0m\u001b[0;34m,\u001b[0m \u001b[0;34m*\u001b[0m\u001b[0margs\u001b[0m\u001b[0;34m,\u001b[0m \u001b[0;34m**\u001b[0m\u001b[0mkwargs\u001b[0m\u001b[0;34m)\u001b[0m\u001b[0;34m:\u001b[0m\u001b[0;34m\u001b[0m\u001b[0m\n\u001b[0;32m--> 362\u001b[0;31m         \u001b[0;32mreturn\u001b[0m \u001b[0mself\u001b[0m\u001b[0;34m.\u001b[0m\u001b[0mfunc\u001b[0m\u001b[0;34m(\u001b[0m\u001b[0;34m*\u001b[0m\u001b[0margs\u001b[0m\u001b[0;34m,\u001b[0m \u001b[0;34m**\u001b[0m\u001b[0mkwargs\u001b[0m\u001b[0;34m)\u001b[0m\u001b[0;34m\u001b[0m\u001b[0m\n\u001b[0m\u001b[1;32m    363\u001b[0m \u001b[0;34m\u001b[0m\u001b[0m\n\u001b[1;32m    364\u001b[0m     \u001b[0;32mdef\u001b[0m \u001b[0mcall_and_shelve\u001b[0m\u001b[0;34m(\u001b[0m\u001b[0mself\u001b[0m\u001b[0;34m,\u001b[0m \u001b[0;34m*\u001b[0m\u001b[0margs\u001b[0m\u001b[0;34m,\u001b[0m \u001b[0;34m**\u001b[0m\u001b[0mkwargs\u001b[0m\u001b[0;34m)\u001b[0m\u001b[0;34m:\u001b[0m\u001b[0;34m\u001b[0m\u001b[0m\n",
      "\u001b[0;32m/Users/jackcunningham/anaconda2/lib/python2.7/site-packages/sklearn/pipeline.pyc\u001b[0m in \u001b[0;36m_fit_transform_one\u001b[0;34m(transformer, weight, X, y, **fit_params)\u001b[0m\n\u001b[1;32m    587\u001b[0m                        **fit_params):\n\u001b[1;32m    588\u001b[0m     \u001b[0;32mif\u001b[0m \u001b[0mhasattr\u001b[0m\u001b[0;34m(\u001b[0m\u001b[0mtransformer\u001b[0m\u001b[0;34m,\u001b[0m \u001b[0;34m'fit_transform'\u001b[0m\u001b[0;34m)\u001b[0m\u001b[0;34m:\u001b[0m\u001b[0;34m\u001b[0m\u001b[0m\n\u001b[0;32m--> 589\u001b[0;31m         \u001b[0mres\u001b[0m \u001b[0;34m=\u001b[0m \u001b[0mtransformer\u001b[0m\u001b[0;34m.\u001b[0m\u001b[0mfit_transform\u001b[0m\u001b[0;34m(\u001b[0m\u001b[0mX\u001b[0m\u001b[0;34m,\u001b[0m \u001b[0my\u001b[0m\u001b[0;34m,\u001b[0m \u001b[0;34m**\u001b[0m\u001b[0mfit_params\u001b[0m\u001b[0;34m)\u001b[0m\u001b[0;34m\u001b[0m\u001b[0m\n\u001b[0m\u001b[1;32m    590\u001b[0m     \u001b[0;32melse\u001b[0m\u001b[0;34m:\u001b[0m\u001b[0;34m\u001b[0m\u001b[0m\n\u001b[1;32m    591\u001b[0m         \u001b[0mres\u001b[0m \u001b[0;34m=\u001b[0m \u001b[0mtransformer\u001b[0m\u001b[0;34m.\u001b[0m\u001b[0mfit\u001b[0m\u001b[0;34m(\u001b[0m\u001b[0mX\u001b[0m\u001b[0;34m,\u001b[0m \u001b[0my\u001b[0m\u001b[0;34m,\u001b[0m \u001b[0;34m**\u001b[0m\u001b[0mfit_params\u001b[0m\u001b[0;34m)\u001b[0m\u001b[0;34m.\u001b[0m\u001b[0mtransform\u001b[0m\u001b[0;34m(\u001b[0m\u001b[0mX\u001b[0m\u001b[0;34m)\u001b[0m\u001b[0;34m\u001b[0m\u001b[0m\n",
      "\u001b[0;32m/Users/jackcunningham/anaconda2/lib/python2.7/site-packages/sklearn/feature_extraction/text.pyc\u001b[0m in \u001b[0;36mfit_transform\u001b[0;34m(self, raw_documents, y)\u001b[0m\n\u001b[1;32m   1379\u001b[0m             \u001b[0mTf\u001b[0m\u001b[0;34m-\u001b[0m\u001b[0midf\u001b[0m\u001b[0;34m-\u001b[0m\u001b[0mweighted\u001b[0m \u001b[0mdocument\u001b[0m\u001b[0;34m-\u001b[0m\u001b[0mterm\u001b[0m \u001b[0mmatrix\u001b[0m\u001b[0;34m.\u001b[0m\u001b[0;34m\u001b[0m\u001b[0m\n\u001b[1;32m   1380\u001b[0m         \"\"\"\n\u001b[0;32m-> 1381\u001b[0;31m         \u001b[0mX\u001b[0m \u001b[0;34m=\u001b[0m \u001b[0msuper\u001b[0m\u001b[0;34m(\u001b[0m\u001b[0mTfidfVectorizer\u001b[0m\u001b[0;34m,\u001b[0m \u001b[0mself\u001b[0m\u001b[0;34m)\u001b[0m\u001b[0;34m.\u001b[0m\u001b[0mfit_transform\u001b[0m\u001b[0;34m(\u001b[0m\u001b[0mraw_documents\u001b[0m\u001b[0;34m)\u001b[0m\u001b[0;34m\u001b[0m\u001b[0m\n\u001b[0m\u001b[1;32m   1382\u001b[0m         \u001b[0mself\u001b[0m\u001b[0;34m.\u001b[0m\u001b[0m_tfidf\u001b[0m\u001b[0;34m.\u001b[0m\u001b[0mfit\u001b[0m\u001b[0;34m(\u001b[0m\u001b[0mX\u001b[0m\u001b[0;34m)\u001b[0m\u001b[0;34m\u001b[0m\u001b[0m\n\u001b[1;32m   1383\u001b[0m         \u001b[0;31m# X is already a transformed view of raw_documents so\u001b[0m\u001b[0;34m\u001b[0m\u001b[0;34m\u001b[0m\u001b[0m\n",
      "\u001b[0;32m/Users/jackcunningham/anaconda2/lib/python2.7/site-packages/sklearn/feature_extraction/text.pyc\u001b[0m in \u001b[0;36mfit_transform\u001b[0;34m(self, raw_documents, y)\u001b[0m\n\u001b[1;32m    867\u001b[0m \u001b[0;34m\u001b[0m\u001b[0m\n\u001b[1;32m    868\u001b[0m         vocabulary, X = self._count_vocab(raw_documents,\n\u001b[0;32m--> 869\u001b[0;31m                                           self.fixed_vocabulary_)\n\u001b[0m\u001b[1;32m    870\u001b[0m \u001b[0;34m\u001b[0m\u001b[0m\n\u001b[1;32m    871\u001b[0m         \u001b[0;32mif\u001b[0m \u001b[0mself\u001b[0m\u001b[0;34m.\u001b[0m\u001b[0mbinary\u001b[0m\u001b[0;34m:\u001b[0m\u001b[0;34m\u001b[0m\u001b[0m\n",
      "\u001b[0;32m/Users/jackcunningham/anaconda2/lib/python2.7/site-packages/sklearn/feature_extraction/text.pyc\u001b[0m in \u001b[0;36m_count_vocab\u001b[0;34m(self, raw_documents, fixed_vocab)\u001b[0m\n\u001b[1;32m    790\u001b[0m         \u001b[0;32mfor\u001b[0m \u001b[0mdoc\u001b[0m \u001b[0;32min\u001b[0m \u001b[0mraw_documents\u001b[0m\u001b[0;34m:\u001b[0m\u001b[0;34m\u001b[0m\u001b[0m\n\u001b[1;32m    791\u001b[0m             \u001b[0mfeature_counter\u001b[0m \u001b[0;34m=\u001b[0m \u001b[0;34m{\u001b[0m\u001b[0;34m}\u001b[0m\u001b[0;34m\u001b[0m\u001b[0m\n\u001b[0;32m--> 792\u001b[0;31m             \u001b[0;32mfor\u001b[0m \u001b[0mfeature\u001b[0m \u001b[0;32min\u001b[0m \u001b[0manalyze\u001b[0m\u001b[0;34m(\u001b[0m\u001b[0mdoc\u001b[0m\u001b[0;34m)\u001b[0m\u001b[0;34m:\u001b[0m\u001b[0;34m\u001b[0m\u001b[0m\n\u001b[0m\u001b[1;32m    793\u001b[0m                 \u001b[0;32mtry\u001b[0m\u001b[0;34m:\u001b[0m\u001b[0;34m\u001b[0m\u001b[0m\n\u001b[1;32m    794\u001b[0m                     \u001b[0mfeature_idx\u001b[0m \u001b[0;34m=\u001b[0m \u001b[0mvocabulary\u001b[0m\u001b[0;34m[\u001b[0m\u001b[0mfeature\u001b[0m\u001b[0;34m]\u001b[0m\u001b[0;34m\u001b[0m\u001b[0m\n",
      "\u001b[0;32m/Users/jackcunningham/anaconda2/lib/python2.7/site-packages/sklearn/feature_extraction/text.pyc\u001b[0m in \u001b[0;36m<lambda>\u001b[0;34m(doc)\u001b[0m\n\u001b[1;32m    264\u001b[0m \u001b[0;34m\u001b[0m\u001b[0m\n\u001b[1;32m    265\u001b[0m             return lambda doc: self._word_ngrams(\n\u001b[0;32m--> 266\u001b[0;31m                 tokenize(preprocess(self.decode(doc))), stop_words)\n\u001b[0m\u001b[1;32m    267\u001b[0m \u001b[0;34m\u001b[0m\u001b[0m\n\u001b[1;32m    268\u001b[0m         \u001b[0;32melse\u001b[0m\u001b[0;34m:\u001b[0m\u001b[0;34m\u001b[0m\u001b[0m\n",
      "\u001b[0;32m/Users/jackcunningham/anaconda2/lib/python2.7/site-packages/sklearn/feature_extraction/text.pyc\u001b[0m in \u001b[0;36m_word_ngrams\u001b[0;34m(self, tokens, stop_words)\u001b[0m\n\u001b[1;32m    149\u001b[0m                             min(max_n + 1, n_original_tokens + 1)):\n\u001b[1;32m    150\u001b[0m                 \u001b[0;32mfor\u001b[0m \u001b[0mi\u001b[0m \u001b[0;32min\u001b[0m \u001b[0mxrange\u001b[0m\u001b[0;34m(\u001b[0m\u001b[0mn_original_tokens\u001b[0m \u001b[0;34m-\u001b[0m \u001b[0mn\u001b[0m \u001b[0;34m+\u001b[0m \u001b[0;36m1\u001b[0m\u001b[0;34m)\u001b[0m\u001b[0;34m:\u001b[0m\u001b[0;34m\u001b[0m\u001b[0m\n\u001b[0;32m--> 151\u001b[0;31m                     \u001b[0mtokens_append\u001b[0m\u001b[0;34m(\u001b[0m\u001b[0mspace_join\u001b[0m\u001b[0;34m(\u001b[0m\u001b[0moriginal_tokens\u001b[0m\u001b[0;34m[\u001b[0m\u001b[0mi\u001b[0m\u001b[0;34m:\u001b[0m \u001b[0mi\u001b[0m \u001b[0;34m+\u001b[0m \u001b[0mn\u001b[0m\u001b[0;34m]\u001b[0m\u001b[0;34m)\u001b[0m\u001b[0;34m)\u001b[0m\u001b[0;34m\u001b[0m\u001b[0m\n\u001b[0m\u001b[1;32m    152\u001b[0m \u001b[0;34m\u001b[0m\u001b[0m\n\u001b[1;32m    153\u001b[0m         \u001b[0;32mreturn\u001b[0m \u001b[0mtokens\u001b[0m\u001b[0;34m\u001b[0m\u001b[0m\n",
      "\u001b[0;31mKeyboardInterrupt\u001b[0m: "
     ]
    }
   ],
   "source": [
    "tfid_lr_mod_H.fit(X_train, y_train)\n",
    "tfid_lr_mod_H.steps[0][1].get_featurenames()"
   ]
  },
  {
   "cell_type": "code",
   "execution_count": null,
   "metadata": {
    "collapsed": true
   },
   "outputs": [],
   "source": [
    "tfid_lr_mod_H.steps[1][1]."
   ]
  },
  {
   "cell_type": "markdown",
   "metadata": {},
   "source": [
    "##### Confusion Matrix"
   ]
  },
  {
   "cell_type": "markdown",
   "metadata": {},
   "source": [
    "The confusion matrix represents the performance of a model in classifying labels. \n",
    "\n",
    "It demonstrates in a table, a comparison between observed classes (in this case stars) versus the prediction class. \n",
    "\n",
    "The confusion matrix allows us to demonstrate where our model is correctly and incorrectly predicting the class, star rating. "
   ]
  },
  {
   "cell_type": "markdown",
   "metadata": {},
   "source": [
    "##### Accuracy"
   ]
  },
  {
   "cell_type": "markdown",
   "metadata": {},
   "source": [
    "The classifer accuracy can be calculated as; \n",
    "> **accuracy = (tp + tn) / total_population**\n",
    "\n",
    "Where tp = True positive and tn = True negative. \n",
    "The above is true for a binary model. \n",
    "\n",
    "As in this report will be predicting 5 separate classes, we can write the accuracy equation as;\n",
    "\n",
    "> **accuracy = (t1 + t2 + t3 + t4 + t5) / total_population**\n",
    "\n",
    "Where;\n",
    "- t1; classifier correct; classifier guessed 1 Star.\n",
    "- t2; classifier correct; classifier guessed 2 Star.\n",
    "- t3; classifier correct; classifier guessed 3 Star.\n",
    "- t4; classifier correct; classifier guessed 4 Star.\n",
    "- t5; classifier correct; classifier guessed 5 Star."
   ]
  },
  {
   "cell_type": "markdown",
   "metadata": {},
   "source": [
    "##### Classification Report. "
   ]
  },
  {
   "cell_type": "markdown",
   "metadata": {},
   "source": [
    "The classification report prints out three metrics precision; recall, F1 score and \"support\";\n",
    "- precision; measures out of all the times the classifier predicted a positive label, the true label was also positive.\n",
    "- recall; measures out of all the times the true label was positive, the predicted label was also positive.\n",
    "- F1 score; The F1-score is the harmonic mean of the precision and recall metrics\n",
    "- \"Support\"; refers to the total number of observations in each class"
   ]
  },
  {
   "cell_type": "code",
   "execution_count": 43,
   "metadata": {},
   "outputs": [
    {
     "name": "stderr",
     "output_type": "stream",
     "text": [
      "/Users/jackcunningham/anaconda2/lib/python2.7/site-packages/sklearn/base.py:312: UserWarning: Trying to unpickle estimator TfidfTransformer from version 0.19.1 when using version 0.19.0. This might lead to breaking code or invalid results. Use at your own risk.\n",
      "  UserWarning)\n",
      "/Users/jackcunningham/anaconda2/lib/python2.7/site-packages/sklearn/base.py:312: UserWarning: Trying to unpickle estimator TfidfVectorizer from version 0.19.1 when using version 0.19.0. This might lead to breaking code or invalid results. Use at your own risk.\n",
      "  UserWarning)\n",
      "/Users/jackcunningham/anaconda2/lib/python2.7/site-packages/sklearn/base.py:312: UserWarning: Trying to unpickle estimator LogisticRegression from version 0.19.1 when using version 0.19.0. This might lead to breaking code or invalid results. Use at your own risk.\n",
      "  UserWarning)\n",
      "/Users/jackcunningham/anaconda2/lib/python2.7/site-packages/sklearn/base.py:312: UserWarning: Trying to unpickle estimator Pipeline from version 0.19.1 when using version 0.19.0. This might lead to breaking code or invalid results. Use at your own risk.\n",
      "  UserWarning)\n"
     ]
    }
   ],
   "source": [
    "with open('./models/tfid_lr_mod_H.pkl') as fL:\n",
    "    tfid_lr_mod_H = pickle.load(fL)"
   ]
  },
  {
   "cell_type": "code",
   "execution_count": 44,
   "metadata": {},
   "outputs": [
    {
     "name": "stdout",
     "output_type": "stream",
     "text": [
      "0.634392362795\n",
      "Number of features: \n",
      "10000\n",
      "Classification Report: \\m\n",
      "             precision    recall  f1-score   support\n",
      "\n",
      "     1 Star       0.69      0.79      0.74     79771\n",
      "     2 Star       0.53      0.34      0.41     70495\n",
      "     3 Star       0.54      0.39      0.45    102654\n",
      "     4 Star       0.55      0.55      0.55    201338\n",
      "     5 Star       0.71      0.83      0.76    267472\n",
      "\n",
      "avg / total       0.62      0.63      0.62    721730\n",
      "\n",
      "Confusion Matrix: \n"
     ]
    },
    {
     "data": {
      "text/html": [
       "<div>\n",
       "<style>\n",
       "    .dataframe thead tr:only-child th {\n",
       "        text-align: right;\n",
       "    }\n",
       "\n",
       "    .dataframe thead th {\n",
       "        text-align: left;\n",
       "    }\n",
       "\n",
       "    .dataframe tbody tr th {\n",
       "        vertical-align: top;\n",
       "    }\n",
       "</style>\n",
       "<table border=\"1\" class=\"dataframe\">\n",
       "  <thead>\n",
       "    <tr style=\"text-align: right;\">\n",
       "      <th></th>\n",
       "      <th>p_one_star</th>\n",
       "      <th>p_two_star</th>\n",
       "      <th>p_three_star</th>\n",
       "      <th>p_four_star</th>\n",
       "      <th>p_five_star</th>\n",
       "    </tr>\n",
       "  </thead>\n",
       "  <tbody>\n",
       "    <tr>\n",
       "      <th>is_one_star</th>\n",
       "      <td>62932</td>\n",
       "      <td>9549</td>\n",
       "      <td>3032</td>\n",
       "      <td>2081</td>\n",
       "      <td>2177</td>\n",
       "    </tr>\n",
       "    <tr>\n",
       "      <th>is_two_star</th>\n",
       "      <td>19654</td>\n",
       "      <td>23647</td>\n",
       "      <td>17204</td>\n",
       "      <td>6904</td>\n",
       "      <td>3086</td>\n",
       "    </tr>\n",
       "    <tr>\n",
       "      <th>is_three_star</th>\n",
       "      <td>5727</td>\n",
       "      <td>9963</td>\n",
       "      <td>40037</td>\n",
       "      <td>38140</td>\n",
       "      <td>8787</td>\n",
       "    </tr>\n",
       "    <tr>\n",
       "      <th>is_four_star</th>\n",
       "      <td>1733</td>\n",
       "      <td>1375</td>\n",
       "      <td>12637</td>\n",
       "      <td>110131</td>\n",
       "      <td>75462</td>\n",
       "    </tr>\n",
       "    <tr>\n",
       "      <th>is_five_star</th>\n",
       "      <td>1189</td>\n",
       "      <td>363</td>\n",
       "      <td>1762</td>\n",
       "      <td>43045</td>\n",
       "      <td>221113</td>\n",
       "    </tr>\n",
       "  </tbody>\n",
       "</table>\n",
       "</div>"
      ],
      "text/plain": [
       "               p_one_star  p_two_star  p_three_star  p_four_star  p_five_star\n",
       "is_one_star         62932        9549          3032         2081         2177\n",
       "is_two_star         19654       23647         17204         6904         3086\n",
       "is_three_star        5727        9963         40037        38140         8787\n",
       "is_four_star         1733        1375         12637       110131        75462\n",
       "is_five_star         1189         363          1762        43045       221113"
      ]
     },
     "metadata": {},
     "output_type": "display_data"
    }
   ],
   "source": [
    "tfid_lr_mod_H_y_pred = tfid_lr_mod_H.predict(X_test)\n",
    "print accuracy_score(y_test, tfid_lr_mod_H_y_pred)\n",
    "print \"Number of features: \\n\", len(tfid_lr_mod_H.steps[0][1].get_feature_names())\n",
    "print \"Classification Report: \\m\"\n",
    "print classification_report(y_test,tfid_lr_mod_H_y_pred,target_names=[str(i) + ' Star' for i in range(1,6)])\n",
    "\n",
    "tfid_lr_mod_H_conmat = pd.DataFrame(np.array(confusion_matrix(y_test, tfid_lr_mod_H_y_pred)), index=['is_one_star', 'is_two_star','is_three_star','is_four_star','is_five_star'],\n",
    "                         columns=['p_one_star', 'p_two_star','p_three_star','p_four_star','p_five_star' ])\n",
    "print \"Confusion Matrix: \"\n",
    "display(tfid_lr_mod_H_conmat)"
   ]
  },
  {
   "cell_type": "code",
   "execution_count": 251,
   "metadata": {},
   "outputs": [
    {
     "name": "stdout",
     "output_type": "stream",
     "text": [
      "0.58980920843\n",
      "Number of features: \n",
      "10000\n",
      "Classification Report: \\m\n",
      "             precision    recall  f1-score   support\n",
      "\n",
      "     1 Star       0.64      0.71      0.67     79771\n",
      "     2 Star       0.47      0.23      0.31     70495\n",
      "     3 Star       0.48      0.25      0.32    102654\n",
      "     4 Star       0.48      0.54      0.51    201338\n",
      "     5 Star       0.68      0.82      0.74    267472\n",
      "\n",
      "avg / total       0.57      0.59      0.57    721730\n",
      "\n",
      "Confusion Matrix: \n"
     ]
    },
    {
     "data": {
      "text/html": [
       "<div>\n",
       "<style>\n",
       "    .dataframe thead tr:only-child th {\n",
       "        text-align: right;\n",
       "    }\n",
       "\n",
       "    .dataframe thead th {\n",
       "        text-align: left;\n",
       "    }\n",
       "\n",
       "    .dataframe tbody tr th {\n",
       "        vertical-align: top;\n",
       "    }\n",
       "</style>\n",
       "<table border=\"1\" class=\"dataframe\">\n",
       "  <thead>\n",
       "    <tr style=\"text-align: right;\">\n",
       "      <th></th>\n",
       "      <th>p_one_star</th>\n",
       "      <th>p_two_star</th>\n",
       "      <th>p_three_star</th>\n",
       "      <th>p_four_star</th>\n",
       "      <th>p_five_star</th>\n",
       "    </tr>\n",
       "  </thead>\n",
       "  <tbody>\n",
       "    <tr>\n",
       "      <th>is_one_star</th>\n",
       "      <td>56640</td>\n",
       "      <td>10212</td>\n",
       "      <td>3919</td>\n",
       "      <td>5350</td>\n",
       "      <td>3650</td>\n",
       "    </tr>\n",
       "    <tr>\n",
       "      <th>is_two_star</th>\n",
       "      <td>19101</td>\n",
       "      <td>16022</td>\n",
       "      <td>16857</td>\n",
       "      <td>13951</td>\n",
       "      <td>4564</td>\n",
       "    </tr>\n",
       "    <tr>\n",
       "      <th>is_three_star</th>\n",
       "      <td>7831</td>\n",
       "      <td>6218</td>\n",
       "      <td>25222</td>\n",
       "      <td>51874</td>\n",
       "      <td>11509</td>\n",
       "    </tr>\n",
       "    <tr>\n",
       "      <th>is_four_star</th>\n",
       "      <td>3053</td>\n",
       "      <td>1084</td>\n",
       "      <td>6193</td>\n",
       "      <td>109055</td>\n",
       "      <td>81953</td>\n",
       "    </tr>\n",
       "    <tr>\n",
       "      <th>is_five_star</th>\n",
       "      <td>2511</td>\n",
       "      <td>268</td>\n",
       "      <td>731</td>\n",
       "      <td>45218</td>\n",
       "      <td>218744</td>\n",
       "    </tr>\n",
       "  </tbody>\n",
       "</table>\n",
       "</div>"
      ],
      "text/plain": [
       "               p_one_star  p_two_star  p_three_star  p_four_star  p_five_star\n",
       "is_one_star         56640       10212          3919         5350         3650\n",
       "is_two_star         19101       16022         16857        13951         4564\n",
       "is_three_star        7831        6218         25222        51874        11509\n",
       "is_four_star         3053        1084          6193       109055        81953\n",
       "is_five_star         2511         268           731        45218       218744"
      ]
     },
     "metadata": {},
     "output_type": "display_data"
    }
   ],
   "source": [
    "#CHANGE to NMB \n",
    "tfid_MNB_mod_H_y_pred = tfid_MNB_mod_H.predict(X_test)\n",
    "print accuracy_score(y_test, tfid_MNB_mod_H_y_pred)\n",
    "print \"Number of features: \\n\", len(tfid_MNB_mod_H.steps[0][1].get_feature_names())\n",
    "print \"Classification Report: \\m\"\n",
    "print classification_report(y_test,tfid_MNB_mod_H_y_pred,target_names=[str(i) + ' Star' for i in range(1,6)])\n",
    "\n",
    "tfid_MNB_mod_H_conmat = pd.DataFrame(np.array(confusion_matrix(y_test, tfid_MNB_mod_H_y_pred)), index=['is_one_star', 'is_two_star','is_three_star','is_four_star','is_five_star'],\n",
    "                         columns=['p_one_star', 'p_two_star','p_three_star','p_four_star','p_five_star' ])\n",
    "print \"Confusion Matrix: \"\n",
    "display(tfid_MNB_mod_H_conmat)"
   ]
  },
  {
   "cell_type": "markdown",
   "metadata": {},
   "source": [
    "##### Intepretation of the Logisitc Regression Model: tfid_lr_mod"
   ]
  },
  {
   "cell_type": "markdown",
   "metadata": {},
   "source": [
    "Interpreting the confusion matrix, we see that 21449 times the model correctly predicted a two star rating. In 20482 cases, the model incorrectly identified a one star review, where in actual fact, each time the review was a two star review.\n",
    "\n",
    "Reffering to the initial interpretation of the classication report, and the metrics contained, we can say 67% of the classifier predicting 5 star, the actual star rating was 5.\n"
   ]
  },
  {
   "cell_type": "code",
   "execution_count": 87,
   "metadata": {
    "collapsed": true
   },
   "outputs": [],
   "source": [
    "S1_pred_binz = y_test.map(lambda x: 1 if x==1 else 0)\n"
   ]
  },
  {
   "cell_type": "code",
   "execution_count": 88,
   "metadata": {
    "scrolled": true
   },
   "outputs": [
    {
     "data": {
      "image/png": "[encoded data removed]",
      "text/plain": [
       "<matplotlib.figure.Figure at 0x1a19c60710>"
      ]
     },
     "metadata": {},
     "output_type": "display_data"
    }
   ],
   "source": [
    "\n",
    "#precicting class 1 or 5!\n",
    "    #fpr, tpr, threshold = roc_curve(preditons_binarized, tflrm_yhat_pp[:,1])\n",
    "fpr, tpr, threshold = roc_curve(S1_pred_binz, Y_pp['1_Star'])\n",
    "\n",
    "roc_auc = auc(fpr, tpr)\n",
    "\n",
    "plt.figure(figsize=[8,8])\n",
    "plt.plot(fpr, tpr, label='ROC curve (area = %0.3f)' % roc_auc, linewidth=4)\n",
    "plt.plot([0, 1], [0, 1], 'k--', linewidth=4)\n",
    "plt.xlim([-0.05, 1.0])\n",
    "plt.ylim([-0.05, 1.05])\n",
    "plt.xlabel('False Positive Rate', fontsize=18)\n",
    "plt.ylabel('True Positive Rate', fontsize=18)\n",
    "plt.title('Receiver operating characteristic: is 1 Star', fontsize=18)\n",
    "plt.legend(loc=\"lower right\")\n",
    "plt.show()"
   ]
  },
  {
   "cell_type": "markdown",
   "metadata": {},
   "source": [
    "lets try reduce of false negatives in the classifation of 1_Star, i.e. we want to reduce predictions that ratings are higher than 1, when they are infact 1!"
   ]
  },
  {
   "cell_type": "code",
   "execution_count": null,
   "metadata": {
    "collapsed": true
   },
   "outputs": [],
   "source": [
    "Y_pp = pd.DataFrame(tfid_lr_mod_H.predict_proba(X_test), columns=['1_Star','2_Star', '3_Star', '4_Star', '5_Star'])"
   ]
  },
  {
   "cell_type": "code",
   "execution_count": 114,
   "metadata": {
    "collapsed": true
   },
   "outputs": [],
   "source": [
    "#S1_pred_binz = y_test.map(lambda x: 1 if x==1 else 0)\n",
    "\n",
    "Y_pp['pred_1_Star_thresh10'] = [1 if x >= 0.10 else 0 for x in Y_pp['1_Star'].values]\n",
    "S1_pred_binz_th = y_test.map(lambda x: 1 if x==1 else 0)\n",
    "\n"
   ]
  },
  {
   "cell_type": "code",
   "execution_count": 120,
   "metadata": {
    "collapsed": true
   },
   "outputs": [],
   "source": [
    "X = pd.DataFrame(np.array(confusion_matrix(S1_pred_binz_th, Y_pp.pred_1_Star_thresh10.values,labels=[1,0])), index=['is_one_star','is_not_one_star'], columns=['p_one_star', 'p_not_one_star'])#     \n",
    "\n",
    "#X = np.array(confusion_matrix(y_test, Y_pp.pred_1_Star_thresh10.values))\n",
    "\n"
   ]
  },
  {
   "cell_type": "code",
   "execution_count": 121,
   "metadata": {},
   "outputs": [
    {
     "data": {
      "text/plain": [
       "2771045    0\n",
       "494254     0\n",
       "1654384    0\n",
       "1502701    0\n",
       "1695744    0\n",
       "Name: stars, dtype: int64"
      ]
     },
     "execution_count": 121,
     "metadata": {},
     "output_type": "execute_result"
    }
   ],
   "source": [
    "#y_test.head(5)\n",
    "S1_pred_binz.head(5)\n"
   ]
  },
  {
   "cell_type": "code",
   "execution_count": 122,
   "metadata": {},
   "outputs": [
    {
     "data": {
      "text/plain": [
       "0    0\n",
       "1    0\n",
       "2    0\n",
       "3    0\n",
       "4    0\n",
       "Name: pred_1_Star_thresh10, dtype: int64"
      ]
     },
     "execution_count": 122,
     "metadata": {},
     "output_type": "execute_result"
    }
   ],
   "source": [
    "Y_pp.pred_1_Star_thresh10.head(5)"
   ]
  },
  {
   "cell_type": "code",
   "execution_count": 123,
   "metadata": {},
   "outputs": [
    {
     "data": {
      "text/html": [
       "<div>\n",
       "<style>\n",
       "    .dataframe thead tr:only-child th {\n",
       "        text-align: right;\n",
       "    }\n",
       "\n",
       "    .dataframe thead th {\n",
       "        text-align: left;\n",
       "    }\n",
       "\n",
       "    .dataframe tbody tr th {\n",
       "        vertical-align: top;\n",
       "    }\n",
       "</style>\n",
       "<table border=\"1\" class=\"dataframe\">\n",
       "  <thead>\n",
       "    <tr style=\"text-align: right;\">\n",
       "      <th></th>\n",
       "      <th>1_Star</th>\n",
       "      <th>2_Star</th>\n",
       "      <th>3_Star</th>\n",
       "      <th>4_Star</th>\n",
       "      <th>5_Star</th>\n",
       "      <th>pred_1_Star_thresh10</th>\n",
       "    </tr>\n",
       "  </thead>\n",
       "  <tbody>\n",
       "    <tr>\n",
       "      <th>0</th>\n",
       "      <td>0.000136</td>\n",
       "      <td>0.006127</td>\n",
       "      <td>0.015226</td>\n",
       "      <td>0.118644</td>\n",
       "      <td>0.859868</td>\n",
       "      <td>0</td>\n",
       "    </tr>\n",
       "    <tr>\n",
       "      <th>1</th>\n",
       "      <td>0.002247</td>\n",
       "      <td>0.012080</td>\n",
       "      <td>0.035316</td>\n",
       "      <td>0.410565</td>\n",
       "      <td>0.539792</td>\n",
       "      <td>0</td>\n",
       "    </tr>\n",
       "    <tr>\n",
       "      <th>2</th>\n",
       "      <td>0.003169</td>\n",
       "      <td>0.024092</td>\n",
       "      <td>0.175818</td>\n",
       "      <td>0.562296</td>\n",
       "      <td>0.234625</td>\n",
       "      <td>0</td>\n",
       "    </tr>\n",
       "    <tr>\n",
       "      <th>3</th>\n",
       "      <td>0.003421</td>\n",
       "      <td>0.032783</td>\n",
       "      <td>0.167451</td>\n",
       "      <td>0.524416</td>\n",
       "      <td>0.271930</td>\n",
       "      <td>0</td>\n",
       "    </tr>\n",
       "    <tr>\n",
       "      <th>4</th>\n",
       "      <td>0.000238</td>\n",
       "      <td>0.002269</td>\n",
       "      <td>0.016130</td>\n",
       "      <td>0.315624</td>\n",
       "      <td>0.665739</td>\n",
       "      <td>0</td>\n",
       "    </tr>\n",
       "  </tbody>\n",
       "</table>\n",
       "</div>"
      ],
      "text/plain": [
       "     1_Star    2_Star    3_Star    4_Star    5_Star  pred_1_Star_thresh10\n",
       "0  0.000136  0.006127  0.015226  0.118644  0.859868                     0\n",
       "1  0.002247  0.012080  0.035316  0.410565  0.539792                     0\n",
       "2  0.003169  0.024092  0.175818  0.562296  0.234625                     0\n",
       "3  0.003421  0.032783  0.167451  0.524416  0.271930                     0\n",
       "4  0.000238  0.002269  0.016130  0.315624  0.665739                     0"
      ]
     },
     "execution_count": 123,
     "metadata": {},
     "output_type": "execute_result"
    }
   ],
   "source": [
    "Y_pp.head()"
   ]
  },
  {
   "cell_type": "code",
   "execution_count": 124,
   "metadata": {},
   "outputs": [
    {
     "data": {
      "text/html": [
       "<div>\n",
       "<style>\n",
       "    .dataframe thead tr:only-child th {\n",
       "        text-align: right;\n",
       "    }\n",
       "\n",
       "    .dataframe thead th {\n",
       "        text-align: left;\n",
       "    }\n",
       "\n",
       "    .dataframe tbody tr th {\n",
       "        vertical-align: top;\n",
       "    }\n",
       "</style>\n",
       "<table border=\"1\" class=\"dataframe\">\n",
       "  <thead>\n",
       "    <tr style=\"text-align: right;\">\n",
       "      <th></th>\n",
       "      <th>p_one_star</th>\n",
       "      <th>p_not_one_star</th>\n",
       "    </tr>\n",
       "  </thead>\n",
       "  <tbody>\n",
       "    <tr>\n",
       "      <th>is_one_star</th>\n",
       "      <td>75882</td>\n",
       "      <td>3889</td>\n",
       "    </tr>\n",
       "    <tr>\n",
       "      <th>is_not_one_star</th>\n",
       "      <td>76629</td>\n",
       "      <td>565330</td>\n",
       "    </tr>\n",
       "  </tbody>\n",
       "</table>\n",
       "</div>"
      ],
      "text/plain": [
       "                 p_one_star  p_not_one_star\n",
       "is_one_star           75882            3889\n",
       "is_not_one_star       76629          565330"
      ]
     },
     "execution_count": 124,
     "metadata": {},
     "output_type": "execute_result"
    }
   ],
   "source": [
    "X"
   ]
  },
  {
   "cell_type": "code",
   "execution_count": 66,
   "metadata": {
    "scrolled": true
   },
   "outputs": [
    {
     "data": {
      "text/plain": [
       "5    267472\n",
       "4    201338\n",
       "3    102654\n",
       "1     79771\n",
       "2     70495\n",
       "Name: stars, dtype: int64"
      ]
     },
     "execution_count": 66,
     "metadata": {},
     "output_type": "execute_result"
    }
   ],
   "source": [
    "y_test.value_counts()"
   ]
  },
  {
   "cell_type": "code",
   "execution_count": 68,
   "metadata": {},
   "outputs": [
    {
     "data": {
      "text/plain": [
       "0    569219\n",
       "1    152511\n",
       "Name: pred_1_Star_thresh10, dtype: int64"
      ]
     },
     "execution_count": 68,
     "metadata": {},
     "output_type": "execute_result"
    }
   ],
   "source": [
    "Y_pp['pred_1_Star_thresh10'].value_counts()"
   ]
  },
  {
   "cell_type": "code",
   "execution_count": 69,
   "metadata": {},
   "outputs": [
    {
     "data": {
      "text/plain": [
       "0    641959\n",
       "1     79771\n",
       "Name: stars, dtype: int64"
      ]
     },
     "execution_count": 69,
     "metadata": {},
     "output_type": "execute_result"
    }
   ],
   "source": [
    "S1_pred_binz.value_counts()"
   ]
  },
  {
   "cell_type": "code",
   "execution_count": 30,
   "metadata": {
    "scrolled": true
   },
   "outputs": [
    {
     "data": {
      "text/plain": [
       "(721730, 6)"
      ]
     },
     "execution_count": 30,
     "metadata": {},
     "output_type": "execute_result"
    }
   ],
   "source": [
    "Y_pp.shape"
   ]
  },
  {
   "cell_type": "code",
   "execution_count": 32,
   "metadata": {},
   "outputs": [
    {
     "data": {
      "text/plain": [
       "5    267472\n",
       "4    201338\n",
       "3    102654\n",
       "1     79771\n",
       "2     70495\n",
       "Name: stars, dtype: int64"
      ]
     },
     "execution_count": 32,
     "metadata": {},
     "output_type": "execute_result"
    }
   ],
   "source": [
    "y_test.value_counts()"
   ]
  },
  {
   "cell_type": "code",
   "execution_count": 28,
   "metadata": {},
   "outputs": [
    {
     "data": {
      "text/html": [
       "<div>\n",
       "<style>\n",
       "    .dataframe thead tr:only-child th {\n",
       "        text-align: right;\n",
       "    }\n",
       "\n",
       "    .dataframe thead th {\n",
       "        text-align: left;\n",
       "    }\n",
       "\n",
       "    .dataframe tbody tr th {\n",
       "        vertical-align: top;\n",
       "    }\n",
       "</style>\n",
       "<table border=\"1\" class=\"dataframe\">\n",
       "  <thead>\n",
       "    <tr style=\"text-align: right;\">\n",
       "      <th></th>\n",
       "      <th>2_Star</th>\n",
       "      <th>3_Star</th>\n",
       "      <th>4_Star</th>\n",
       "      <th>5_Star</th>\n",
       "      <th>pred_1_Star_thresh10</th>\n",
       "    </tr>\n",
       "  </thead>\n",
       "  <tbody>\n",
       "    <tr>\n",
       "      <th>0</th>\n",
       "      <td>0.187096</td>\n",
       "      <td>0.212903</td>\n",
       "      <td>0.225806</td>\n",
       "      <td>0.167741</td>\n",
       "      <td>1</td>\n",
       "    </tr>\n",
       "    <tr>\n",
       "      <th>1</th>\n",
       "      <td>0.187096</td>\n",
       "      <td>0.212903</td>\n",
       "      <td>0.225806</td>\n",
       "      <td>0.167741</td>\n",
       "      <td>1</td>\n",
       "    </tr>\n",
       "    <tr>\n",
       "      <th>2</th>\n",
       "      <td>0.187096</td>\n",
       "      <td>0.212903</td>\n",
       "      <td>0.225806</td>\n",
       "      <td>0.167741</td>\n",
       "      <td>1</td>\n",
       "    </tr>\n",
       "    <tr>\n",
       "      <th>3</th>\n",
       "      <td>0.187096</td>\n",
       "      <td>0.212903</td>\n",
       "      <td>0.225806</td>\n",
       "      <td>0.167741</td>\n",
       "      <td>1</td>\n",
       "    </tr>\n",
       "    <tr>\n",
       "      <th>4</th>\n",
       "      <td>0.187096</td>\n",
       "      <td>0.212903</td>\n",
       "      <td>0.225806</td>\n",
       "      <td>0.167741</td>\n",
       "      <td>1</td>\n",
       "    </tr>\n",
       "  </tbody>\n",
       "</table>\n",
       "</div>"
      ],
      "text/plain": [
       "     2_Star    3_Star    4_Star    5_Star  pred_1_Star_thresh10\n",
       "0  0.187096  0.212903  0.225806  0.167741                     1\n",
       "1  0.187096  0.212903  0.225806  0.167741                     1\n",
       "2  0.187096  0.212903  0.225806  0.167741                     1\n",
       "3  0.187096  0.212903  0.225806  0.167741                     1\n",
       "4  0.187096  0.212903  0.225806  0.167741                     1"
      ]
     },
     "execution_count": 28,
     "metadata": {},
     "output_type": "execute_result"
    }
   ],
   "source": [
    "Y_pp.iloc[:,-5:].head()"
   ]
  },
  {
   "cell_type": "code",
   "execution_count": 29,
   "metadata": {},
   "outputs": [
    {
     "ename": "ValueError",
     "evalue": "Classification metrics can't handle a mix of multiclass and continuous-multioutput targets",
     "output_type": "error",
     "traceback": [
      "\u001b[0;31m---------------------------------------------------------------------------\u001b[0m",
      "\u001b[0;31mValueError\u001b[0m                                Traceback (most recent call last)",
      "\u001b[0;32m<ipython-input-29-1284ab4bf67e>\u001b[0m in \u001b[0;36m<module>\u001b[0;34m()\u001b[0m\n\u001b[1;32m      1\u001b[0m \u001b[0;31m#np.array(confusion_matrix(y_test, Y_pp.pred_class_thresh10.values, labels=[1,0]))\u001b[0m\u001b[0;34m\u001b[0m\u001b[0;34m\u001b[0m\u001b[0m\n\u001b[1;32m      2\u001b[0m \u001b[0;34m\u001b[0m\u001b[0m\n\u001b[0;32m----> 3\u001b[0;31m tfid_lr_mod_H_conmat = pd.DataFrame(np.array(confusion_matrix(y_test, Y_pp.iloc[:,-5:].values)), index=['is_one_star', 'is_two_star','is_three_star','is_four_star','is_five_star'],\n\u001b[0m\u001b[1;32m      4\u001b[0m                          columns=['p_one_star', 'p_two_star','p_three_star','p_four_star','p_five_star' ])\n\u001b[1;32m      5\u001b[0m \u001b[0;32mprint\u001b[0m \u001b[0;34m\"Confusion Matrix: \"\u001b[0m\u001b[0;34m\u001b[0m\u001b[0m\n",
      "\u001b[0;32m/Users/jackcunningham/anaconda2/lib/python2.7/site-packages/sklearn/metrics/classification.pyc\u001b[0m in \u001b[0;36mconfusion_matrix\u001b[0;34m(y_true, y_pred, labels, sample_weight)\u001b[0m\n\u001b[1;32m    248\u001b[0m \u001b[0;34m\u001b[0m\u001b[0m\n\u001b[1;32m    249\u001b[0m     \"\"\"\n\u001b[0;32m--> 250\u001b[0;31m     \u001b[0my_type\u001b[0m\u001b[0;34m,\u001b[0m \u001b[0my_true\u001b[0m\u001b[0;34m,\u001b[0m \u001b[0my_pred\u001b[0m \u001b[0;34m=\u001b[0m \u001b[0m_check_targets\u001b[0m\u001b[0;34m(\u001b[0m\u001b[0my_true\u001b[0m\u001b[0;34m,\u001b[0m \u001b[0my_pred\u001b[0m\u001b[0;34m)\u001b[0m\u001b[0;34m\u001b[0m\u001b[0m\n\u001b[0m\u001b[1;32m    251\u001b[0m     \u001b[0;32mif\u001b[0m \u001b[0my_type\u001b[0m \u001b[0;32mnot\u001b[0m \u001b[0;32min\u001b[0m \u001b[0;34m(\u001b[0m\u001b[0;34m\"binary\"\u001b[0m\u001b[0;34m,\u001b[0m \u001b[0;34m\"multiclass\"\u001b[0m\u001b[0;34m)\u001b[0m\u001b[0;34m:\u001b[0m\u001b[0;34m\u001b[0m\u001b[0m\n\u001b[1;32m    252\u001b[0m         \u001b[0;32mraise\u001b[0m \u001b[0mValueError\u001b[0m\u001b[0;34m(\u001b[0m\u001b[0;34m\"%s is not supported\"\u001b[0m \u001b[0;34m%\u001b[0m \u001b[0my_type\u001b[0m\u001b[0;34m)\u001b[0m\u001b[0;34m\u001b[0m\u001b[0m\n",
      "\u001b[0;32m/Users/jackcunningham/anaconda2/lib/python2.7/site-packages/sklearn/metrics/classification.pyc\u001b[0m in \u001b[0;36m_check_targets\u001b[0;34m(y_true, y_pred)\u001b[0m\n\u001b[1;32m     79\u001b[0m     \u001b[0;32mif\u001b[0m \u001b[0mlen\u001b[0m\u001b[0;34m(\u001b[0m\u001b[0my_type\u001b[0m\u001b[0;34m)\u001b[0m \u001b[0;34m>\u001b[0m \u001b[0;36m1\u001b[0m\u001b[0;34m:\u001b[0m\u001b[0;34m\u001b[0m\u001b[0m\n\u001b[1;32m     80\u001b[0m         raise ValueError(\"Classification metrics can't handle a mix of {0} \"\n\u001b[0;32m---> 81\u001b[0;31m                          \"and {1} targets\".format(type_true, type_pred))\n\u001b[0m\u001b[1;32m     82\u001b[0m \u001b[0;34m\u001b[0m\u001b[0m\n\u001b[1;32m     83\u001b[0m     \u001b[0;31m# We can't have more than one value on y_type => The set is no more needed\u001b[0m\u001b[0;34m\u001b[0m\u001b[0;34m\u001b[0m\u001b[0m\n",
      "\u001b[0;31mValueError\u001b[0m: Classification metrics can't handle a mix of multiclass and continuous-multioutput targets"
     ]
    }
   ],
   "source": [
    "#np.array(confusion_matrix(y_test, Y_pp.pred_class_thresh10.values, labels=[1,0]))\n",
    "\n",
    "tfid_lr_mod_H_conmat = pd.DataFrame(np.array(confusion_matrix(y_test, Y_pp.iloc[:,-5:].values)), index=['is_one_star', 'is_two_star','is_three_star','is_four_star','is_five_star'],\n",
    "                         columns=['p_one_star', 'p_two_star','p_three_star','p_four_star','p_five_star' ])\n",
    "print \"Confusion Matrix: \"\n",
    "display(tfid_lr_mod_H_conmat)"
   ]
  },
  {
   "cell_type": "code",
   "execution_count": 381,
   "metadata": {
    "scrolled": true
   },
   "outputs": [
    {
     "data": {
      "text/html": [
       "<div>\n",
       "<style>\n",
       "    .dataframe thead tr:only-child th {\n",
       "        text-align: right;\n",
       "    }\n",
       "\n",
       "    .dataframe thead th {\n",
       "        text-align: left;\n",
       "    }\n",
       "\n",
       "    .dataframe tbody tr th {\n",
       "        vertical-align: top;\n",
       "    }\n",
       "</style>\n",
       "<table border=\"1\" class=\"dataframe\">\n",
       "  <thead>\n",
       "    <tr style=\"text-align: right;\">\n",
       "      <th></th>\n",
       "      <th>1_Star</th>\n",
       "      <th>2_Star</th>\n",
       "      <th>3_Star</th>\n",
       "      <th>4_Star</th>\n",
       "      <th>5_Star</th>\n",
       "      <th>pred_1_Star_thresh10</th>\n",
       "    </tr>\n",
       "  </thead>\n",
       "  <tbody>\n",
       "    <tr>\n",
       "      <th>0</th>\n",
       "      <td>0.000136</td>\n",
       "      <td>0.006127</td>\n",
       "      <td>0.015226</td>\n",
       "      <td>0.118644</td>\n",
       "      <td>0.859868</td>\n",
       "      <td>0</td>\n",
       "    </tr>\n",
       "    <tr>\n",
       "      <th>1</th>\n",
       "      <td>0.002247</td>\n",
       "      <td>0.012080</td>\n",
       "      <td>0.035316</td>\n",
       "      <td>0.410565</td>\n",
       "      <td>0.539792</td>\n",
       "      <td>0</td>\n",
       "    </tr>\n",
       "    <tr>\n",
       "      <th>2</th>\n",
       "      <td>0.003169</td>\n",
       "      <td>0.024092</td>\n",
       "      <td>0.175818</td>\n",
       "      <td>0.562296</td>\n",
       "      <td>0.234625</td>\n",
       "      <td>0</td>\n",
       "    </tr>\n",
       "    <tr>\n",
       "      <th>3</th>\n",
       "      <td>0.003421</td>\n",
       "      <td>0.032783</td>\n",
       "      <td>0.167451</td>\n",
       "      <td>0.524416</td>\n",
       "      <td>0.271930</td>\n",
       "      <td>0</td>\n",
       "    </tr>\n",
       "    <tr>\n",
       "      <th>4</th>\n",
       "      <td>0.000238</td>\n",
       "      <td>0.002269</td>\n",
       "      <td>0.016130</td>\n",
       "      <td>0.315624</td>\n",
       "      <td>0.665739</td>\n",
       "      <td>0</td>\n",
       "    </tr>\n",
       "    <tr>\n",
       "      <th>5</th>\n",
       "      <td>0.748432</td>\n",
       "      <td>0.090746</td>\n",
       "      <td>0.143455</td>\n",
       "      <td>0.016164</td>\n",
       "      <td>0.001203</td>\n",
       "      <td>1</td>\n",
       "    </tr>\n",
       "    <tr>\n",
       "      <th>6</th>\n",
       "      <td>0.062178</td>\n",
       "      <td>0.414473</td>\n",
       "      <td>0.373340</td>\n",
       "      <td>0.096880</td>\n",
       "      <td>0.053129</td>\n",
       "      <td>0</td>\n",
       "    </tr>\n",
       "    <tr>\n",
       "      <th>7</th>\n",
       "      <td>0.052735</td>\n",
       "      <td>0.388660</td>\n",
       "      <td>0.327842</td>\n",
       "      <td>0.223287</td>\n",
       "      <td>0.007476</td>\n",
       "      <td>0</td>\n",
       "    </tr>\n",
       "    <tr>\n",
       "      <th>8</th>\n",
       "      <td>0.000869</td>\n",
       "      <td>0.009043</td>\n",
       "      <td>0.138702</td>\n",
       "      <td>0.539447</td>\n",
       "      <td>0.311938</td>\n",
       "      <td>0</td>\n",
       "    </tr>\n",
       "    <tr>\n",
       "      <th>9</th>\n",
       "      <td>0.048460</td>\n",
       "      <td>0.042703</td>\n",
       "      <td>0.028057</td>\n",
       "      <td>0.222765</td>\n",
       "      <td>0.658016</td>\n",
       "      <td>0</td>\n",
       "    </tr>\n",
       "    <tr>\n",
       "      <th>10</th>\n",
       "      <td>0.000068</td>\n",
       "      <td>0.001544</td>\n",
       "      <td>0.019265</td>\n",
       "      <td>0.249670</td>\n",
       "      <td>0.729453</td>\n",
       "      <td>0</td>\n",
       "    </tr>\n",
       "    <tr>\n",
       "      <th>11</th>\n",
       "      <td>0.000563</td>\n",
       "      <td>0.001862</td>\n",
       "      <td>0.013090</td>\n",
       "      <td>0.193196</td>\n",
       "      <td>0.791289</td>\n",
       "      <td>0</td>\n",
       "    </tr>\n",
       "    <tr>\n",
       "      <th>12</th>\n",
       "      <td>0.077802</td>\n",
       "      <td>0.467542</td>\n",
       "      <td>0.289028</td>\n",
       "      <td>0.103617</td>\n",
       "      <td>0.062011</td>\n",
       "      <td>0</td>\n",
       "    </tr>\n",
       "    <tr>\n",
       "      <th>13</th>\n",
       "      <td>0.042766</td>\n",
       "      <td>0.395888</td>\n",
       "      <td>0.536651</td>\n",
       "      <td>0.024288</td>\n",
       "      <td>0.000407</td>\n",
       "      <td>0</td>\n",
       "    </tr>\n",
       "    <tr>\n",
       "      <th>14</th>\n",
       "      <td>0.130951</td>\n",
       "      <td>0.098544</td>\n",
       "      <td>0.260215</td>\n",
       "      <td>0.460239</td>\n",
       "      <td>0.050052</td>\n",
       "      <td>1</td>\n",
       "    </tr>\n",
       "    <tr>\n",
       "      <th>15</th>\n",
       "      <td>0.000588</td>\n",
       "      <td>0.025768</td>\n",
       "      <td>0.083631</td>\n",
       "      <td>0.567882</td>\n",
       "      <td>0.322132</td>\n",
       "      <td>0</td>\n",
       "    </tr>\n",
       "    <tr>\n",
       "      <th>16</th>\n",
       "      <td>0.804570</td>\n",
       "      <td>0.146901</td>\n",
       "      <td>0.031671</td>\n",
       "      <td>0.010362</td>\n",
       "      <td>0.006497</td>\n",
       "      <td>1</td>\n",
       "    </tr>\n",
       "    <tr>\n",
       "      <th>17</th>\n",
       "      <td>0.000187</td>\n",
       "      <td>0.029726</td>\n",
       "      <td>0.396871</td>\n",
       "      <td>0.420908</td>\n",
       "      <td>0.152308</td>\n",
       "      <td>0</td>\n",
       "    </tr>\n",
       "    <tr>\n",
       "      <th>18</th>\n",
       "      <td>0.005010</td>\n",
       "      <td>0.196629</td>\n",
       "      <td>0.383684</td>\n",
       "      <td>0.375389</td>\n",
       "      <td>0.039289</td>\n",
       "      <td>0</td>\n",
       "    </tr>\n",
       "    <tr>\n",
       "      <th>19</th>\n",
       "      <td>0.011582</td>\n",
       "      <td>0.075623</td>\n",
       "      <td>0.179654</td>\n",
       "      <td>0.393759</td>\n",
       "      <td>0.339382</td>\n",
       "      <td>0</td>\n",
       "    </tr>\n",
       "    <tr>\n",
       "      <th>20</th>\n",
       "      <td>0.000164</td>\n",
       "      <td>0.018424</td>\n",
       "      <td>0.495100</td>\n",
       "      <td>0.484688</td>\n",
       "      <td>0.001624</td>\n",
       "      <td>0</td>\n",
       "    </tr>\n",
       "    <tr>\n",
       "      <th>21</th>\n",
       "      <td>0.001613</td>\n",
       "      <td>0.008966</td>\n",
       "      <td>0.041005</td>\n",
       "      <td>0.384667</td>\n",
       "      <td>0.563749</td>\n",
       "      <td>0</td>\n",
       "    </tr>\n",
       "    <tr>\n",
       "      <th>22</th>\n",
       "      <td>0.000888</td>\n",
       "      <td>0.013121</td>\n",
       "      <td>0.040533</td>\n",
       "      <td>0.630153</td>\n",
       "      <td>0.315305</td>\n",
       "      <td>0</td>\n",
       "    </tr>\n",
       "    <tr>\n",
       "      <th>23</th>\n",
       "      <td>0.000073</td>\n",
       "      <td>0.007444</td>\n",
       "      <td>0.121196</td>\n",
       "      <td>0.527081</td>\n",
       "      <td>0.344205</td>\n",
       "      <td>0</td>\n",
       "    </tr>\n",
       "    <tr>\n",
       "      <th>24</th>\n",
       "      <td>0.495038</td>\n",
       "      <td>0.445150</td>\n",
       "      <td>0.037365</td>\n",
       "      <td>0.011250</td>\n",
       "      <td>0.011198</td>\n",
       "      <td>1</td>\n",
       "    </tr>\n",
       "    <tr>\n",
       "      <th>25</th>\n",
       "      <td>0.000517</td>\n",
       "      <td>0.006892</td>\n",
       "      <td>0.020266</td>\n",
       "      <td>0.331281</td>\n",
       "      <td>0.641044</td>\n",
       "      <td>0</td>\n",
       "    </tr>\n",
       "    <tr>\n",
       "      <th>26</th>\n",
       "      <td>0.134042</td>\n",
       "      <td>0.303265</td>\n",
       "      <td>0.323050</td>\n",
       "      <td>0.210140</td>\n",
       "      <td>0.029504</td>\n",
       "      <td>1</td>\n",
       "    </tr>\n",
       "    <tr>\n",
       "      <th>27</th>\n",
       "      <td>0.000377</td>\n",
       "      <td>0.081053</td>\n",
       "      <td>0.461507</td>\n",
       "      <td>0.448060</td>\n",
       "      <td>0.009003</td>\n",
       "      <td>0</td>\n",
       "    </tr>\n",
       "    <tr>\n",
       "      <th>28</th>\n",
       "      <td>0.008773</td>\n",
       "      <td>0.091201</td>\n",
       "      <td>0.389681</td>\n",
       "      <td>0.428393</td>\n",
       "      <td>0.081953</td>\n",
       "      <td>0</td>\n",
       "    </tr>\n",
       "    <tr>\n",
       "      <th>29</th>\n",
       "      <td>0.678309</td>\n",
       "      <td>0.136502</td>\n",
       "      <td>0.079991</td>\n",
       "      <td>0.058313</td>\n",
       "      <td>0.046886</td>\n",
       "      <td>1</td>\n",
       "    </tr>\n",
       "    <tr>\n",
       "      <th>...</th>\n",
       "      <td>...</td>\n",
       "      <td>...</td>\n",
       "      <td>...</td>\n",
       "      <td>...</td>\n",
       "      <td>...</td>\n",
       "      <td>...</td>\n",
       "    </tr>\n",
       "    <tr>\n",
       "      <th>721700</th>\n",
       "      <td>0.000256</td>\n",
       "      <td>0.005149</td>\n",
       "      <td>0.041295</td>\n",
       "      <td>0.423928</td>\n",
       "      <td>0.529372</td>\n",
       "      <td>0</td>\n",
       "    </tr>\n",
       "    <tr>\n",
       "      <th>721701</th>\n",
       "      <td>0.036221</td>\n",
       "      <td>0.137174</td>\n",
       "      <td>0.256953</td>\n",
       "      <td>0.449349</td>\n",
       "      <td>0.120303</td>\n",
       "      <td>0</td>\n",
       "    </tr>\n",
       "    <tr>\n",
       "      <th>721702</th>\n",
       "      <td>0.056384</td>\n",
       "      <td>0.076120</td>\n",
       "      <td>0.214322</td>\n",
       "      <td>0.493596</td>\n",
       "      <td>0.159578</td>\n",
       "      <td>0</td>\n",
       "    </tr>\n",
       "    <tr>\n",
       "      <th>721703</th>\n",
       "      <td>0.002661</td>\n",
       "      <td>0.282316</td>\n",
       "      <td>0.680193</td>\n",
       "      <td>0.029258</td>\n",
       "      <td>0.005572</td>\n",
       "      <td>0</td>\n",
       "    </tr>\n",
       "    <tr>\n",
       "      <th>721704</th>\n",
       "      <td>0.096921</td>\n",
       "      <td>0.222879</td>\n",
       "      <td>0.117900</td>\n",
       "      <td>0.239240</td>\n",
       "      <td>0.323060</td>\n",
       "      <td>0</td>\n",
       "    </tr>\n",
       "    <tr>\n",
       "      <th>721705</th>\n",
       "      <td>0.002745</td>\n",
       "      <td>0.050041</td>\n",
       "      <td>0.384231</td>\n",
       "      <td>0.511836</td>\n",
       "      <td>0.051147</td>\n",
       "      <td>0</td>\n",
       "    </tr>\n",
       "    <tr>\n",
       "      <th>721706</th>\n",
       "      <td>0.001420</td>\n",
       "      <td>0.060287</td>\n",
       "      <td>0.147808</td>\n",
       "      <td>0.371511</td>\n",
       "      <td>0.418974</td>\n",
       "      <td>0</td>\n",
       "    </tr>\n",
       "    <tr>\n",
       "      <th>721707</th>\n",
       "      <td>0.000604</td>\n",
       "      <td>0.020199</td>\n",
       "      <td>0.150998</td>\n",
       "      <td>0.536847</td>\n",
       "      <td>0.291352</td>\n",
       "      <td>0</td>\n",
       "    </tr>\n",
       "    <tr>\n",
       "      <th>721708</th>\n",
       "      <td>0.376366</td>\n",
       "      <td>0.354063</td>\n",
       "      <td>0.133521</td>\n",
       "      <td>0.112071</td>\n",
       "      <td>0.023979</td>\n",
       "      <td>1</td>\n",
       "    </tr>\n",
       "    <tr>\n",
       "      <th>721709</th>\n",
       "      <td>0.004166</td>\n",
       "      <td>0.073688</td>\n",
       "      <td>0.344871</td>\n",
       "      <td>0.483947</td>\n",
       "      <td>0.093328</td>\n",
       "      <td>0</td>\n",
       "    </tr>\n",
       "    <tr>\n",
       "      <th>721710</th>\n",
       "      <td>0.040295</td>\n",
       "      <td>0.303459</td>\n",
       "      <td>0.345069</td>\n",
       "      <td>0.250069</td>\n",
       "      <td>0.061107</td>\n",
       "      <td>0</td>\n",
       "    </tr>\n",
       "    <tr>\n",
       "      <th>721711</th>\n",
       "      <td>0.000832</td>\n",
       "      <td>0.011665</td>\n",
       "      <td>0.032420</td>\n",
       "      <td>0.287680</td>\n",
       "      <td>0.667402</td>\n",
       "      <td>0</td>\n",
       "    </tr>\n",
       "    <tr>\n",
       "      <th>721712</th>\n",
       "      <td>0.809983</td>\n",
       "      <td>0.175998</td>\n",
       "      <td>0.012044</td>\n",
       "      <td>0.001236</td>\n",
       "      <td>0.000738</td>\n",
       "      <td>1</td>\n",
       "    </tr>\n",
       "    <tr>\n",
       "      <th>721713</th>\n",
       "      <td>0.031201</td>\n",
       "      <td>0.550345</td>\n",
       "      <td>0.405720</td>\n",
       "      <td>0.012705</td>\n",
       "      <td>0.000029</td>\n",
       "      <td>0</td>\n",
       "    </tr>\n",
       "    <tr>\n",
       "      <th>721714</th>\n",
       "      <td>0.006856</td>\n",
       "      <td>0.087849</td>\n",
       "      <td>0.652258</td>\n",
       "      <td>0.245057</td>\n",
       "      <td>0.007980</td>\n",
       "      <td>0</td>\n",
       "    </tr>\n",
       "    <tr>\n",
       "      <th>721715</th>\n",
       "      <td>0.000598</td>\n",
       "      <td>0.001506</td>\n",
       "      <td>0.015437</td>\n",
       "      <td>0.148365</td>\n",
       "      <td>0.834094</td>\n",
       "      <td>0</td>\n",
       "    </tr>\n",
       "    <tr>\n",
       "      <th>721716</th>\n",
       "      <td>0.022990</td>\n",
       "      <td>0.057876</td>\n",
       "      <td>0.077698</td>\n",
       "      <td>0.300716</td>\n",
       "      <td>0.540720</td>\n",
       "      <td>0</td>\n",
       "    </tr>\n",
       "    <tr>\n",
       "      <th>721717</th>\n",
       "      <td>0.000528</td>\n",
       "      <td>0.001822</td>\n",
       "      <td>0.003906</td>\n",
       "      <td>0.081824</td>\n",
       "      <td>0.911920</td>\n",
       "      <td>0</td>\n",
       "    </tr>\n",
       "    <tr>\n",
       "      <th>721718</th>\n",
       "      <td>0.000701</td>\n",
       "      <td>0.009462</td>\n",
       "      <td>0.031192</td>\n",
       "      <td>0.135428</td>\n",
       "      <td>0.823217</td>\n",
       "      <td>0</td>\n",
       "    </tr>\n",
       "    <tr>\n",
       "      <th>721719</th>\n",
       "      <td>0.795880</td>\n",
       "      <td>0.175797</td>\n",
       "      <td>0.021560</td>\n",
       "      <td>0.004991</td>\n",
       "      <td>0.001772</td>\n",
       "      <td>1</td>\n",
       "    </tr>\n",
       "    <tr>\n",
       "      <th>721720</th>\n",
       "      <td>0.007004</td>\n",
       "      <td>0.020023</td>\n",
       "      <td>0.110403</td>\n",
       "      <td>0.467694</td>\n",
       "      <td>0.394875</td>\n",
       "      <td>0</td>\n",
       "    </tr>\n",
       "    <tr>\n",
       "      <th>721721</th>\n",
       "      <td>0.000785</td>\n",
       "      <td>0.005134</td>\n",
       "      <td>0.063130</td>\n",
       "      <td>0.593709</td>\n",
       "      <td>0.337243</td>\n",
       "      <td>0</td>\n",
       "    </tr>\n",
       "    <tr>\n",
       "      <th>721722</th>\n",
       "      <td>0.003511</td>\n",
       "      <td>0.014124</td>\n",
       "      <td>0.054094</td>\n",
       "      <td>0.523225</td>\n",
       "      <td>0.405045</td>\n",
       "      <td>0</td>\n",
       "    </tr>\n",
       "    <tr>\n",
       "      <th>721723</th>\n",
       "      <td>0.006716</td>\n",
       "      <td>0.034945</td>\n",
       "      <td>0.361440</td>\n",
       "      <td>0.504974</td>\n",
       "      <td>0.091925</td>\n",
       "      <td>0</td>\n",
       "    </tr>\n",
       "    <tr>\n",
       "      <th>721724</th>\n",
       "      <td>0.000037</td>\n",
       "      <td>0.000403</td>\n",
       "      <td>0.008071</td>\n",
       "      <td>0.531983</td>\n",
       "      <td>0.459506</td>\n",
       "      <td>0</td>\n",
       "    </tr>\n",
       "    <tr>\n",
       "      <th>721725</th>\n",
       "      <td>0.000495</td>\n",
       "      <td>0.000783</td>\n",
       "      <td>0.016654</td>\n",
       "      <td>0.104018</td>\n",
       "      <td>0.878050</td>\n",
       "      <td>0</td>\n",
       "    </tr>\n",
       "    <tr>\n",
       "      <th>721726</th>\n",
       "      <td>0.007671</td>\n",
       "      <td>0.020509</td>\n",
       "      <td>0.016528</td>\n",
       "      <td>0.205725</td>\n",
       "      <td>0.749567</td>\n",
       "      <td>0</td>\n",
       "    </tr>\n",
       "    <tr>\n",
       "      <th>721727</th>\n",
       "      <td>0.150444</td>\n",
       "      <td>0.057618</td>\n",
       "      <td>0.096456</td>\n",
       "      <td>0.312938</td>\n",
       "      <td>0.382544</td>\n",
       "      <td>1</td>\n",
       "    </tr>\n",
       "    <tr>\n",
       "      <th>721728</th>\n",
       "      <td>0.035132</td>\n",
       "      <td>0.086947</td>\n",
       "      <td>0.410536</td>\n",
       "      <td>0.369717</td>\n",
       "      <td>0.097667</td>\n",
       "      <td>0</td>\n",
       "    </tr>\n",
       "    <tr>\n",
       "      <th>721729</th>\n",
       "      <td>0.018165</td>\n",
       "      <td>0.014673</td>\n",
       "      <td>0.015014</td>\n",
       "      <td>0.272056</td>\n",
       "      <td>0.680092</td>\n",
       "      <td>0</td>\n",
       "    </tr>\n",
       "  </tbody>\n",
       "</table>\n",
       "<p>721730 rows × 6 columns</p>\n",
       "</div>"
      ],
      "text/plain": [
       "          1_Star    2_Star    3_Star    4_Star    5_Star  pred_1_Star_thresh10\n",
       "0       0.000136  0.006127  0.015226  0.118644  0.859868                     0\n",
       "1       0.002247  0.012080  0.035316  0.410565  0.539792                     0\n",
       "2       0.003169  0.024092  0.175818  0.562296  0.234625                     0\n",
       "3       0.003421  0.032783  0.167451  0.524416  0.271930                     0\n",
       "4       0.000238  0.002269  0.016130  0.315624  0.665739                     0\n",
       "5       0.748432  0.090746  0.143455  0.016164  0.001203                     1\n",
       "6       0.062178  0.414473  0.373340  0.096880  0.053129                     0\n",
       "7       0.052735  0.388660  0.327842  0.223287  0.007476                     0\n",
       "8       0.000869  0.009043  0.138702  0.539447  0.311938                     0\n",
       "9       0.048460  0.042703  0.028057  0.222765  0.658016                     0\n",
       "10      0.000068  0.001544  0.019265  0.249670  0.729453                     0\n",
       "11      0.000563  0.001862  0.013090  0.193196  0.791289                     0\n",
       "12      0.077802  0.467542  0.289028  0.103617  0.062011                     0\n",
       "13      0.042766  0.395888  0.536651  0.024288  0.000407                     0\n",
       "14      0.130951  0.098544  0.260215  0.460239  0.050052                     1\n",
       "15      0.000588  0.025768  0.083631  0.567882  0.322132                     0\n",
       "16      0.804570  0.146901  0.031671  0.010362  0.006497                     1\n",
       "17      0.000187  0.029726  0.396871  0.420908  0.152308                     0\n",
       "18      0.005010  0.196629  0.383684  0.375389  0.039289                     0\n",
       "19      0.011582  0.075623  0.179654  0.393759  0.339382                     0\n",
       "20      0.000164  0.018424  0.495100  0.484688  0.001624                     0\n",
       "21      0.001613  0.008966  0.041005  0.384667  0.563749                     0\n",
       "22      0.000888  0.013121  0.040533  0.630153  0.315305                     0\n",
       "23      0.000073  0.007444  0.121196  0.527081  0.344205                     0\n",
       "24      0.495038  0.445150  0.037365  0.011250  0.011198                     1\n",
       "25      0.000517  0.006892  0.020266  0.331281  0.641044                     0\n",
       "26      0.134042  0.303265  0.323050  0.210140  0.029504                     1\n",
       "27      0.000377  0.081053  0.461507  0.448060  0.009003                     0\n",
       "28      0.008773  0.091201  0.389681  0.428393  0.081953                     0\n",
       "29      0.678309  0.136502  0.079991  0.058313  0.046886                     1\n",
       "...          ...       ...       ...       ...       ...                   ...\n",
       "721700  0.000256  0.005149  0.041295  0.423928  0.529372                     0\n",
       "721701  0.036221  0.137174  0.256953  0.449349  0.120303                     0\n",
       "721702  0.056384  0.076120  0.214322  0.493596  0.159578                     0\n",
       "721703  0.002661  0.282316  0.680193  0.029258  0.005572                     0\n",
       "721704  0.096921  0.222879  0.117900  0.239240  0.323060                     0\n",
       "721705  0.002745  0.050041  0.384231  0.511836  0.051147                     0\n",
       "721706  0.001420  0.060287  0.147808  0.371511  0.418974                     0\n",
       "721707  0.000604  0.020199  0.150998  0.536847  0.291352                     0\n",
       "721708  0.376366  0.354063  0.133521  0.112071  0.023979                     1\n",
       "721709  0.004166  0.073688  0.344871  0.483947  0.093328                     0\n",
       "721710  0.040295  0.303459  0.345069  0.250069  0.061107                     0\n",
       "721711  0.000832  0.011665  0.032420  0.287680  0.667402                     0\n",
       "721712  0.809983  0.175998  0.012044  0.001236  0.000738                     1\n",
       "721713  0.031201  0.550345  0.405720  0.012705  0.000029                     0\n",
       "721714  0.006856  0.087849  0.652258  0.245057  0.007980                     0\n",
       "721715  0.000598  0.001506  0.015437  0.148365  0.834094                     0\n",
       "721716  0.022990  0.057876  0.077698  0.300716  0.540720                     0\n",
       "721717  0.000528  0.001822  0.003906  0.081824  0.911920                     0\n",
       "721718  0.000701  0.009462  0.031192  0.135428  0.823217                     0\n",
       "721719  0.795880  0.175797  0.021560  0.004991  0.001772                     1\n",
       "721720  0.007004  0.020023  0.110403  0.467694  0.394875                     0\n",
       "721721  0.000785  0.005134  0.063130  0.593709  0.337243                     0\n",
       "721722  0.003511  0.014124  0.054094  0.523225  0.405045                     0\n",
       "721723  0.006716  0.034945  0.361440  0.504974  0.091925                     0\n",
       "721724  0.000037  0.000403  0.008071  0.531983  0.459506                     0\n",
       "721725  0.000495  0.000783  0.016654  0.104018  0.878050                     0\n",
       "721726  0.007671  0.020509  0.016528  0.205725  0.749567                     0\n",
       "721727  0.150444  0.057618  0.096456  0.312938  0.382544                     1\n",
       "721728  0.035132  0.086947  0.410536  0.369717  0.097667                     0\n",
       "721729  0.018165  0.014673  0.015014  0.272056  0.680092                     0\n",
       "\n",
       "[721730 rows x 6 columns]"
      ]
     },
     "execution_count": 381,
     "metadata": {},
     "output_type": "execute_result"
    }
   ],
   "source": [
    "Y_pp"
   ]
  },
  {
   "cell_type": "markdown",
   "metadata": {},
   "source": [
    "\n",
    "##### Applying the models; "
   ]
  },
  {
   "cell_type": "code",
   "execution_count": 302,
   "metadata": {
    "collapsed": true
   },
   "outputs": [],
   "source": [
    "text = [\"I loved how terrible the service was, it was incredibly funny. We has a really good time in the end though and the food was great. I would recommend going, but its not worth 5/5\"]\n"
   ]
  },
  {
   "cell_type": "code",
   "execution_count": 277,
   "metadata": {
    "collapsed": true
   },
   "outputs": [],
   "source": [
    "def star_predictor_checker(text, model):\n",
    "    my_pred = model.predict(text)[0]\n",
    "    try:\n",
    "        actual = rest_revs_cln[rest_revs_cln.text == text[0]].stars[0]\n",
    "    except:\n",
    "        actual = \"N/A\"\n",
    "    print \"Review: \", text\n",
    "    print\n",
    "    print \"Model Prediction (Star rating): \", my_pred ,\n",
    "    print \n",
    "    print \"Actual Observation (Star rating): \", actual"
   ]
  },
  {
   "cell_type": "code",
   "execution_count": 303,
   "metadata": {},
   "outputs": [
    {
     "name": "stdout",
     "output_type": "stream",
     "text": [
      "Review:  ['I loved how terrible the service was, it was incredibly funny. We has a really good time in the end though and the food was great. I would recommend going, but its not worth 5/5']\n",
      "\n",
      "Model Prediction (Star rating):  5\n",
      "Actual Observation (Star rating):  N/A\n",
      "None\n",
      "Review:  ['I loved how terrible the service was, it was incredibly funny. We has a really good time in the end though and the food was great. I would recommend going, but its not worth 5/5']\n",
      "\n",
      "Model Prediction (Star rating):  5\n",
      "Actual Observation (Star rating):  N/A\n",
      "None\n"
     ]
    }
   ],
   "source": [
    "print star_predictor_checker(text, tfid_lr_mod_H)\n",
    "\n",
    "print star_predictor_checker(text, tfid_MNB_mod_H)\n"
   ]
  },
  {
   "cell_type": "code",
   "execution_count": null,
   "metadata": {
    "collapsed": true
   },
   "outputs": [],
   "source": []
  },
  {
   "cell_type": "code",
   "execution_count": null,
   "metadata": {
    "collapsed": true
   },
   "outputs": [],
   "source": []
  },
  {
   "cell_type": "code",
   "execution_count": null,
   "metadata": {
    "collapsed": true
   },
   "outputs": [],
   "source": [
    "#####################################################################"
   ]
  },
  {
   "cell_type": "code",
   "execution_count": 42,
   "metadata": {},
   "outputs": [
    {
     "ename": "KeyboardInterrupt",
     "evalue": "",
     "output_type": "error",
     "traceback": [
      "\u001b[0;31m---------------------------------------------------------------------------\u001b[0m",
      "\u001b[0;31mKeyboardInterrupt\u001b[0m                         Traceback (most recent call last)",
      "\u001b[0;32m<ipython-input-42-8daf3d251649>\u001b[0m in \u001b[0;36m<module>\u001b[0;34m()\u001b[0m\n\u001b[1;32m      7\u001b[0m                              )\n\u001b[1;32m      8\u001b[0m \u001b[0;34m\u001b[0m\u001b[0m\n\u001b[0;32m----> 9\u001b[0;31m \u001b[0mtfid_lr_mod_H\u001b[0m \u001b[0;34m=\u001b[0m \u001b[0mtfid_lr_mod_H\u001b[0m\u001b[0;34m.\u001b[0m\u001b[0mfit\u001b[0m\u001b[0;34m(\u001b[0m\u001b[0mX_train\u001b[0m\u001b[0;34m,\u001b[0m \u001b[0my_train\u001b[0m\u001b[0;34m)\u001b[0m\u001b[0;34m\u001b[0m\u001b[0m\n\u001b[0m",
      "\u001b[0;32m/Users/jackcunningham/anaconda2/lib/python2.7/site-packages/sklearn/pipeline.pyc\u001b[0m in \u001b[0;36mfit\u001b[0;34m(self, X, y, **fit_params)\u001b[0m\n\u001b[1;32m    255\u001b[0m             \u001b[0mThis\u001b[0m \u001b[0mestimator\u001b[0m\u001b[0;34m\u001b[0m\u001b[0m\n\u001b[1;32m    256\u001b[0m         \"\"\"\n\u001b[0;32m--> 257\u001b[0;31m         \u001b[0mXt\u001b[0m\u001b[0;34m,\u001b[0m \u001b[0mfit_params\u001b[0m \u001b[0;34m=\u001b[0m \u001b[0mself\u001b[0m\u001b[0;34m.\u001b[0m\u001b[0m_fit\u001b[0m\u001b[0;34m(\u001b[0m\u001b[0mX\u001b[0m\u001b[0;34m,\u001b[0m \u001b[0my\u001b[0m\u001b[0;34m,\u001b[0m \u001b[0;34m**\u001b[0m\u001b[0mfit_params\u001b[0m\u001b[0;34m)\u001b[0m\u001b[0;34m\u001b[0m\u001b[0m\n\u001b[0m\u001b[1;32m    258\u001b[0m         \u001b[0;32mif\u001b[0m \u001b[0mself\u001b[0m\u001b[0;34m.\u001b[0m\u001b[0m_final_estimator\u001b[0m \u001b[0;32mis\u001b[0m \u001b[0;32mnot\u001b[0m \u001b[0mNone\u001b[0m\u001b[0;34m:\u001b[0m\u001b[0;34m\u001b[0m\u001b[0m\n\u001b[1;32m    259\u001b[0m             \u001b[0mself\u001b[0m\u001b[0;34m.\u001b[0m\u001b[0m_final_estimator\u001b[0m\u001b[0;34m.\u001b[0m\u001b[0mfit\u001b[0m\u001b[0;34m(\u001b[0m\u001b[0mXt\u001b[0m\u001b[0;34m,\u001b[0m \u001b[0my\u001b[0m\u001b[0;34m,\u001b[0m \u001b[0;34m**\u001b[0m\u001b[0mfit_params\u001b[0m\u001b[0;34m)\u001b[0m\u001b[0;34m\u001b[0m\u001b[0m\n",
      "\u001b[0;32m/Users/jackcunningham/anaconda2/lib/python2.7/site-packages/sklearn/pipeline.pyc\u001b[0m in \u001b[0;36m_fit\u001b[0;34m(self, X, y, **fit_params)\u001b[0m\n\u001b[1;32m    220\u001b[0m                 Xt, fitted_transformer = fit_transform_one_cached(\n\u001b[1;32m    221\u001b[0m                     \u001b[0mcloned_transformer\u001b[0m\u001b[0;34m,\u001b[0m \u001b[0mNone\u001b[0m\u001b[0;34m,\u001b[0m \u001b[0mXt\u001b[0m\u001b[0;34m,\u001b[0m \u001b[0my\u001b[0m\u001b[0;34m,\u001b[0m\u001b[0;34m\u001b[0m\u001b[0m\n\u001b[0;32m--> 222\u001b[0;31m                     **fit_params_steps[name])\n\u001b[0m\u001b[1;32m    223\u001b[0m                 \u001b[0;31m# Replace the transformer of the step with the fitted\u001b[0m\u001b[0;34m\u001b[0m\u001b[0;34m\u001b[0m\u001b[0m\n\u001b[1;32m    224\u001b[0m                 \u001b[0;31m# transformer. This is necessary when loading the transformer\u001b[0m\u001b[0;34m\u001b[0m\u001b[0;34m\u001b[0m\u001b[0m\n",
      "\u001b[0;32m/Users/jackcunningham/anaconda2/lib/python2.7/site-packages/sklearn/externals/joblib/memory.pyc\u001b[0m in \u001b[0;36m__call__\u001b[0;34m(self, *args, **kwargs)\u001b[0m\n\u001b[1;32m    360\u001b[0m \u001b[0;34m\u001b[0m\u001b[0m\n\u001b[1;32m    361\u001b[0m     \u001b[0;32mdef\u001b[0m \u001b[0m__call__\u001b[0m\u001b[0;34m(\u001b[0m\u001b[0mself\u001b[0m\u001b[0;34m,\u001b[0m \u001b[0;34m*\u001b[0m\u001b[0margs\u001b[0m\u001b[0;34m,\u001b[0m \u001b[0;34m**\u001b[0m\u001b[0mkwargs\u001b[0m\u001b[0;34m)\u001b[0m\u001b[0;34m:\u001b[0m\u001b[0;34m\u001b[0m\u001b[0m\n\u001b[0;32m--> 362\u001b[0;31m         \u001b[0;32mreturn\u001b[0m \u001b[0mself\u001b[0m\u001b[0;34m.\u001b[0m\u001b[0mfunc\u001b[0m\u001b[0;34m(\u001b[0m\u001b[0;34m*\u001b[0m\u001b[0margs\u001b[0m\u001b[0;34m,\u001b[0m \u001b[0;34m**\u001b[0m\u001b[0mkwargs\u001b[0m\u001b[0;34m)\u001b[0m\u001b[0;34m\u001b[0m\u001b[0m\n\u001b[0m\u001b[1;32m    363\u001b[0m \u001b[0;34m\u001b[0m\u001b[0m\n\u001b[1;32m    364\u001b[0m     \u001b[0;32mdef\u001b[0m \u001b[0mcall_and_shelve\u001b[0m\u001b[0;34m(\u001b[0m\u001b[0mself\u001b[0m\u001b[0;34m,\u001b[0m \u001b[0;34m*\u001b[0m\u001b[0margs\u001b[0m\u001b[0;34m,\u001b[0m \u001b[0;34m**\u001b[0m\u001b[0mkwargs\u001b[0m\u001b[0;34m)\u001b[0m\u001b[0;34m:\u001b[0m\u001b[0;34m\u001b[0m\u001b[0m\n",
      "\u001b[0;32m/Users/jackcunningham/anaconda2/lib/python2.7/site-packages/sklearn/pipeline.pyc\u001b[0m in \u001b[0;36m_fit_transform_one\u001b[0;34m(transformer, weight, X, y, **fit_params)\u001b[0m\n\u001b[1;32m    587\u001b[0m                        **fit_params):\n\u001b[1;32m    588\u001b[0m     \u001b[0;32mif\u001b[0m \u001b[0mhasattr\u001b[0m\u001b[0;34m(\u001b[0m\u001b[0mtransformer\u001b[0m\u001b[0;34m,\u001b[0m \u001b[0;34m'fit_transform'\u001b[0m\u001b[0;34m)\u001b[0m\u001b[0;34m:\u001b[0m\u001b[0;34m\u001b[0m\u001b[0m\n\u001b[0;32m--> 589\u001b[0;31m         \u001b[0mres\u001b[0m \u001b[0;34m=\u001b[0m \u001b[0mtransformer\u001b[0m\u001b[0;34m.\u001b[0m\u001b[0mfit_transform\u001b[0m\u001b[0;34m(\u001b[0m\u001b[0mX\u001b[0m\u001b[0;34m,\u001b[0m \u001b[0my\u001b[0m\u001b[0;34m,\u001b[0m \u001b[0;34m**\u001b[0m\u001b[0mfit_params\u001b[0m\u001b[0;34m)\u001b[0m\u001b[0;34m\u001b[0m\u001b[0m\n\u001b[0m\u001b[1;32m    590\u001b[0m     \u001b[0;32melse\u001b[0m\u001b[0;34m:\u001b[0m\u001b[0;34m\u001b[0m\u001b[0m\n\u001b[1;32m    591\u001b[0m         \u001b[0mres\u001b[0m \u001b[0;34m=\u001b[0m \u001b[0mtransformer\u001b[0m\u001b[0;34m.\u001b[0m\u001b[0mfit\u001b[0m\u001b[0;34m(\u001b[0m\u001b[0mX\u001b[0m\u001b[0;34m,\u001b[0m \u001b[0my\u001b[0m\u001b[0;34m,\u001b[0m \u001b[0;34m**\u001b[0m\u001b[0mfit_params\u001b[0m\u001b[0;34m)\u001b[0m\u001b[0;34m.\u001b[0m\u001b[0mtransform\u001b[0m\u001b[0;34m(\u001b[0m\u001b[0mX\u001b[0m\u001b[0;34m)\u001b[0m\u001b[0;34m\u001b[0m\u001b[0m\n",
      "\u001b[0;32m/Users/jackcunningham/anaconda2/lib/python2.7/site-packages/sklearn/feature_extraction/text.pyc\u001b[0m in \u001b[0;36mfit_transform\u001b[0;34m(self, raw_documents, y)\u001b[0m\n\u001b[1;32m   1379\u001b[0m             \u001b[0mTf\u001b[0m\u001b[0;34m-\u001b[0m\u001b[0midf\u001b[0m\u001b[0;34m-\u001b[0m\u001b[0mweighted\u001b[0m \u001b[0mdocument\u001b[0m\u001b[0;34m-\u001b[0m\u001b[0mterm\u001b[0m \u001b[0mmatrix\u001b[0m\u001b[0;34m.\u001b[0m\u001b[0;34m\u001b[0m\u001b[0m\n\u001b[1;32m   1380\u001b[0m         \"\"\"\n\u001b[0;32m-> 1381\u001b[0;31m         \u001b[0mX\u001b[0m \u001b[0;34m=\u001b[0m \u001b[0msuper\u001b[0m\u001b[0;34m(\u001b[0m\u001b[0mTfidfVectorizer\u001b[0m\u001b[0;34m,\u001b[0m \u001b[0mself\u001b[0m\u001b[0;34m)\u001b[0m\u001b[0;34m.\u001b[0m\u001b[0mfit_transform\u001b[0m\u001b[0;34m(\u001b[0m\u001b[0mraw_documents\u001b[0m\u001b[0;34m)\u001b[0m\u001b[0;34m\u001b[0m\u001b[0m\n\u001b[0m\u001b[1;32m   1382\u001b[0m         \u001b[0mself\u001b[0m\u001b[0;34m.\u001b[0m\u001b[0m_tfidf\u001b[0m\u001b[0;34m.\u001b[0m\u001b[0mfit\u001b[0m\u001b[0;34m(\u001b[0m\u001b[0mX\u001b[0m\u001b[0;34m)\u001b[0m\u001b[0;34m\u001b[0m\u001b[0m\n\u001b[1;32m   1383\u001b[0m         \u001b[0;31m# X is already a transformed view of raw_documents so\u001b[0m\u001b[0;34m\u001b[0m\u001b[0;34m\u001b[0m\u001b[0m\n",
      "\u001b[0;32m/Users/jackcunningham/anaconda2/lib/python2.7/site-packages/sklearn/feature_extraction/text.pyc\u001b[0m in \u001b[0;36mfit_transform\u001b[0;34m(self, raw_documents, y)\u001b[0m\n\u001b[1;32m    867\u001b[0m \u001b[0;34m\u001b[0m\u001b[0m\n\u001b[1;32m    868\u001b[0m         vocabulary, X = self._count_vocab(raw_documents,\n\u001b[0;32m--> 869\u001b[0;31m                                           self.fixed_vocabulary_)\n\u001b[0m\u001b[1;32m    870\u001b[0m \u001b[0;34m\u001b[0m\u001b[0m\n\u001b[1;32m    871\u001b[0m         \u001b[0;32mif\u001b[0m \u001b[0mself\u001b[0m\u001b[0;34m.\u001b[0m\u001b[0mbinary\u001b[0m\u001b[0;34m:\u001b[0m\u001b[0;34m\u001b[0m\u001b[0m\n",
      "\u001b[0;32m/Users/jackcunningham/anaconda2/lib/python2.7/site-packages/sklearn/feature_extraction/text.pyc\u001b[0m in \u001b[0;36m_count_vocab\u001b[0;34m(self, raw_documents, fixed_vocab)\u001b[0m\n\u001b[1;32m    792\u001b[0m             \u001b[0;32mfor\u001b[0m \u001b[0mfeature\u001b[0m \u001b[0;32min\u001b[0m \u001b[0manalyze\u001b[0m\u001b[0;34m(\u001b[0m\u001b[0mdoc\u001b[0m\u001b[0;34m)\u001b[0m\u001b[0;34m:\u001b[0m\u001b[0;34m\u001b[0m\u001b[0m\n\u001b[1;32m    793\u001b[0m                 \u001b[0;32mtry\u001b[0m\u001b[0;34m:\u001b[0m\u001b[0;34m\u001b[0m\u001b[0m\n\u001b[0;32m--> 794\u001b[0;31m                     \u001b[0mfeature_idx\u001b[0m \u001b[0;34m=\u001b[0m \u001b[0mvocabulary\u001b[0m\u001b[0;34m[\u001b[0m\u001b[0mfeature\u001b[0m\u001b[0;34m]\u001b[0m\u001b[0;34m\u001b[0m\u001b[0m\n\u001b[0m\u001b[1;32m    795\u001b[0m                     \u001b[0;32mif\u001b[0m \u001b[0mfeature_idx\u001b[0m \u001b[0;32mnot\u001b[0m \u001b[0;32min\u001b[0m \u001b[0mfeature_counter\u001b[0m\u001b[0;34m:\u001b[0m\u001b[0;34m\u001b[0m\u001b[0m\n\u001b[1;32m    796\u001b[0m                         \u001b[0mfeature_counter\u001b[0m\u001b[0;34m[\u001b[0m\u001b[0mfeature_idx\u001b[0m\u001b[0;34m]\u001b[0m \u001b[0;34m=\u001b[0m \u001b[0;36m1\u001b[0m\u001b[0;34m\u001b[0m\u001b[0m\n",
      "\u001b[0;31mKeyboardInterrupt\u001b[0m: "
     ]
    }
   ],
   "source": [
    "tfid_lr_mod_H = make_pipeline(TfidfVectorizer(stop_words=custom_stop_words,\n",
    "                                              max_df=0.5,\n",
    "                                              max_features=10000,\n",
    "                                              ngram_range=(1, 2)\n",
    "                                             ),\n",
    "                              LogisticRegression(penalty='l1'),\n",
    "                             )\n",
    "\n",
    "tfid_lr_mod_H = tfid_lr_mod_H.fit(X_train, y_train)"
   ]
  },
  {
   "cell_type": "markdown",
   "metadata": {},
   "source": [
    "##### Logistic Regression Model (2)\n",
    "-  here i will create a pipeline for the different parameters on my Logistic Regression Model.\n",
    "-"
   ]
  },
  {
   "cell_type": "code",
   "execution_count": null,
   "metadata": {
    "collapsed": true
   },
   "outputs": [],
   "source": [
    "if 1 == 0: #this is without stratifying!\n",
    "    tfid_lr_mod = make_pipeline(TfidfVectorizer(stop_words='english',\n",
    "                                          max_df=0.3,\n",
    "                                          max_features=10000\n",
    "                                         ),\n",
    "                          LogisticRegression(),\n",
    "                          )\n",
    "    tfid_lr_mod = tfid_lr_mod.fit(X_train, y_train)\n",
    "\n",
    "    with open('tfid_lr_mod.pkl', 'w') as f:\n",
    "        pickle.dump(tfid_lr_mod, f)\n",
    "\n",
    "with open('tfid_lr_mod.pkl') as f:\n",
    "    tfid_lr_mod = pickle.load(f)\n",
    "    \n",
    "tfid_lr_mod_y_pred = tfid_lr_mod.predict(X_test)\n",
    "print accuracy_score(y_test, tfid_lr_mod_y_pred)\n",
    "print \"Number of features: \\n\", len(tfid_lr_mod.steps[0][1].get_feature_names())\n",
    "print \"Classification Report: \\m\"\n",
    "print classification_report(y_test,tfid_lr_mod_y_pred,target_names=[str(i) + ' Star' for i in range(1,6)])\n",
    "\n",
    "tfid_lr_mod_conmat = pd.DataFrame(np.array(confusion_matrix(y_test, tfid_lr_mod_y_pred)), index=['is_one_star', 'is_two_star','is_three_star','is_four_star','is_five_star'],\n",
    "                         columns=['p_one_star', 'p_two_star','p_three_star','p_four_star','p_five_star' ])\n",
    "print \"Confusion Matrix: \"\n",
    "display(tfid_lr_mod_conmat)"
   ]
  },
  {
   "cell_type": "markdown",
   "metadata": {},
   "source": [
    "##### Binomial Niave Bayes Model (2)"
   ]
  },
  {
   "cell_type": "code",
   "execution_count": 5,
   "metadata": {},
   "outputs": [
    {
     "name": "stdout",
     "output_type": "stream",
     "text": [
      "0.587674274043\n",
      "Number of features: 10000\n",
      "\n",
      "             precision    recall  f1-score   support\n",
      "\n",
      "     1 Star       0.63      0.70      0.67     80705\n",
      "     2 Star       0.48      0.22      0.31     71734\n",
      "     3 Star       0.48      0.25      0.33    103887\n",
      "     4 Star       0.48      0.54      0.51    204773\n",
      "     5 Star       0.68      0.81      0.74    270866\n",
      "\n",
      "avg / total       0.57      0.59      0.57    731965\n",
      "\n"
     ]
    }
   ],
   "source": [
    "#lets do multiNB\n",
    "if 1 == 0:\n",
    "    tfid_MNB_mod = make_pipeline(TfidfVectorizer(stop_words='english',\n",
    "                                          max_df=0.5,\n",
    "                                          max_features=10000,\n",
    "                                          ngram_range=(1, 2),               \n",
    "                                         ),\n",
    "                          MultinomialNB(alpha=0.00001),\n",
    "                          )\n",
    "    tfid_MNB_mod = tfid_MNB_mod.fit(X_train, y_train)\n",
    "\n",
    "    with open('tfid_MNB_mod.pkl', 'w') as f:\n",
    "        pickle.dump(tfid_MNB_mod, f)\n",
    "\n",
    "with open('tfid_lr_mod.pkl') as f:\n",
    "    tfid_lr_mod = pickle.load(f)\n",
    "    \n",
    "tfid_MNB_mod_y_pred = tfid_MNB_mod.predict(X_test)\n",
    "print accuracy_score(y_test, y_pred)\n",
    "print \"Number of features:\", len(tfid_MNB_mod.steps[0][1].get_feature_names())\n",
    "print\n",
    "print classification_report(y_test,y_pred,target_names=[str(i) + ' Star' for i in range(1,6)])\n"
   ]
  },
  {
   "cell_type": "markdown",
   "metadata": {},
   "source": [
    "##### Model Search\n",
    "-"
   ]
  },
  {
   "cell_type": "code",
   "execution_count": null,
   "metadata": {
    "collapsed": true
   },
   "outputs": [],
   "source": [
    "if 1 == 0:\n",
    "    models = {'KNC' : KNeighborsClassifier(),\n",
    "              'LOG' : LogisticRegression(),\n",
    "              'DEC_Tree' : DecisionTreeClassifier(),\n",
    "              'SVC' : SVC(), # try linear. - look into config. \n",
    "              'RAN' : RandomForestClassifier(),\n",
    "              'EXT' : ExtraTreesClassifier()}\n",
    "\n",
    "    tvec = TfidfVectorizer(stop_words='english',\n",
    "                           max_df=0.5,\n",
    "                           max_features=10000)\n",
    "\n",
    "    tvec.fit(rest_revs_cln.text)\n",
    "\n",
    "    with open('tvec.pkl', 'w') as f:\n",
    "        pickle.dump(tvec, f)\n",
    "\n",
    "    X_train_t = tvec.transform(X_train)\n",
    "    X_test_t = tvec.transform(X_test)\n",
    "\n",
    "    ls = [] #append classification name to new dictionary!!!\n",
    "\n",
    "    #check each model if can do n_jobs. \n",
    "\n",
    "    for modelname in models:\n",
    "        model = models[modelname]\n",
    "        print modelname\n",
    "        print\n",
    "        model.fit(X_train_t, y_train) \n",
    "        y_pred = model.predict(X_test_t)\n",
    "        score = accuracy_score(y_test, y_pred)\n",
    "        form = str(modelname)\n",
    "        ls.append([modelname,score])\n",
    "        print score\n",
    "        print \n",
    "        print classification_report(y_test,y_pred,target_names=[str(i) + ' Star' for i in range(1,6)])\n",
    "        with open('{}.pkl'.format(form), 'w') as f:\n",
    "            pickle.dump(model, f)\n",
    "\n",
    "    #with open('tfid_lr_mod.pkl') as f:\n",
    "    #    tfid_lr_mod = pickle.load(f)"
   ]
  },
  {
   "cell_type": "code",
   "execution_count": null,
   "metadata": {
    "collapsed": true
   },
   "outputs": [],
   "source": [
    "#nice CM;\n",
    "\n",
    "#too long!\n",
    "LR_heat_plt = sns.heatmap(docm(y_test, tfid_lr_mod_y_pred),xticklabels=rest_revs_cln.stars, yticklabels=rest_revs_cln.stars)\n",
    "LR_heat_plt.savefig(\"LR_heat_plt.png\")\n",
    "plt.show()"
   ]
  },
  {
   "cell_type": "code",
   "execution_count": 2,
   "metadata": {},
   "outputs": [
    {
     "ename": "NameError",
     "evalue": "name 'y_test' is not defined",
     "output_type": "error",
     "traceback": [
      "\u001b[0;31m---------------------------------------------------------------------------\u001b[0m",
      "\u001b[0;31mNameError\u001b[0m                                 Traceback (most recent call last)",
      "\u001b[0;32m<ipython-input-2-4b7d2aac1a5d>\u001b[0m in \u001b[0;36m<module>\u001b[0;34m()\u001b[0m\n\u001b[1;32m      1\u001b[0m \u001b[0;32mfrom\u001b[0m \u001b[0msklearn\u001b[0m\u001b[0;34m.\u001b[0m\u001b[0mmetrics\u001b[0m \u001b[0;32mimport\u001b[0m \u001b[0mconfusion_matrix\u001b[0m\u001b[0;34m\u001b[0m\u001b[0m\n\u001b[0;32m----> 2\u001b[0;31m \u001b[0mconfusion_matrix\u001b[0m\u001b[0;34m(\u001b[0m\u001b[0my_test\u001b[0m\u001b[0;34m,\u001b[0m\u001b[0my_pred\u001b[0m\u001b[0;34m,\u001b[0m\u001b[0mtarget_names\u001b[0m\u001b[0;34m=\u001b[0m\u001b[0;34m[\u001b[0m\u001b[0mstr\u001b[0m\u001b[0;34m(\u001b[0m\u001b[0mi\u001b[0m\u001b[0;34m)\u001b[0m \u001b[0;34m+\u001b[0m \u001b[0;34m' Star'\u001b[0m \u001b[0;32mfor\u001b[0m \u001b[0mi\u001b[0m \u001b[0;32min\u001b[0m \u001b[0mrange\u001b[0m\u001b[0;34m(\u001b[0m\u001b[0;36m1\u001b[0m\u001b[0;34m,\u001b[0m\u001b[0;36m6\u001b[0m\u001b[0;34m)\u001b[0m\u001b[0;34m]\u001b[0m\u001b[0;34m)\u001b[0m\u001b[0;34m\u001b[0m\u001b[0m\n\u001b[0m\u001b[1;32m      3\u001b[0m \u001b[0;34m\u001b[0m\u001b[0m\n",
      "\u001b[0;31mNameError\u001b[0m: name 'y_test' is not defined"
     ]
    }
   ],
   "source": [
    "from sklearn.metrics import confusion_matrix\n",
    "confusion_matrix(y_test,y_pred,target_names=[str(i) + ' Star' for i in range(1,6)])\n",
    "\n"
   ]
  },
  {
   "cell_type": "code",
   "execution_count": 6,
   "metadata": {
    "collapsed": true
   },
   "outputs": [],
   "source": [
    "y_pred = tfid_MNB_mod.predict(X_test)"
   ]
  },
  {
   "cell_type": "code",
   "execution_count": null,
   "metadata": {
    "collapsed": true
   },
   "outputs": [],
   "source": [
    "#first ROC;\n",
    "#below; predict proba below is predicting the probability of being in class 1 or 5.\n",
    "#we can also change the threshold of predicit proba. default is 0.5. \n",
    "#in the graph, threshold of 0, mean TP and FP is also zero.\n",
    "#threshold of 1, both are 1. \n",
    "#precicting class 1 or 5!\n",
    "\n",
    "#True positive rate 1 = Recall\n",
    "#Flase positive rate 1 = precision. \n",
    "preditons_binarized = y_test[(rest_revs_cln.stars==[1]) | (rest_revs_cln.stars==[5])].map(lambda x: 0 if x==5 else 1)\n",
    "\n",
    "tflrm_yhat_pp = tfid_lr_mod_H.predict_proba(X_test[(rest_revs_cln.stars==[1]) | (rest_revs_cln.stars==[5])])\n",
    "#Y_pp = pd.DataFrame(tfid_lr_mod_H.predict_proba(X_test), columns=['1_Star','2_Star', '3_Star', '4_Star', '5_Star'])\n",
    "\n",
    "#precicting class 1 or 5!\n",
    "fpr, tpr, threshold = roc_curve(preditons_binarized, tflrm_yhat_pp[:,1])\n",
    "#fpr, tpr, threshold = roc_curve(preditons_binarized, tflrm_yhat_pp[:,1])\n",
    "\n",
    "roc_auc = auc(fpr, tpr)\n",
    "\n",
    "plt.figure(figsize=[8,8])\n",
    "plt.plot(fpr, tpr, label='ROC curve (area = %0.3f)' % roc_auc, linewidth=4)\n",
    "plt.plot([0, 1], [0, 1], 'k--', linewidth=4)\n",
    "plt.xlim([-0.05, 1.0])\n",
    "plt.ylim([-0.05, 1.05])\n",
    "plt.xlabel('False Positive Rate', fontsize=18)\n",
    "plt.ylabel('True Positive Rate', fontsize=18)\n",
    "plt.title('Receiver operating characteristic: is 5 stat', fontsize=18)\n",
    "plt.legend(loc=\"lower right\")\n",
    "plt.show()"
   ]
  },
  {
   "cell_type": "markdown",
   "metadata": {},
   "source": [
    "##### Below I'd like to optimize my MutlinomialNB model using Gridsearch\n",
    "-  NB: This took too long to run, so I will try running in an AWS instance..\n"
   ]
  },
  {
   "cell_type": "code",
   "execution_count": 1,
   "metadata": {
    "collapsed": true
   },
   "outputs": [],
   "source": [
    "#WORKSWITH SMALLER DF, Unfortantely could not complete at this stage\n",
    "#due to time taken running:\n",
    "if 1 == 0:\n",
    "    pipeline = Pipeline([\n",
    "        ('vect', TfidfVectorizer(stop_words=custom_stop_words)),\n",
    "        ('mNB', MultinomialNB())\n",
    "    ])\n",
    "\n",
    "    parameters = {\n",
    "        'vect__max_df': (0.5, 1), #key ,two underscores, argument\n",
    "        'vect__max_features' : (5000, 10000),\n",
    "        'vect__ngram_range': ((1, 1), (1, 2)),  # unigrams or bigrams\n",
    "        'mNB__alpha': (0.00001, 0.000001)\n",
    "    }\n",
    "\n",
    "    grid_search = GridSearchCV(pipeline, parameters, n_jobs=-1, verbose=1, cv=3)\n",
    "\n",
    "    print(\"Performing grid search...\")\n",
    "    print(\"pipeline:\", [name for name, _ in pipeline.steps])\n",
    "    print(\"parameters:\")\n",
    "    pprint(parameters)\n",
    "    t0 = time()\n",
    "    #### we fit it\n",
    "    grid_search.fit(X_train, y_train)\n",
    "    print(\"done in %0.3fs\" % (time() - t0))\n",
    "    print()\n",
    "    print(\"Best score: %0.3f\" % grid_search.best_score_)\n",
    "    print(\"Best parameters set:\")\n",
    "    #### get the best parameters\n",
    "    best_parameters = grid_search.best_estimator_.get_params()\n",
    "    for param_name in sorted(parameters.keys()):\n",
    "        print(\"\\t%s: %r\" % (param_name, best_parameters[param_name]))"
   ]
  },
  {
   "cell_type": "code",
   "execution_count": null,
   "metadata": {
    "collapsed": true
   },
   "outputs": [],
   "source": []
  },
  {
   "cell_type": "code",
   "execution_count": null,
   "metadata": {
    "collapsed": true
   },
   "outputs": [],
   "source": []
  },
  {
   "cell_type": "code",
   "execution_count": null,
   "metadata": {
    "collapsed": true
   },
   "outputs": [],
   "source": [
    "#############################################################################"
   ]
  },
  {
   "cell_type": "code",
   "execution_count": null,
   "metadata": {
    "collapsed": true
   },
   "outputs": [],
   "source": [
    "X = revs_five_one.text\n",
    "y = revs_five_one.stars\n",
    "\n",
    "#split into training and testing sets; \n",
    "X_train, X_test, y_train, y_test = train_test_split(X, y, random_state=1)"
   ]
  },
  {
   "cell_type": "code",
   "execution_count": null,
   "metadata": {
    "collapsed": true
   },
   "outputs": [],
   "source": []
  },
  {
   "cell_type": "code",
   "execution_count": null,
   "metadata": {
    "collapsed": true
   },
   "outputs": [],
   "source": [
    "#CP:  WEEK 8 DAY 3; LAB\n",
    "#SUBSET REVIEWS TO BEST AND WORST; \n",
    "\n",
    "revs_five_one = revs[(revs.stars==5) | (revs.stars==1)]"
   ]
  },
  {
   "cell_type": "code",
   "execution_count": null,
   "metadata": {
    "collapsed": true
   },
   "outputs": [],
   "source": [
    "X = revs_five.text\n",
    "y = revs_five.stars\n",
    "\n",
    "#split into training and testing sets; \n",
    "X_train, X_test, y_train, y_test = train_test_split(X, y, random_state=1)"
   ]
  },
  {
   "cell_type": "code",
   "execution_count": null,
   "metadata": {
    "collapsed": true
   },
   "outputs": [],
   "source": [
    "print len(X_train)\n",
    "print len(X_test)"
   ]
  },
  {
   "cell_type": "code",
   "execution_count": null,
   "metadata": {
    "collapsed": true
   },
   "outputs": [],
   "source": [
    "vect = CountVectorizer()\n",
    "\n",
    "X_train_dtm = vect.fit_transform(X_train)\n",
    "X_test_dtm = vect.transform(X_test)"
   ]
  },
  {
   "cell_type": "code",
   "execution_count": null,
   "metadata": {
    "collapsed": true
   },
   "outputs": [],
   "source": [
    "# use Naive Bayes  to predict the star rating\n",
    "nb = MultinomialNB()\n",
    "nb.fit(X_train_dtm, y_train)\n",
    "y_pred_class = nb.predict(X_test_dtm)\n",
    "\n",
    "# calculate accuracy\n",
    "print metrics.accuracy_score(y_test, y_pred_class)"
   ]
  },
  {
   "cell_type": "code",
   "execution_count": null,
   "metadata": {
    "collapsed": true
   },
   "outputs": [],
   "source": [
    "rf = RandomForestClassifier()\n",
    "rf.fit(X_train_dtm.todense(), y_train)\n",
    "y_pred_class = rf.predict(X_test_dtm.todense())\n",
    "\n",
    "# calculate accuracy\n",
    "print metrics.accuracy_score(y_test, y_pred_class)"
   ]
  },
  {
   "cell_type": "code",
   "execution_count": null,
   "metadata": {
    "collapsed": true
   },
   "outputs": [],
   "source": [
    "#CP: \n",
    "#USING COUNT VECOTRIXER TO CONVERT THE TRAINING AND TESTING TEXT DATA.\n",
    "#\n",
    "\n",
    "vect"
   ]
  },
  {
   "cell_type": "code",
   "execution_count": null,
   "metadata": {
    "collapsed": true
   },
   "outputs": [],
   "source": [
    "def docm(y_true, y_pred, labels=None):\n",
    "    cm = confusion_matrix(y_true, y_pred)\n",
    "    if labels is not None:\n",
    "        cols = ['p_'+c for c in labels]\n",
    "        df = pd.DataFrame(cm, index=labels, columns=cols)\n",
    "    else:\n",
    "        cols = ['p_'+str(i) for i in xrange(len(cm))]\n",
    "        df = pd.DataFrame(cm, columns=cols)\n",
    "    return df"
   ]
  },
  {
   "cell_type": "code",
   "execution_count": null,
   "metadata": {
    "collapsed": true
   },
   "outputs": [],
   "source": [
    "# NEXT STEP IS CLEANING OUT NON-ENGLISH REVIEW ROWS.. \n",
    "#do this but with stop words, i.e. does text contain english stop words?\n",
    "#count stop words in text first in order to 'guage' threshold... "
   ]
  },
  {
   "cell_type": "code",
   "execution_count": null,
   "metadata": {
    "collapsed": true
   },
   "outputs": [],
   "source": [
    "import enchant\n",
    "d = enchant.Dict(\"en_US\")\n",
    "\n"
   ]
  },
  {
   "cell_type": "code",
   "execution_count": null,
   "metadata": {
    "collapsed": true
   },
   "outputs": [],
   "source": [
    "for i, row in enumerate(revs2.text):\n",
    "    word_len = len(row.split())\n",
    "    counter = 0\n",
    "    #print len(row)\n",
    "    for word in row.split():\n",
    "        if d.check(word):\n",
    "            counter += 1\n",
    "    if float(counter) / word_len > 0.75:\n",
    "#         print 1\n",
    "        #print i, 1\n",
    "        revs2.loc[i,'eng_chk'] = 1 #store as array first. \n",
    "    else:\n",
    "#         print 0\n",
    "        #print i, 0\n",
    "        revs2.loc[i,'eng_chk'] = 0\n",
    "\n"
   ]
  },
  {
   "cell_type": "markdown",
   "metadata": {
    "collapsed": true
   },
   "source": [
    "<div>Icons made by <a href=\"https://www.flaticon.com/authors/dave-gandy\" title=\"Dave Gandy\">Dave Gandy</a> from <a href=\"https://www.flaticon.com/\" title=\"Flaticon\">www.flaticon.com</a> is licensed by <a href=\"http://creativecommons.org/licenses/by/3.0/\" title=\"Creative Commons BY 3.0\" target=\"_blank\">CC 3.0 BY</a></div>"
   ]
  },
  {
   "cell_type": "code",
   "execution_count": null,
   "metadata": {
    "collapsed": true
   },
   "outputs": [],
   "source": []
  }
 ],
 "metadata": {
  "kernelspec": {
   "display_name": "Python 2",
   "language": "python",
   "name": "python2"
  },
  "language_info": {
   "codemirror_mode": {
    "name": "ipython",
    "version": 2
   },
   "file_extension": ".py",
   "mimetype": "text/x-python",
   "name": "python",
   "nbconvert_exporter": "python",
   "pygments_lexer": "ipython2",
   "version": "2.7.13"
  }
 },
 "nbformat": 4,
 "nbformat_minor": 2
}
